{
 "cells": [
  {
   "cell_type": "markdown",
   "id": "82491cdf",
   "metadata": {},
   "source": [
    "# Working with contexts using NLTK\n"
   ]
  },
  {
   "cell_type": "markdown",
   "id": "5e9631dd",
   "metadata": {},
   "source": [
    "NLTK is a powerful tool to work on Natural Language Processing. Some interesting and usuful approaches are to search a word applied in contexts, understanding the author's intent with that word, search similar words application and search the application of two or more words in a same context, thus, you can understand how the author associate those two or more words.\n",
    "\n",
    "Below are examples of how to do that stated above."
   ]
  },
  {
   "cell_type": "code",
   "execution_count": 3,
   "id": "ab39c889",
   "metadata": {},
   "outputs": [],
   "source": [
    "#Importing libs \n",
    "import matplotlib.pyplot as plt\n",
    "import numpy as np\n",
    "import pandas as pd\n",
    "import nltk"
   ]
  },
  {
   "cell_type": "code",
   "execution_count": 4,
   "id": "c731457b",
   "metadata": {},
   "outputs": [
    {
     "name": "stdout",
     "output_type": "stream",
     "text": [
      "*** Introductory Examples for the NLTK Book ***\n",
      "Loading text1, ..., text9 and sent1, ..., sent9\n",
      "Type the name of the text or sentence to view it.\n",
      "Type: 'texts()' or 'sents()' to list the materials.\n",
      "text1: Moby Dick by Herman Melville 1851\n",
      "text2: Sense and Sensibility by Jane Austen 1811\n",
      "text3: The Book of Genesis\n",
      "text4: Inaugural Address Corpus\n",
      "text5: Chat Corpus\n",
      "text6: Monty Python and the Holy Grail\n",
      "text7: Wall Street Journal\n",
      "text8: Personals Corpus\n",
      "text9: The Man Who Was Thursday by G . K . Chesterton 1908\n"
     ]
    }
   ],
   "source": [
    "#Calling the texts\n",
    "from nltk.book import *"
   ]
  },
  {
   "cell_type": "code",
   "execution_count": 5,
   "id": "698572bc",
   "metadata": {},
   "outputs": [
    {
     "data": {
      "text/plain": [
       "<Text: The Book of Genesis>"
      ]
     },
     "execution_count": 5,
     "metadata": {},
     "output_type": "execute_result"
    }
   ],
   "source": [
    "#Testing the text display\n",
    "text3"
   ]
  },
  {
   "cell_type": "markdown",
   "id": "1dd2c44e",
   "metadata": {},
   "source": [
    "# concordance, similar and common_contexts commands"
   ]
  },
  {
   "cell_type": "markdown",
   "id": "3a8a5d7c",
   "metadata": {},
   "source": [
    "Let's start with concordance command. That command returns all contexts in which the selected word appears. From that, we can understand the connotation that an author assigns to a word."
   ]
  },
  {
   "cell_type": "code",
   "execution_count": 31,
   "id": "a6138cc4",
   "metadata": {},
   "outputs": [
    {
     "name": "stdout",
     "output_type": "stream",
     "text": [
      "Displaying 25 of 231 matches:\n",
      "In the beginning God created the heaven and the earth . An\n",
      " face of the deep . And the Spirit of God moved upon the face of the waters . A\n",
      "ved upon the face of the waters . And God said , Let there be light : and there\n",
      " be light : and there was light . And God saw the light , that it was good : an\n",
      "aw the light , that it was good : and God divided the light from the darkness .\n",
      "ded the light from the darkness . And God called the light Day , and the darkne\n",
      " the morning were the first day . And God said , Let there be a firmament in th\n",
      "vide the waters from the waters . And God made the firmament , and divided the \n",
      "above the firmame and it was so . And God called the firmament Heaven . And the\n",
      "the morning were the second day . And God said , Let the waters under the heave\n",
      "the dry land appe and it was so . And God called the dry land Earth ; and the g\n",
      "gether of the waters called he Se and God saw that it was good . And God said ,\n",
      "Se and God saw that it was good . And God said , Let the earth bring forth gras\n",
      "seed was in itself , after his ki and God saw that it was good . And the evenin\n",
      " the morning were the third day . And God said , Let there be lights in the fir\n",
      "ight upon the ear and it was so . And God made two great lights ; the greater l\n",
      " the nig he made the stars also . And God set them in the firmament of the heav\n",
      " divide the light from the darkne and God saw that it was good . And the evenin\n",
      "the morning were the fourth day . And God said , Let the waters bring forth abu\n",
      "in the open firmament of heaven . And God created great whales , and every livi\n",
      "nd every winged fowl after his ki and God saw that it was good . And God blesse\n",
      "ki and God saw that it was good . And God blessed them , saying , Be fruitful ,\n",
      " the morning were the fifth day . And God said , Let the earth bring forth the \n",
      "arth after his ki and it was so . And God made the beast of the earth after his\n",
      "epeth upon the earth after his ki and God saw that it was good . And God said ,\n"
     ]
    }
   ],
   "source": [
    "#Searching context in which word \"God\" is inserted\n",
    "text3.concordance('God')"
   ]
  },
  {
   "cell_type": "markdown",
   "id": "b2618266",
   "metadata": {},
   "source": [
    "As you may see, the word \"God\" is inserted in a context where he is a creator."
   ]
  },
  {
   "cell_type": "markdown",
   "id": "2eec72fb",
   "metadata": {},
   "source": [
    "Another command is similar( ), which is applied to search similar words in terms of semantic."
   ]
  },
  {
   "cell_type": "code",
   "execution_count": 10,
   "id": "d6d0b700",
   "metadata": {},
   "outputs": [
    {
     "name": "stdout",
     "output_type": "stream",
     "text": [
      "god cattle beast him you me not gold thee bread jacob corn day them\n",
      "life fowl dust adam afraid skins\n"
     ]
    }
   ],
   "source": [
    "#Searching words similar to good\n",
    "text3.similar('good')"
   ]
  },
  {
   "cell_type": "markdown",
   "id": "b9d2323c",
   "metadata": {},
   "source": [
    "The returned result shows how the author of Genesis associates the word \"good\". For him, it is related to creations of God and connotes a positive term."
   ]
  },
  {
   "cell_type": "markdown",
   "id": "d86be2cd",
   "metadata": {},
   "source": [
    "Using the common contexts command, we can observe two or more words sharing the same context, thus, we can understand common applications and how the author works those two or more words."
   ]
  },
  {
   "cell_type": "code",
   "execution_count": 45,
   "id": "66ea7735",
   "metadata": {},
   "outputs": [
    {
     "name": "stdout",
     "output_type": "stream",
     "text": [
      "and_said and_saw said_hath and_made and_blessed as_had and_called\n",
      "and_spake which_had for_said and_went for_hath which_hath and_will\n",
      "and_divided and_set and_looked and_heard and_was that_did\n"
     ]
    }
   ],
   "source": [
    "#Searching contexts where the word God is inserted with other words\n",
    "text3.common_contexts(['God', 'he']) #God and he"
   ]
  },
  {
   "cell_type": "code",
   "execution_count": 49,
   "id": "73ac1e69",
   "metadata": {},
   "outputs": [
    {
     "name": "stdout",
     "output_type": "stream",
     "text": [
      "and_said as_had and_called and_spake which_had of_is of_and of_saw\n",
      "before_and unto_and and_was which_gave be_s in_s\n"
     ]
    }
   ],
   "source": [
    "text3.common_contexts(['God', 'pharaoh']) #God and Pharaoh"
   ]
  },
  {
   "cell_type": "code",
   "execution_count": 50,
   "id": "7bbed1eb",
   "metadata": {
    "scrolled": true
   },
   "outputs": [
    {
     "name": "stdout",
     "output_type": "stream",
     "text": [
      "and_said and_made and_called which_had and_went of_and and_hearkened\n",
      "and_set unto_and and_was in_s and_came unto_that\n"
     ]
    }
   ],
   "source": [
    "text3.common_contexts(['God', 'Abraham']) #God and Abraham"
   ]
  },
  {
   "cell_type": "code",
   "execution_count": 51,
   "id": "35861bc7",
   "metadata": {},
   "outputs": [
    {
     "name": "stdout",
     "output_type": "stream",
     "text": [
      "and_said and_saw and_spake and_was and_sent\n"
     ]
    }
   ],
   "source": [
    "text3.common_contexts(['God', 'Judah']) #God and Judah"
   ]
  },
  {
   "cell_type": "code",
   "execution_count": 55,
   "id": "b518ce4b",
   "metadata": {},
   "outputs": [
    {
     "name": "stdout",
     "output_type": "stream",
     "text": [
      "and_said and_saw of_and with_after unto_and and_heard and_was\n",
      "that_hath but_shall\n"
     ]
    }
   ],
   "source": [
    "text3.common_contexts(['God', 'Sarah']) #God and Sarah"
   ]
  },
  {
   "cell_type": "markdown",
   "id": "e8658ac3",
   "metadata": {},
   "source": [
    "Those responses show that God relates to those characters by saying them something or doing something into the men's direction."
   ]
  },
  {
   "cell_type": "markdown",
   "id": "40b671aa",
   "metadata": {},
   "source": [
    "# Lexical dispersion plot"
   ]
  },
  {
   "cell_type": "markdown",
   "id": "e82a282c",
   "metadata": {},
   "source": [
    "An interesting approach is the use of a plot. Lexical Dispersion Plot (LDP) evidences the frequency of a word in a given text, as you can see below."
   ]
  },
  {
   "cell_type": "code",
   "execution_count": 74,
   "id": "cc5752c6",
   "metadata": {},
   "outputs": [
    {
     "data": {
      "image/png": "[encoded data removed]",
      "text/plain": [
       "<Figure size 1152x576 with 1 Axes>"
      ]
     },
     "metadata": {
      "needs_background": "light"
     },
     "output_type": "display_data"
    }
   ],
   "source": [
    "#Ploting Lexical Dispersion Plot\n",
    "plt.figure(figsize=(16,8))\n",
    "text3.dispersion_plot(['God', 'pharaoh', 'Abraham', 'Judah', 'Sarah', 'Adam', 'evil', 'iniquity', 'sin'])"
   ]
  },
  {
   "cell_type": "markdown",
   "id": "889b469b",
   "metadata": {},
   "source": [
    "Between the words selected in the book of Genesis, the most frequent is God, followed by Abraham."
   ]
  }
 ],
 "metadata": {
  "kernelspec": {
   "display_name": "Python 3",
   "language": "python",
   "name": "python3"
  },
  "language_info": {
   "codemirror_mode": {
    "name": "ipython",
    "version": 3
   },
   "file_extension": ".py",
   "mimetype": "text/x-python",
   "name": "python",
   "nbconvert_exporter": "python",
   "pygments_lexer": "ipython3",
   "version": "3.8.8"
  }
 },
 "nbformat": 4,
 "nbformat_minor": 5
}
