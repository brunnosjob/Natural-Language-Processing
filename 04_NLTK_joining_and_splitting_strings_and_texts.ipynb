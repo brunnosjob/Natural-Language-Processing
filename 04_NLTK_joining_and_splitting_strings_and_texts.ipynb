{
 "cells": [
  {
   "cell_type": "markdown",
   "id": "163ed09c",
   "metadata": {},
   "source": [
    "# Joining and splitting texts or large unique strings\n",
    "\n",
    "There are two ordinary actions when dealing with texts: joining and splitting strings. Here I cover how to do that."
   ]
  },
  {
   "cell_type": "markdown",
   "id": "bc5d0007",
   "metadata": {},
   "source": [
    "There are some functions to reach that. The first is join( ) and the second is split( ). That function joins words/strings in an unique string or text."
   ]
  },
  {
   "cell_type": "code",
   "execution_count": 9,
   "id": "ea2a248b",
   "metadata": {},
   "outputs": [
    {
     "name": "stdout",
     "output_type": "stream",
     "text": [
      "['In', 'the', 'beginning', 'God', 'created', 'the', 'heaven', 'and', 'the', 'earth', '.']\n"
     ]
    }
   ],
   "source": [
    "#Storing initial words of Genesis into a new store\n",
    "testing_genesis = text3[:11]\n",
    "print(testing_genesis)"
   ]
  },
  {
   "cell_type": "markdown",
   "id": "7a7ad721",
   "metadata": {},
   "source": [
    "Note that the output is a set of strings which are splitted. If we want to split them, we use the join function."
   ]
  },
  {
   "cell_type": "code",
   "execution_count": 11,
   "id": "ce0ba6ff",
   "metadata": {},
   "outputs": [
    {
     "data": {
      "text/plain": [
       "'In the beginning God created the heaven and the earth .'"
      ]
     },
     "execution_count": 11,
     "metadata": {},
     "output_type": "execute_result"
    }
   ],
   "source": [
    "#Joining words using join function\n",
    "joined_testing_genesis = ' '.join(testing_genesis)\n",
    "joined_testing_genesis "
   ]
  },
  {
   "cell_type": "markdown",
   "id": "2a92bdce",
   "metadata": {},
   "source": [
    "Maybe we eant to split a text into strings. For this, we use split function. Below it is demonstrated."
   ]
  },
  {
   "cell_type": "code",
   "execution_count": 12,
   "id": "344220f6",
   "metadata": {},
   "outputs": [
    {
     "name": "stdout",
     "output_type": "stream",
     "text": [
      "['In', 'the', 'beginning', 'God', 'created', 'the', 'heaven', 'and', 'the', 'earth', '.']\n"
     ]
    }
   ],
   "source": [
    "#Spliting the text or unique string\n",
    "split_joined_testing_genesis = joined_testing_genesis.split()\n",
    "print(split_joined_testing_genesis)"
   ]
  }
 ],
 "metadata": {
  "kernelspec": {
   "display_name": "Python 3",
   "language": "python",
   "name": "python3"
  },
  "language_info": {
   "codemirror_mode": {
    "name": "ipython",
    "version": 3
   },
   "file_extension": ".py",
   "mimetype": "text/x-python",
   "name": "python",
   "nbconvert_exporter": "python",
   "pygments_lexer": "ipython3",
   "version": "3.8.8"
  }
 },
 "nbformat": 4,
 "nbformat_minor": 5
}
