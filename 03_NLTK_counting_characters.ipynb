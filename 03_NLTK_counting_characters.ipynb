{
 "cells": [
  {
   "cell_type": "markdown",
   "id": "76d86214",
   "metadata": {},
   "source": [
    "# Aspects of a text by number of characters\n",
    "\n",
    "Studying a text from the number of characters that its words usually have can give us important information. Comparing 20 text types that fit into just two text classes using character counts can show significant patterns. Perhaps recipes have smaller words than scientific articles. This would be a text classification criterion."
   ]
  },
  {
   "cell_type": "code",
   "execution_count": 1,
   "id": "ab39c889",
   "metadata": {},
   "outputs": [],
   "source": [
    "#Importing libs \n",
    "import matplotlib.pyplot as plt\n",
    "import numpy as np\n",
    "import pandas as pd\n",
    "import nltk"
   ]
  },
  {
   "cell_type": "code",
   "execution_count": 2,
   "id": "c731457b",
   "metadata": {},
   "outputs": [
    {
     "name": "stdout",
     "output_type": "stream",
     "text": [
      "*** Introductory Examples for the NLTK Book ***\n",
      "Loading text1, ..., text9 and sent1, ..., sent9\n",
      "Type the name of the text or sentence to view it.\n",
      "Type: 'texts()' or 'sents()' to list the materials.\n",
      "text1: Moby Dick by Herman Melville 1851\n",
      "text2: Sense and Sensibility by Jane Austen 1811\n",
      "text3: The Book of Genesis\n",
      "text4: Inaugural Address Corpus\n",
      "text5: Chat Corpus\n",
      "text6: Monty Python and the Holy Grail\n",
      "text7: Wall Street Journal\n",
      "text8: Personals Corpus\n",
      "text9: The Man Who Was Thursday by G . K . Chesterton 1908\n"
     ]
    }
   ],
   "source": [
    "#Calling the texts\n",
    "from nltk.book import *"
   ]
  },
  {
   "cell_type": "markdown",
   "id": "974cc43c",
   "metadata": {},
   "source": [
    "# Collocations"
   ]
  },
  {
   "cell_type": "markdown",
   "id": "bd8d3159",
   "metadata": {},
   "source": [
    "A collocation is a sequence of words that occurs together unusually often. A characteristic of collocations is that they are resistent to substitution with words that have similar senses.\n",
    "\n",
    "The collocations are essentially just frequent bigrams.\n",
    "\n",
    "The collocations that emerge are very specific to the genre of the texts."
   ]
  },
  {
   "cell_type": "code",
   "execution_count": 29,
   "id": "6afffd8b",
   "metadata": {},
   "outputs": [
    {
     "name": "stdout",
     "output_type": "stream",
     "text": [
      "said unto; pray thee; thou shalt; thou hast; thy seed; years old;\n",
      "spake unto; thou art; LORD God; every living; God hath; begat sons;\n",
      "seven years; shalt thou; little ones; living creature; creeping thing;\n",
      "savoury meat; thirty years; every beast; ill favoured; shall come;\n",
      "creepeth upon; thy servant; four hundred; LORD hath; every man; hast\n",
      "done; bless thee; eight hundred; five years; burnt offering; God said;\n",
      "unto thee; nine hundred; right hand; Thou shalt; thy father; chief\n",
      "butler; appeared unto; found grace; yet alive; find grace; hundred\n",
      "years; came near; thy brother; brought forth; third day; every\n",
      "creeping; gray hairs; hath taken; unto Joseph; youngest brother; taken\n",
      "away; thy servants; Potipherah priest; ewe lambs; mischief befall; old\n",
      "age; fifth part; fifty righteous; art thou; two daughters; many\n",
      "colours; thou wilt; well favoured; LORD said; draw water; thou mayest;\n",
      "bring forth; thy wife; three hundred; everlasting covenant; God\n",
      "created; drink wine; thine eyes; true men; forty days; went forth; may\n",
      "bless; twenty years; God saw; east wind; eat bread; Joseph said;\n",
      "hundred sixty; unto Abraham; shall say; land wherein; wilt thou; thy\n",
      "brethren; hearken unto; thin ears; every fowl; chief baker; LORD\n",
      "appeared; seven days; every thing; fell upon; Jacob said\n"
     ]
    }
   ],
   "source": [
    "#Searching 20 collocations\n",
    "text3.collocations(num=100)"
   ]
  },
  {
   "cell_type": "code",
   "execution_count": 63,
   "id": "b72abe7e",
   "metadata": {},
   "outputs": [
    {
     "data": {
      "text/plain": [
       "FreqDist({3: 11599, 4: 8984, 1: 7408, 2: 5968, 5: 4693, 6: 2549, 7: 1674, 8: 928, 9: 599, 10: 182, ...})"
      ]
     },
     "execution_count": 63,
     "metadata": {},
     "output_type": "execute_result"
    }
   ],
   "source": [
    "#Generating a dictionary with words lengths and their frequencies\n",
    "FreqDist([len(w) for w in text3])"
   ]
  },
  {
   "cell_type": "markdown",
   "id": "5ec0a716",
   "metadata": {},
   "source": [
    "Above is a dictionary that displayes words lengths and their frequencies. It is usuful to know statistics about the words lengths."
   ]
  },
  {
   "cell_type": "code",
   "execution_count": 61,
   "id": "35dcccce",
   "metadata": {},
   "outputs": [
    {
     "data": {
      "text/plain": [
       "count    15.000000\n",
       "mean      8.000000\n",
       "std       4.472136\n",
       "min       1.000000\n",
       "25%       4.500000\n",
       "50%       8.000000\n",
       "75%      11.500000\n",
       "max      15.000000\n",
       "dtype: float64"
      ]
     },
     "execution_count": 61,
     "metadata": {},
     "output_type": "execute_result"
    }
   ],
   "source": [
    "#Displaying statistics about words lengths\n",
    "pd.Series(FreqDist([len(w) for w in text3]).keys()).describe()"
   ]
  },
  {
   "cell_type": "markdown",
   "id": "6c3bfb06",
   "metadata": {},
   "source": [
    "On average, the words have 8 characters."
   ]
  },
  {
   "cell_type": "code",
   "execution_count": 67,
   "id": "87e940f8",
   "metadata": {},
   "outputs": [
    {
     "data": {
      "text/plain": [
       "dict_items([(2, 5968), (3, 11599), (9, 599), (7, 1674), (6, 2549), (5, 4693), (1, 7408), (4, 8984), (8, 928), (10, 182), (11, 123), (12, 39), (13, 9), (14, 7), (15, 2)])"
      ]
     },
     "execution_count": 67,
     "metadata": {},
     "output_type": "execute_result"
    }
   ],
   "source": [
    "#Generating a dictionary of items\n",
    "FreqDist([len(w) for w in text3]).items()"
   ]
  },
  {
   "cell_type": "markdown",
   "id": "34f84034",
   "metadata": {},
   "source": [
    "That type of dict groups keys and values into a tuple."
   ]
  },
  {
   "cell_type": "markdown",
   "id": "26173f26",
   "metadata": {},
   "source": [
    "The max( ) returns the words lengths most frequent."
   ]
  },
  {
   "cell_type": "code",
   "execution_count": 74,
   "id": "8e248e7d",
   "metadata": {},
   "outputs": [
    {
     "data": {
      "text/plain": [
       "3"
      ]
     },
     "execution_count": 74,
     "metadata": {},
     "output_type": "execute_result"
    }
   ],
   "source": [
    "#Searching the most frequent words lengths\n",
    "FreqDist([len(w) for w in text3]).max()"
   ]
  },
  {
   "cell_type": "markdown",
   "id": "574a5ffd",
   "metadata": {},
   "source": [
    "Applying the returned value into the filter, the most frequency is returned."
   ]
  },
  {
   "cell_type": "code",
   "execution_count": 75,
   "id": "587964ed",
   "metadata": {},
   "outputs": [
    {
     "data": {
      "text/plain": [
       "11599"
      ]
     },
     "execution_count": 75,
     "metadata": {},
     "output_type": "execute_result"
    }
   ],
   "source": [
    "#Seeking the frequency of the most frequent words lengths\n",
    "FreqDist([len(w) for w in text3])[3]"
   ]
  },
  {
   "cell_type": "markdown",
   "id": "93c53d46",
   "metadata": {},
   "source": [
    "Using the freq( ) function, we can know the presence of words with a determined length in terms of percentage."
   ]
  },
  {
   "cell_type": "code",
   "execution_count": 84,
   "id": "1c328f0c",
   "metadata": {},
   "outputs": [
    {
     "data": {
      "text/plain": [
       "0.2591144669823966"
      ]
     },
     "execution_count": 84,
     "metadata": {},
     "output_type": "execute_result"
    }
   ],
   "source": [
    "#Knowing the percentage of most word lengths\n",
    "FreqDist([len(w) for w in text3]).freq(3)"
   ]
  },
  {
   "cell_type": "markdown",
   "id": "814b4c4d",
   "metadata": {},
   "source": [
    "Words made up of 3 characters represent about 25,91% of the text."
   ]
  },
  {
   "cell_type": "code",
   "execution_count": 110,
   "id": "ac631486",
   "metadata": {},
   "outputs": [
    {
     "data": {
      "text/plain": [
       "0.005160396747386293"
      ]
     },
     "execution_count": 110,
     "metadata": {},
     "output_type": "execute_result"
    }
   ],
   "source": [
    "#Searching for the percentage of presence of the name God\n",
    "FreqDist([w for w in text3]).freq('God')"
   ]
  },
  {
   "cell_type": "markdown",
   "id": "1e9a353b",
   "metadata": {},
   "source": [
    "The word God represents about 5,16% of the text."
   ]
  }
 ],
 "metadata": {
  "kernelspec": {
   "display_name": "Python 3",
   "language": "python",
   "name": "python3"
  },
  "language_info": {
   "codemirror_mode": {
    "name": "ipython",
    "version": 3
   },
   "file_extension": ".py",
   "mimetype": "text/x-python",
   "name": "python",
   "nbconvert_exporter": "python",
   "pygments_lexer": "ipython3",
   "version": "3.8.8"
  }
 },
 "nbformat": 4,
 "nbformat_minor": 5
}
