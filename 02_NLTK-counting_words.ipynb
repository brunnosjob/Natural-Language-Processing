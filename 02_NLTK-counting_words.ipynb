{
 "cells": [
  {
   "cell_type": "markdown",
   "id": "7a98a96a",
   "metadata": {},
   "source": [
    "# Counting words\n",
    "\n",
    "## Frequency"
   ]
  },
  {
   "cell_type": "markdown",
   "id": "e3518938",
   "metadata": {},
   "source": [
    "The frequency of a word in a text and/or its unusual size can tell a lot about the text.\n",
    "\n",
    "In this jupyter notebook, I discuss some counting techniques."
   ]
  },
  {
   "cell_type": "code",
   "execution_count": 183,
   "id": "ab39c889",
   "metadata": {},
   "outputs": [],
   "source": [
    "#Importing libs \n",
    "import matplotlib.pyplot as plt\n",
    "import numpy as np\n",
    "import pandas as pd\n",
    "import nltk"
   ]
  },
  {
   "cell_type": "code",
   "execution_count": 184,
   "id": "c731457b",
   "metadata": {},
   "outputs": [],
   "source": [
    "#Calling the texts\n",
    "from nltk.book import *"
   ]
  },
  {
   "cell_type": "markdown",
   "id": "d42c1317",
   "metadata": {},
   "source": [
    "# Counting words"
   ]
  },
  {
   "cell_type": "code",
   "execution_count": 81,
   "id": "3a001901",
   "metadata": {},
   "outputs": [
    {
     "data": {
      "text/plain": [
       "44764"
      ]
     },
     "execution_count": 81,
     "metadata": {},
     "output_type": "execute_result"
    }
   ],
   "source": [
    "#Counting the amount of word in Genesis\n",
    "len(text3)"
   ]
  },
  {
   "cell_type": "code",
   "execution_count": 90,
   "id": "af226e34",
   "metadata": {},
   "outputs": [
    {
     "name": "stdout",
     "output_type": "stream",
     "text": [
      "{'o', 'Leummim', 'trained', 'Kenizzites', 'fowl', 'scarlet', 'reward', 'Beerlahairoi', 'Adam', 'enlarge', 'afflict', 'meanest', 'couching', 'dominion', 'on', 'Hushim', 'submit', 'They', 'waited', 'Cause', 'wor', 'if', 'Bedad', 'cloud', 'strange', 'hearth', 'buy', 'beari', 'rose', 'feet', 'rebuked', 'them', 'Look', 'destroy', 'si', 'east', 'descending', 'ruler', 'young', 'chariots', ';)', 'ones', 'Babel', 'birthright', 'ended', 'ri', 'wick', 'camel', 'verified', 'vale', 'Cursed', 'liest', 'overdrive', 'child', 'trough', 'stood', 'fifth', 'knowest', 'conceal', 'alo', 'wrong', 'early', 'quiver', 'womenservan', 'charge', 'olive', 'Even', 'much', 'truly', 'Wherefore', 'love', 'touching', 'service', 'kill', 'Tarshish', 'together', 'tithes', 'travail', 'wouldest', 'thoughts', 'evening', 'guard', 'countries', 'divided', 'perfect', 'Do', 'Abimael', 'Keturah', 'distress', 'company', 'occasion', 'This', 'gods', 'stay', 'kine', 'mourning', 'old', 'smote', 'silv', 'servan', 'Ishmeelites', 'bondmen', 'seven', 'serve', 'worship', 'grievous', 'ea', 'pleasure', 'Hemam', 'wander', 'doth', 'or', 'archer', 'without', 'shortly', 'deferred', 'Tell', 'knew', 'there', 'withhold', 'strakes', 'lift', 'formed', 'whereof', 'master', 'Shinab', 'Nod', 'Anamim', 'baskets', 'whomsoever', 'preserved', 'flesh', 'Send', 'excellency', 'sight', 'throughout', 'bondwoman', 'Muppim', 'battle', 'troop', 'chi', 'person', 'Eno', 'Magog', 'Duke', 'judged', 'fed', 'Es', 'Sitnah', 'Shur', 'Also', 'Hebrew', 'wrestlings', 'Caphtorim', 'rams', 'wheat', 'trees', 'long', 'Heber', 'Reu', 'border', 'themselv', 'lighted', 'Pison', 'whosoever', 'cattle', 'lamb', 'mast', 'offer', 'Are', 'itself', 'talking', 'Euphrat', 'bear', 'amongst', 'Mehujael', 'tongues', 'seventeenth', 'afraid', 'feeble', 'bracelets', 'reviv', 'book', 'butlership', 'praise', 'concerning', 'make', 'anointedst', 'Ajah', 'garment', 'portion', 'Seir', 'Kohath', 'journeyed', 'Sarah', 'rise', 'changed', 'rid', 'sewed', 'whole', 'weapons', 'messengers', 'measures', 'comest', 'innocency', 'Gether', 'shewed', 'gold', 'covering', 'Ashbel', 'purposing', 'ghost', 'weig', 'turtledove', 'beget', 'presented', 'Jehovahjireh', 'earring', 'hired', 'they', 'window', 'watch', 'came', 'both', 'countenance', 'Cheran', 'worth', 'deeds', 'colts', 'vineyard', 'ewes', 'Avith', 'doubt', 'Beor', 'words', 'artificer', 'obeisance', 'Shillem', 'lodge', 'Damascus', 'sorely', 'Kirjatharba', 'eighty', 'therein', 'Lie', 'backward', 'kindness', 'Shobal', 'youngest', 'wit', 'merciful', 'fellow', 'caught', 'linen', 'd', 'womenservants', 'Because', 'progenitors', 'may', 'Pharez', 'yielding', 'Phara', 'Blessed', 'dreadful', 'a', 'earth', 'Drink', 'how', 'proceedeth', 'seas', 'Potiphar', 'establish', 'shield', 'cause', 'draw', 'eastward', 'fowls', 'bitter', 'grisled', 'precious', 'consume', 'Escape', 'pursue', 'justice', 'Mehetabel', 'taken', 'Say', 'concubi', 'thither', 'Twelve', 'cursed', 'priests', 'thee', '.', 'mourned', 'mocking', 'things', 'Deliver', 'Chezib', 'sepulchres', 'thoroughly', 'shut', 'wrestled', 'hadst', 'These', 'sto', 'smoke', 'dwell', 'westwa', 'Elbethel', 'displeased', 'conception', 'fishes', 'hills', 'Horites', 'Zarah', 'heavens', 'clean', 'wa', 'which', 'bundles', 'embraced', 'leaped', 'Moabites', 'next', 'according', 'Padanaram', 'Mizz', 'let', 'Where', 'damsel', 'dress', 'feed', 'wind', 'then', 'grieved', 'kindly', 'marriages', 'chariot', 'Ephraim', 'Jeush', 'between', 'shouldest', 'tillest', 'Padan', 'yesternight', 'gate', 'Perizzites', 'sheepshearers', 'large', 'royal', 'Gad', 'thi', 'poplar', 'eyes', 'say', 'damsels', 'nostrils', 'serva', 'Bela', 'thing', 'smite', 'So', 'seedtime', 'envied', 'Galeed', 'eleven', 'beginning', 'months', 'coats', 'crown', 'laws', 'overtake', 'made', 'concubines', 'charged', 'ascending', 'breed', 'Hiddekel', 'speedily', 'Egypt', 'smelled', 'Ammon', 'giving', 'Omar', 'thin', 'inn', 'menservants', 'over', 'your', 'woman', 'fail', 'sevens', 'Zeboiim', 'whose', 'Elparan', 'Arodi', 'willing', 'Dodanim', 'died', 'Whoso', 'verily', 'finding', 'I', 'Adah', 'Day', 'Amal', 'Ashteroth', 'loved', 'vowed', 'Lo', 'breaking', 'Hobah', 'merchant', 'shalt', 'pluckt', 'utmost', 'form', 'lords', 'supplanted', 'Mahalaleel', 'him', 'ashamed', 'signet', 'reproa', 'communed', 'yet', 'castles', 'lambs', 'led', 'Hanoch', 'Bilhah', 'nothing', 'birds', 'wickedly', 'offeri', 'bough', 'Birsha', 'handfuls', 'occupation', 'Accad', 'Fill', 'Shaveh', 'best', 'dust', 'Anah', 'refrained', 'Naamah', 'the', 'planted', 'pitch', 'dwe', 'Sheba', 'Ellasar', 'speckled', 'younge', 'touch', 'Epher', 'salvation', 'thereby', 'captive', 'pasture', 'gotten', 'nourish', 'Edomites', 'herd', 'Phut', 'almon', 'childr', 'here', 'able', 'perceived', 'mou', 'corn', 'ground', 'appe', 'Calah', 'sacrifice', 'arise', 'famished', 'Amraphel', 'households', 'Forasmuch', 'such', 'Our', 'Iram', 'firstlings', 'for', 'met', 'Shelah', 'brink', 'Haggi', 'There', 'acknowledged', 'it', 'abode', 'respect', 'trade', 'strength', 'Togarmah', 'door', 'discern', 'speech', 'secretly', '(', 'thicket', 'emptied', 'lower', 'goods', 'Have', 'tarried', 'given', 'Ye', 'songs', 'From', 'plant', 'hunt', 'mess', 'sheddeth', 'Machir', 'Amorites', 'budded', 'another', 'possess', 'places', 'night', 'interpret', 'Maachah', 'gard', 'circumcis', 'yielded', 'En', 'li', 'Jac', 'steward', 'peaceable', 'springing', 'so', 'breathed', 'sand', 'quite', 'ours', 'evil', 'desolate', 'sore', 'high', 'Timna', 'duke', 'his', 'waxed', 'slay', 'threshingfloor', 'brother', 'Arkite', 'hind', 'saw', 'vessels', 'fill', 'straw', 'Temani', 'aprons', 'season', 'accepted', 'Carmi', 'having', 'thus', 'Every', 'Then', 'Methusael', 'well', 'height', 'destitute', 'Esek', 'rulers', 'is', 'purchase', 'believed', 'wat', 'hence', 'us', 'loveth', 'rods', 'Laban', 'joint', 'Shem', 'meat', 'cometh', 'delivered', 'perform', 'A', 'compasseth', 'scatter', 'sheaves', 'brook', 'Phuvah', 'since', 'wherefore', 'fro', 'winged', 'rested', 'ribs', 'top', 'denied', 'badest', 'likeness', 'abomination', 'shed', 'first', 'remaineth', 'nig', 'behind', 'younger', 'but', 'savoury', 'sons', 'ewe', 'Jerah', 'hor', 'prisoners', 'bak', 'wages', 'Until', 'Ethiopia', 'sold', 'departing', 'oversig', 'little', 'twel', 'Zillah', 'uncovered', 'war', 'steal', 'pottage', 'Lamech', 'citi', 'week', 'double', 'mocked', 'vision', 'gavest', 'Almighty', 'Thirty', 'known', 'chain', 'desire', 'clothed', 'angel', 'hand', 'off', 'Egyptian', 'lingered', 'land', 'was', 'other', 'Lift', 'fast', 'bundle', 'furnace', 'received', 'spe', 'Casluhim', 'Onan', 'through', 'fine', 'Here', 'kn', 'cave', 'bruise', \"'\", 'Hazezontamar', 'daughers', 'sister', 'bottle', 'organ', 'Guni', 'either', 'As', 'following', 'going', 'coffin', 'open', 'Thus', 'slept', 'awaked', 'bands', 'caused', 'Jabal', 'bearing', 'Issachar', 'Zohar', 'softly', 'weep', 'sinning', 'Swear', 'white', 'dew', 'Ham', 'Iscah', 'spake', 'restrained', 'sent', 'shore', 'Neither', 'divide', 'Hear', 'multiplied', 'deceiver', 'fle', 'beyond', 'provender', 'power', 'Jabbok', 'fainted', 'Sarai', 'Cain', 'dwelling', 'lightly', 'upon', 'strove', 'strangers', 'Asher', 'gave', 'delight', 'prison', 'Fear', 'whither', 'visions', 'haven', 'sleep', 'whence', 'merchantmen', 'Adullamite', 'filled', 'divine', 'call', 'great', 'Abram', 'shepherd', 'provide', 'nuts', 'sell', 'work', 'flo', 'Ziphion', 'heads', 'Haran', 'Reumah', 'corrupt', 'guiltiness', 'store', 'Euphrates', 'thereof', 'hundredfo', 'anything', 'forgotten', 'Whereas', 'continued', 'Kemuel', 'gray', 'water', 'wombs', 'fruits', 'Calneh', 'tabret', 'hear', 'Bashemath', 'Remain', 'knowledge', 'coat', 'at', 'Lot', 'communing', 'Isa', 'tribes', 'meadow', 'vow', 'blessed', 'peop', 'heir', 'cry', 'hast', 'wine', 'Edar', 'save', 'Huz', 'sacrifices', 'servant', 'didst', 'honourable', 'prophet', 'God', 'become', 'endure', 'established', 'Kor', 'leave', 'grove', 'till', 'Gentiles', 'Elam', 'discreet', 'Fifteen', 'Tebah', 'forty', 'grow', 'fai', 'instead', 'street', 'reproved', 'laid', 'Thy', 'commandment', 'soul', 'dukes', 'house', 'ringstraked', 'troughs', 'these', 'embalm', 'continually', 'struggled', 'Mishma', 'Hemdan', 'must', 'stones', 'Admah', 'welfare', 'conspired', 'kissed', 'posterity', 'milch', 'went', 'possession', 'ladder', 'more', 'northward', 'Happy', 'righteousness', 'prevailed', 'Bethuel', 'creature', 'turn', 'stand', 'garmen', 'year', 'Jegarsahadutha', 'daughter', 'flaming', 'roll', 'reached', 'dark', 'Haste', 'Dothan', 'decreased', 'Get', 'lead', 'Aran', 'renown', 'Naphish', 'redeemed', 'haste', 'blame', 'thou', 'sword', 'cunning', 'ruled', 'badne', 'accept', 'beguiled', 'fourteenth', 'always', 'one', 'valley', 'whether', 'lying', 'lo', 'liveth', 'keep', 'Mesopotamia', 'very', 'stuff', 'hang', 'harp', 'rain', 'image', 'goeth', 'beheld', 'angels', 'Pass', 'fo', 'captain', 'eight', 'Speak', 'would', 'hearts', 'stricken', 'hate', 'appear', 'judge', 'Zimran', 'Not', 'soon', 'cleave', 'mercy', 'Rebekah', 'Hezron', 'Is', 'matter', 'storehouses', 'bodies', 'Make', 'armed', 'Edom', 'cities', 'health', 'Sheleph', 'fetcht', 'digged', 'Abrah', 'putting', 'follow', 'lamp', 'are', 'strong', 'Night', 'Ithran', 'vestures', 'Cast', 'dwelled', 'Moreover', 'mayest', 'Ezer', 'Peleg', 'Raamah', 'morter', 'bosom', 'la', 'understand', 'Eshcol', 'shear', 'hold', 'Jamin', 'feebler', 'guiding', 'else', 'Hadoram', 'whales', 'answer', 'daughters', 'told', 'aileth', 'wiv', 'Zepho', 'wittingly', 'betimes', 'Elon', 'violence', 'raiment', 'foal', 'deprived', 'take', 'vail', 'got', 'knowing', 'mouths', 'hardly', 'Eldaah', 'Sod', 'avenged', 'blossoms', 'cubits', 'firmame', 'affliction', 'Beeri', 'al', 'provision', 'ear', 'henceforth', 'too', 'Lasha', 'indeed', 'fathe', 'windows', 'lawgiver', 'Japhe', 'hasted', 'money', 'tar', 'spoiled', 'Gaham', 'being', 'sod', 'Salah', 'th', 'virgin', 'fled', 'Canaanitish', 'silver', 'milk', 'time', 'fou', 'midst', 'wrath', 'Joktan', 'seventy', 'ass', 'buried', 'suck', 'servants', 'With', 'stronger', 'deceived', 'twice', 'Abide', 'why', 'faces', 'afterward', 'Luz', 'within', 'Naaman', 'Earth', 'command', 'faileth', 'fifty', 'custom', 'prospered', 'flock', 'mountain', 'hous', 'edge', 'Sered', 'Only', 'deliver', 'declare', 'Tidal', 'plain', 'bowed', 'lovest', 'Sodom', 'should', 'second', 'rich', 'stript', 'maidservants', 'cakes', 'findeth', 'slaughter', 'saith', 'moreover', 'Mahalath', 'unto', 'Pathrusim', 'quickly', 'arms', 'basket', 'creepeth', 'Beriah', 'heels', 'appease', 'belly', 'mirth', 'we', 'cut', 'regard', 'sweet', 'Cush', 'broth', 'yea', 'Siddim', 'endued', 'stranger', 'Horite', 'reach', 'heav', 'despised', 'Abraham', 'Thou', 'burning', 'devour', 'hil', 'instructor', 'Serah', 'beast', 'interpretation', 'Jared', 'herself', 'flocks', 'At', 'Amalek', 'graciously', 'Peniel', 'Eve', 'magicians', 'green', 'built', 'shoulder', 'voice', 'Ephron', 'up', 'bless', 'prevail', ',', 'in', 'called', 'brethren', 'bed', 'rightly', 'just', 'alive', 'Penuel', 'tender', 'field', 'became', 'death', 'meal', 'thereon', 'lest', 'end', 'uppermost', 'Dinah', 'Dishan', 'Midian', 'lodged', 'Medan', 'stooped', 'feared', 'speak', 'Amalekites', 'prepared', 'garden', 'moveth', 'come', 'Bethel', 'bound', 'falsely', 'fall', 'asked', 'age', 'certain', 'Hagar', 'Hadad', 'Merari', 'Woman', 'unit', 'sit', 'greater', 'wealth', 'depart', 'Arise', 'Hadar', 'needeth', 'cold', 'bought', 'rewarded', 'embalmed', 'After', 'took', 'ride', ')', 'clothes', 'Meshech', 'Matred', 'dry', 'Sephar', 'shrubs', 'walk', 'dost', 'Up', 'Israel', 'mist', 'Hast', 'gat', 'suffered', 'asketh', 'maid', 'Which', 'Gaza', 'pillows', 'law', 'times', 'half', 'punishment', 'preserve', 'mountains', 'destroyed', 'place', 'poverty', 'womb', 'couched', 'bdellium', 'hard', 'ir', 'remember', 'foremost', 'Zilpah', 'parts', 'Belah', 'Enmishpat', 'current', 'hid', 'jud', 'lives', 'broken', 'leap', 'slew', 'boldly', 'shall', 'winter', 'generation', 'seest', 'Potipherah', 'marry', 'Shuni', 'bad', 'Chesed', 'Zidon', 'h', 'droves', 'office', 'done', 'fourteen', 'breadth', 'lade', 'doing', 'Shalem', 'wolf', 'tr', 'twenty', 'Dan', 'deceitfully', 'Jimnah', 'Gomer', 'prey', 'burdens', 'ford', 'above', 'said', 'Ararat', 'commune', 'obey', 'co', 'Rehoboth', 'brass', 'fath', 'smoking', 'Zaphnathpaaneah', 'man', 'Almodad', 'part', 'Esau', 'Rachel', 'oa', 'Shiloh', 'Arvadite', 'eyed', 'LORD', 'kiss', 'dreamed', 'Timnah', 'appeared', 'righteous', 'wrought', 'laugh', 'wall', 'By', 'brimstone', 'morrow', 'Shel', 'heel', 'Return', 'peace', 'sworn', 'golden', 'Jordan', 'sole', 'floor', 'numbered', 'hunting', 'choice', 'conceived', 'Naphtali', 'most', 'Adbeel', 'female', 'voi', 'appointed', 'While', 'frost', 'Ephrath', 'Hamor', 'thine', 'Sichem', 'issue', 'learned', 'Elah', 'Should', 'assigned', 'We', 'befall', 'officer', 'rank', 'Zoar', 'spread', 'gift', 'true', 'Jobab', 'heat', 'stalk', 'any', 'art', 'few', 'bou', 'getting', 'dunge', 'small', 'rib', 'ash', 'widowhood', 'saving', 'Lehabim', 'besought', 'restored', 'longeth', 'halted', 'pieces', 'drink', 'Jidlaph', 'fugitive', 'sh', 'statutes', 'mead', 'shoulders', 'found', 'Ophir', 'weaned', 'thirteenth', 'ou', 'out', 'Dishon', 'gr', 'Binding', 'walking', 'die', 'restore', 'corrupted', 'inheritance', 'sware', 'grown', 'each', 'never', 'whereby', 'pleasant', 'sow', 'wherein', 'generations', 'sin', 'hither', 'own', 'walked', 'Ur', 'Obal', 'bereaved', 'Manasseh', 'altar', 'bade', 'builded', 'Give', 'clusters', 'anoth', 'Zebul', 'Masrekah', 'honour', 'rooms', 'herein', 'raise', 'greatly', 'people', 'inherit', 'only', 'when', 'fie', 'sad', 'purchased', 'Jahzeel', 'uncircumcised', 'Bless', 'strengthened', 'folk', 'rode', 'because', 'mightier', 'hundred', 'four', 'treasure', 'nor', 'breath', 'Gilead', 'loud', 'names', 'ought', 'Ask', 'Massa', 'hurt', 'Peradventure', 'mind', 'before', 'all', 'goest', 'rained', 'lord', 'Hittite', 'Save', 'elders', 'am', 'thigh', 'curse', 'overseer', 'better', 'blood', 'been', 'Sabtah', 'hollow', 'herdmen', 'Nay', 'Kenites', 'beautiful', 'perish', 'males', 'counted', 'sinew', 'scattered', 'Hivite', 'Perizzite', 'Abidah', 'fly', 'watered', 'Sabtech', 'visited', 'gifts', 'bowels', 'lien', 'devoured', 'removed', 'Ashkenaz', 'pressed', 'Sidon', 'passed', 'Uzal', 'Two', 'tak', 'reigned', 'sure', 'Levi', 'dead', 'Shemeber', 'w', 'Gershon', 'widow', 'labour', 'multiplying', 'millions', 'na', 'Tubalcain', 'pitched', 'wherewith', 'Terah', 'divineth', 'sawest', 'compassed', 'held', 'Ebal', 'bulls', 'drought', 'Midianites', 'thy', 'It', 'Irad', 'sowed', 'gather', 'increased', 'sun', 'Joseph', 'ears', 'Lahairoi', 'mouth', 'stink', 'Gather', 'wife', 'couch', 'piece', 'officers', 'those', 'chesnut', 'gutters', 'receive', 'cease', 'toil', 'thirty', 'generatio', 'hindermost', 'back', 'order', 'prince', 'needs', 'inhabitants', 'eldest', 'add', 'Din', 'Shebah', 'prayed', 'blessi', 'Arioch', 'sea', 'Nahor', 'escaped', 'Eber', 'wept', 'Zibeon', 'And', 'rolled', 'she', 'thought', 'hundredth', 'heifer', 'likene', 'Pau', 'mention', 'speed', 'favour', 'Serug', 'closed', 'set', 'failed', 'kind', 'sackcloth', 'ev', 'repented', 'Phichol', 'sack', 'Bow', 'To', 'gathered', 'interpreted', 'quart', 'fierce', 'bank', 'name', 'branches', 'father', 'refrain', 'Madai', 'Can', 'Ishmael', 'exceedingly', 'coming', 'report', 'On', 'Gomorrah', 'da', 'Forgive', 'imagination', 'ram', 'anger', 'deal', 'male', 'Seth', 'whensoever', 'replenish', 'our', 'speaketh', 'Rosh', 'ma', 'smooth', 'pilled', 'earing', 'My', 'Said', 'dove', 'empty', 'dealt', 'Goshen', 'biteth', 'worshipped', 'consumed', 'Angel', 'knife', 'Javan', 'lifted', 'Lud', 'again', 'Baalhanan', 'Mamre', 'feast', 'seventh', 'forget', 'cup', 'Phallu', 'enough', 'can', 'hairy', 'blameless', 'breasts', 'none', 'freely', 'food', 'sojourner', 'handmaidens', 'riches', 'bre', 'weight', 'Buz', 'doubled', 'ourselves', 'named', 'espied', 'chose', 'fetch', 'created', 'leaf', 'third', 'enemies', 'ask', 'myrrh', 'Peace', 'sprung', 'violently', 'morning', 'Kadesh', 'nineteen', 'Ishuah', 'fathers', 'favoured', 'absent', 'eventide', 'kids', 'laughed', 'speckl', 'Sojourn', 'shew', 'cast', 'swear', 'even', 'vine', 'iniquity', 'oth', 'gone', 'earrings', 'Take', 'lights', 'Surely', 'light', 'Kiriathaim', 'spices', 'waxen', 'joined', 'thread', 'Jetheth', 'Jahleel', 'Syrian', 'Gihon', 'sojourned', 'Areli', 'Canaanites', 'air', 'But', 'son', 'interpreter', 'doeth', 'unleavened', 'tidings', 'raven', 'deliverance', 'Girgashites', 'be', 'Wilt', 'venison', 'begotten', 'Eliezer', 'multitude', '?)', 'length', 'marvelled', 'audience', 'guilty', 'traffick', 'rent', 'Simeon', 'perpetual', 'glory', 'turned', 'finish', 'friends', 'offering', 'lived', 'stead', 'space', 'stole', 'prosperous', 'staff', 'withheld', 'Hitti', 'shrank', 'Slay', 'Stand', 'Assyria', 'Feed', 'obeyed', 'from', 'Karnaim', 'abundantly', 'travailed', 'Manahath', 'some', 'bondman', 'Hereby', 'Tiras', 'pilgrimage', 'Jokshan', 'Aholibamah', 'urged', 'exchange', 'dowry', 'flood', 'foolishly', 'fish', 'Hebron', 'binding', 'Canaan', 'selfsame', 'Gerar', 'curseth', 'neck', 'dread', 'shepherds', 'least', 'horror', 'Mizraim', 'substance', 'shekels', 'whereon', 'kingdom', 'souls', 'heart', 'entreated', 'Why', 'children', 'Hittites', 'Zemarite', 'Shalt', 'moving', 'Tubal', 'yoke', 'fifteen', 'sir', 'Methusa', 'Jacob', 'Cana', 'bring', 'tempt', 'mine', 'Bera', 'changes', 'Isaac', 'drew', 'put', 'removing', 'knoweth', 'certainly', 'colours', 'experience', 'sadly', 'sac', 'confederate', 'chode', 'ark', 'slime', 'city', 'also', 'way', 'nativity', 'help', 'parted', 'withered', 'hearken', 'Aram', 'saying', 'room', 'natio', 'Moriah', 'Bethlehem', 'dainties', 'onyx', 'spent', 'thirteen', 'possessor', 'Egyptians', 'whoredom', 'years', 'harm', 'Husham', 'began', 'Japheth', 'Teman', 'sojourn', 'baker', 'nati', 'carcases', 'Tamar', 'childless', 'thousand', 'How', 'Shinar', 'slain', 'arose', 'stretched', 'Cainan', 'husba', 'point', 'wickedness', 'subdue', 'Asshur', 'ungirded', 'sle', 'break', 'beneath', 'sacks', 'proved', 'Beno', 'giveth', 'nigh', 'tops', 'furniture', 'now', 'herb', 'concubine', 'blindness', 'Hirah', 'ran', 'Abr', 'Upon', 'morever', 'good', 'journeys', 'ten', 'kneel', 'Se', 'bury', 'besides', 'Abelmizraim', 'circumcised', 'like', 'aga', 'mercies', 'peaceably', 'kindled', 'tiller', 'discerned', 'heed', 'Jetur', 'goats', 'wroth', 'Amorite', 'Gera', 'foot', 'Tola', 'Zo', 'hath', 'chamber', 'Hebrews', 'cool', 'finished', 'hearkened', 'two', 'born', 'isles', 'tower', 'blesseth', 'brown', 'weary', 'Behold', 'seekest', 'Leah', 'Samlah', 'killed', '!', 'Isui', 'doe', 'Nineveh', 'face', 'pass', 'committed', 'tru', 'pillar', 'build', 'signs', 'toucheth', 'Spirit', 'possessions', 'give', 'Alvah', 'answered', 'ne', 'naked', 'Korah', 'whatsoever', 'surety', 'O', 'escape', 'shoelatchet', 'foreskin', 'peradventure', 'did', 'Enos', 'Bozrah', 'ill', 'Onam', 'Er', 'Zuzims', 'and', 'risen', 'last', 'washed', 'forth', 'Heaven', 'saddled', 'Abimelech', 'midwife', 'throne', 'gopher', 'head', 'burnt', 'grapes', 'Milcah', '?', 'Shed', 'yonder', 'subtil', 'wives', 'not', 'you', 'pursued', 'Yet', 'plenteousness', 'judgment', 'upward', 'For', 'Philistines', 'loose', 'y', 'breach', 'thence', 'wicked', 'return', 'intreated', 'mark', 'bake', 'that', 'Appoint', 'An', 'nourished', 'seeth', 'twelve', 'standest', 'Set', 'fig', 'Arbah', 'dressed', 'Lay', 'm', 'confound', 'far', 'chief', 'token', 'nation', 'plenty', 'eaten', 'adder', 'ceased', 'ye', 'remembered', 'tenor', 'wearied', 'merry', 'sought', 'messes', 'nations', 'excel', 'Jubal', 'Canaanite', 'colt', 'lads', 'magnified', 'roughly', 'healed', 'mandrakes', 'interpretations', 'horses', 'seed', 'overthrow', 'Discern', ':', 'until', 'lean', 'carry', 'Egyptia', 'handmaid', 'husbandman', 'goat', 'upright', 'Unstable', 'requite', 'wounding', 'wise', 'crieth', 'pigeon', 'wagons', 'skins', 'wrapped', 'run', 'ste', 'clear', 'knead', 'altogether', 'solemnly', 'bone', 'mount', 'Saul', 'dreamer', 'betwixt', 'still', 'LO', 'fell', 'Melchizedek', 'Zaavan', 'mules', 'abide', 'alone', 'firmament', 'appoint', 'lion', 'manner', 'truth', 'poor', 'strife', 'darkne', 'Unto', 'Bilhan', 'commanding', 'overspread', 'rul', 'saidst', 'mischief', 'multiply', 'wells', 'commended', 'horse', 'side', 'fema', 'down', 'walketh', 'married', 'five', 'desired', 'hunter', 'path', 'about', 'Now', 'folly', 'belong', 'lie', 'mock', 'Paran', 'fetched', 'me', 'fat', 'will', 'fountain', 'Rephaims', 'Ludim', 'Zar', 'beasts', 'Erech', 'find', 'Timnath', 'grew', 'ninety', 'Mizpah', 'sixteen', 'rider', 'Who', 'strive', 'mother', 'fallen', 'Arphaxad', 'Pinon', 'Job', 'circumcise', 'slimepits', 'Huppim', 'Hai', 'covenant', 'spotted', 'among', 'content', 'ships', 'families', 'wandering', 'faults', 'wo', 'nought', 'trespass', 'Seeing', 'sanctified', 'harvest', 'Succoth', 'overthrew', 'ravin', 'spare', 'Jebusites', 'same', 'messenger', 'slayeth', 'parcel', 'boys', 'shadow', 'Ard', 'secret', 'When', 'speaking', 'Shall', 'goa', 'lamentati', 'Shammah', 'meet', 'no', 'Both', 'Thahash', 'spoil', 'Jezer', 'ring', 'Jebusite', 'Art', 'abated', 'Kedar', 'In', 'king', 'surely', 'The', 'sweat', 'searched', 'balm', 'seventeen', 'plenteous', 'Ohad', 'everlasting', 'oxen', 'mourn', 'drinketh', 'near', 'sustained', 'inhabited', 'feeding', 'presence', 'Sell', 'kinds', 'sporting', 'drove', 'brick', 'household', 'loss', 'borders', 'saved', 'EleloheIsrael', 'Am', 'feel', 'Yea', 'begin', 'dale', 'bones', 'three', 'imagined', 'seasons', 'Abel', 'hands', 'giants', 'leanfleshed', 'blessing', 'Gatam', 'Reuben', 'riv', 'round', 'scarce', 'daughte', 'overtook', 'goodly', 'horsemen', 'foals', 'rest', 'meant', 'Fulfil', 'Malchiel', 'birthday', 'dungeon', 'fleddest', 'buryingplace', 'seen', '.)', 'red', 'bakemeats', 'against', 'oath', 'Kenaz', 'stayed', 'many', 'She', 'eat', 'Bring', 'fa', 'teeth', 'present', 'hire', 'Benam', 'numbering', 'living', 'ready', 'understood', 'awoke', 'host', 'might', 'cruelty', 'played', 'asses', 'opened', 'kindred', 'river', 'bow', 'lesser', 'profit', 'meditate', 'Come', 'get', 'remained', 'Lotan', 'images', 'hairs', 's', 'were', 'leaves', 'pitcher', 'asswaged', 'pla', 'angry', 'Allonbachuth', 'Perizzit', 'thousands', 'Enoch', 'grace', 'cru', 'attained', 'whelp', 'plagues', 'moon', 'Shaul', 'obtain', 'ki', 'grass', 'nakedness', 'maiden', 'Eliphaz', 'firstborn', 'twins', 'mi', 'Male', 'what', 'bread', 'forgive', 'afterwards', 'Kadmonites', 'lieth', 'pow', 'Nahath', 'yield', 'youth', 'covered', 'brought', 'behold', 'shamed', 'archers', 'spirit', 'dwelt', 'every', 'Beware', 'reserved', 'captives', 'butlers', 'business', 'commandments', 'governor', 'lentiles', 'ways', 'Manass', 'Moab', 'Asenath', 'felt', 'Cherubims', 'Pildash', 'tent', 'deep', 'butter', 'pleased', 'spilled', 'offerings', 'dine', 'separate', 'Mezahab', 'loins', 'ripe', 'abroad', 'twentieth', 'handmaids', 'victuals', 'laded', 'separated', 'dim', 'barren', 'drinking', 'summer', 'followed', 'Seba', 'ever', 'gathering', 'daught', 'unawares', 'shaved', 'prosper', 'stars', 'sat', 'Rameses', 'enquire', 'camels', 'gre', 'husband', 'cubit', 'seem', 'shekel', 'eatest', 'Lest', 'Isra', 'pledge', 'hotly', 'serpent', 'Kedemah', 'blessings', 'Beersheba', 'Heth', 'change', 'Moreh', 'Uz', 'six', 'home', 'wi', 'If', 'increase', 'dream', 'Shuah', 'Eri', 'life', 'camest', 'Eden', 'troubled', 'sixty', 'Hul', 'wild', 'touched', 'their', 'begettest', 'persons', 'Pharaoh', 'aw', 'reason', 'this', 'thistles', 'vagabond', 'sist', 'sakes', 'Atad', 'void', 'G', 'Alvan', 'Judge', 'Dedan', 'overcome', 'Man', 'wandered', 'Some', 'Hamul', 'cannot', 'Reub', 'What', 'sorrow', 'wilderness', 'trembled', 'Go', 'Whence', 'commanded', 'my', 'forbid', 'her', 'dreams', 'fountains', 'driven', 'oil', 'sixth', 'myself', 'send', 'nine', 'forward', 'Mahanaim', 'booths', 'arrayed', 'Shimron', 'jewels', 'drank', 'Judah', 'require', 'language', 'Machpelah', 'grief', 'direct', 'blasted', 'ey', 'Know', 'wondering', 'Shechem', 'Benjamin', 'comforted', 'sort', 'Sinite', 'Riphath', 'hith', 'Me', 'threescore', 'Out', 'Havilah', 'lack', 'dipped', 'under', 'togeth', 'keeper', 'full', 'Hazo', 'sinners', 'Hinder', 'floc', 'breaketh', 'clave', 'anguish', 'tents', 'pray', 'Emins', 'returned', 'barr', 'worthy', 'tim', 'erected', 'openly', 'sa', 'Noah', 'assembly', 'where', 'smell', 'He', 'who', 'west', 'dea', 'therefore', 'Kittim', 'plains', 'moved', 'mighty', 'famine', 'state', 'pleaseth', 'dearth', 'Philistim', 'burn', 'hou', 'butler', 'hastened', 'distressed', 'fourth', 'rouse', 'Zeboim', 'friend', 'Ezbon', 'offered', 'Whose', 'tell', 'Jemuel', 'word', 'think', 'defiled', 'meeteth', 'vengeance', 'rebelled', 'fruitful', 'n', 'His', 'fulfilled', 'mistress', 'force', 'himself', 'See', ',)', 'Hori', 'defiledst', 'wot', 'Ephah', 'while', 'tenth', 'stories', 'fashion', 'Mam', 'fear', 'That', 'poured', 'comi', 'rule', 'process', 'looked', 'Ephra', 'lan', 'Be', 'toward', 'Shepho', 'Oh', 'integrity', 'away', 'former', 'vowedst', 'garments', 'bakers', 'elder', 'served', 'seemed', 'Spake', 'dignity', 'country', 'spi', 'pulled', 'beside', 'gracious', 'possessi', 'required', 'nurse', 'repenteth', 'fame', 'heap', 'flee', 'hide', 'waters', 'towns', 'Hamathite', 'shot', 'Mesha', 'with', 'of', 'he', 'lay', 'honey', 'doest', 'reproach', 'spee', 'reign', 'seeing', 'lad', 'Nebajoth', 'afar', 'carried', 'activity', 'physicians', 'day', 'neither', 'sepulchre', 'grisl', 'yearn', 'Achbor', 'canst', 'kept', 'Of', 'hated', 'darkness', 'have', 'displease', 'bare', 'see', 'remove', 'tongue', 'Dinhabah', 'creeping', 'offended', 'refused', 'enter', 'wilt', 'kings', 'hazel', 'Egy', 'departed', 'Asshurim', 'yourselves', 'Chaldees', 'month', 'intreat', 'Methuselah', 'selfwill', 'grap', 'drunken', 'longedst', 'fatness', 'fury', 'days', 'subtilty', 'Reuel', 'whom', 'herds', 'Except', 'forgat', 'witness', 'Let', 'watering', 'spoken', 'pris', 'Becher', 'boug', 'deed', 'Eshban', 'wentest', 'Resen', 'after', 'sou', 'fearest', 'stopped', 'findest', 'doer', 'protest', 'journey', 'calf', 'Put', 'harlot', 'Akan', 'Letushim', 'fire', 'an', 'Deborah', 'stone', 'fair', 'befell', 'eighteen', 'women', 'seek', 'torn', 'than', 'by', 'kid', 'straitly', 'Elishah', 'fir', 'north', 'clo', 'Mash', 'Naphtuhim', 'Zerah', 'Jachin', 'errand', 'plagued', 'Ishbak', 'princes', 'spies', 'wast', 'fatfleshed', 'bowing', 'Salem', 'to', 'know', 'noon', 'gro', 'tree', 'do', 'lands', 'left', 'observed', 'placed', ';', 'Judith', 'heaven', 'grave', 'live', 'Tema', 'priest', 'comfort', 'sheweth', 'hastily', 'army', 'south', 'knees', 'begat', 'except', 'dried', 'Ehi', 'past', 'wotteth', 'terror', 'fourscore', 'though', 'tribute', 'wash', 'hanged', 'Thorns', 'Assyr', 'mean', 'Hazarmaveth', 'entered', 'exceeding', 'weighed', 'oak', 'pea', 'Magdiel', 'sake', 'sevenfold', 'Therefore', 'spicery', 'Nimrod', 'han', 'heard', 'as', 'into', 'Ahuzzath', 'stolen', 'Girgasite', 'right', 'visit', 'savour', 'roof', 'laden', 'look', 'aloud', 'pit', 'instruments', 'Mibzar', 'sheep', 'thyself', 'worse', 'Bered', 'e', 'habitations', 'talked', 'handle', 'cried', 'All', 'themselves', 'Dumah', 'bird', 'salt', 'Zebulun', 'Diklah', 'ward', 'conceive', 'Mibsam', 'morsel', 'consent', 'wood', 'Aner', 'southward', 'sceptre', 'Chedorlaomer', 'tarry', 'Jaalam', 'sheaf', 'catt', 'fruit', 'had', 'men', 'enmity', 'ha', 'number', 'go', 'nights', 'could', 'Rebek'}\n"
     ]
    }
   ],
   "source": [
    "#Print each word of Genesis\n",
    "print(set(text3))"
   ]
  },
  {
   "cell_type": "code",
   "execution_count": 89,
   "id": "cae287f2",
   "metadata": {},
   "outputs": [
    {
     "name": "stdout",
     "output_type": "stream",
     "text": [
      "['!', \"'\", '(', ')', ',', ',)', '.', '.)', ':', ';', ';)', '?', '?)', 'A', 'Abel', 'Abelmizraim', 'Abidah', 'Abide', 'Abimael', 'Abimelech', 'Abr', 'Abrah', 'Abraham', 'Abram', 'Accad', 'Achbor', 'Adah', 'Adam', 'Adbeel', 'Admah', 'Adullamite', 'After', 'Aholibamah', 'Ahuzzath', 'Ajah', 'Akan', 'All', 'Allonbachuth', 'Almighty', 'Almodad', 'Also', 'Alvah', 'Alvan', 'Am', 'Amal', 'Amalek', 'Amalekites', 'Ammon', 'Amorite', 'Amorites', 'Amraphel', 'An', 'Anah', 'Anamim', 'And', 'Aner', 'Angel', 'Appoint', 'Aram', 'Aran', 'Ararat', 'Arbah', 'Ard', 'Are', 'Areli', 'Arioch', 'Arise', 'Arkite', 'Arodi', 'Arphaxad', 'Art', 'Arvadite', 'As', 'Asenath', 'Ashbel', 'Asher', 'Ashkenaz', 'Ashteroth', 'Ask', 'Asshur', 'Asshurim', 'Assyr', 'Assyria', 'At', 'Atad', 'Avith', 'Baalhanan', 'Babel', 'Bashemath', 'Be', 'Because', 'Becher', 'Bedad', 'Beeri', 'Beerlahairoi', 'Beersheba', 'Behold', 'Bela', 'Belah', 'Benam', 'Benjamin', 'Beno', 'Beor', 'Bera', 'Bered', 'Beriah', 'Bethel', 'Bethlehem', 'Bethuel', 'Beware', 'Bilhah', 'Bilhan', 'Binding', 'Birsha', 'Bless', 'Blessed', 'Both', 'Bow', 'Bozrah', 'Bring', 'But', 'Buz', 'By', 'Cain', 'Cainan', 'Calah', 'Calneh', 'Can', 'Cana', 'Canaan', 'Canaanite', 'Canaanites', 'Canaanitish', 'Caphtorim', 'Carmi', 'Casluhim', 'Cast', 'Cause', 'Chaldees', 'Chedorlaomer', 'Cheran', 'Cherubims', 'Chesed', 'Chezib', 'Come', 'Cursed', 'Cush', 'Damascus', 'Dan', 'Day', 'Deborah', 'Dedan', 'Deliver', 'Diklah', 'Din', 'Dinah', 'Dinhabah', 'Discern', 'Dishan', 'Dishon', 'Do', 'Dodanim', 'Dothan', 'Drink', 'Duke', 'Dumah', 'Earth', 'Ebal', 'Eber', 'Edar', 'Eden', 'Edom', 'Edomites', 'Egy', 'Egypt', 'Egyptia', 'Egyptian', 'Egyptians', 'Ehi', 'Elah', 'Elam', 'Elbethel', 'Eldaah', 'EleloheIsrael', 'Eliezer', 'Eliphaz', 'Elishah', 'Ellasar', 'Elon', 'Elparan', 'Emins', 'En', 'Enmishpat', 'Eno', 'Enoch', 'Enos', 'Ephah', 'Epher', 'Ephra', 'Ephraim', 'Ephrath', 'Ephron', 'Er', 'Erech', 'Eri', 'Es', 'Esau', 'Escape', 'Esek', 'Eshban', 'Eshcol', 'Ethiopia', 'Euphrat', 'Euphrates', 'Eve', 'Even', 'Every', 'Except', 'Ezbon', 'Ezer', 'Fear', 'Feed', 'Fifteen', 'Fill', 'For', 'Forasmuch', 'Forgive', 'From', 'Fulfil', 'G', 'Gad', 'Gaham', 'Galeed', 'Gatam', 'Gather', 'Gaza', 'Gentiles', 'Gera', 'Gerar', 'Gershon', 'Get', 'Gether', 'Gihon', 'Gilead', 'Girgashites', 'Girgasite', 'Give', 'Go', 'God', 'Gomer', 'Gomorrah', 'Goshen', 'Guni', 'Hadad', 'Hadar', 'Hadoram', 'Hagar', 'Haggi', 'Hai', 'Ham', 'Hamathite', 'Hamor', 'Hamul', 'Hanoch', 'Happy', 'Haran', 'Hast', 'Haste', 'Have', 'Havilah', 'Hazarmaveth', 'Hazezontamar', 'Hazo', 'He', 'Hear', 'Heaven', 'Heber', 'Hebrew', 'Hebrews', 'Hebron', 'Hemam', 'Hemdan', 'Here', 'Hereby', 'Heth', 'Hezron', 'Hiddekel', 'Hinder', 'Hirah', 'His', 'Hitti', 'Hittite', 'Hittites', 'Hivite', 'Hobah', 'Hori', 'Horite', 'Horites', 'How', 'Hul', 'Huppim', 'Husham', 'Hushim', 'Huz', 'I', 'If', 'In', 'Irad', 'Iram', 'Is', 'Isa', 'Isaac', 'Iscah', 'Ishbak', 'Ishmael', 'Ishmeelites', 'Ishuah', 'Isra', 'Israel', 'Issachar', 'Isui', 'It', 'Ithran', 'Jaalam', 'Jabal', 'Jabbok', 'Jac', 'Jachin', 'Jacob', 'Jahleel', 'Jahzeel', 'Jamin', 'Japhe', 'Japheth', 'Jared', 'Javan', 'Jebusite', 'Jebusites', 'Jegarsahadutha', 'Jehovahjireh', 'Jemuel', 'Jerah', 'Jetheth', 'Jetur', 'Jeush', 'Jezer', 'Jidlaph', 'Jimnah', 'Job', 'Jobab', 'Jokshan', 'Joktan', 'Jordan', 'Joseph', 'Jubal', 'Judah', 'Judge', 'Judith', 'Kadesh', 'Kadmonites', 'Karnaim', 'Kedar', 'Kedemah', 'Kemuel', 'Kenaz', 'Kenites', 'Kenizzites', 'Keturah', 'Kiriathaim', 'Kirjatharba', 'Kittim', 'Know', 'Kohath', 'Kor', 'Korah', 'LO', 'LORD', 'Laban', 'Lahairoi', 'Lamech', 'Lasha', 'Lay', 'Leah', 'Lehabim', 'Lest', 'Let', 'Letushim', 'Leummim', 'Levi', 'Lie', 'Lift', 'Lo', 'Look', 'Lot', 'Lotan', 'Lud', 'Ludim', 'Luz', 'Maachah', 'Machir', 'Machpelah', 'Madai', 'Magdiel', 'Magog', 'Mahalaleel', 'Mahalath', 'Mahanaim', 'Make', 'Malchiel', 'Male', 'Mam', 'Mamre', 'Man', 'Manahath', 'Manass', 'Manasseh', 'Mash', 'Masrekah', 'Massa', 'Matred', 'Me', 'Medan', 'Mehetabel', 'Mehujael', 'Melchizedek', 'Merari', 'Mesha', 'Meshech', 'Mesopotamia', 'Methusa', 'Methusael', 'Methuselah', 'Mezahab', 'Mibsam', 'Mibzar', 'Midian', 'Midianites', 'Milcah', 'Mishma', 'Mizpah', 'Mizraim', 'Mizz', 'Moab', 'Moabites', 'Moreh', 'Moreover', 'Moriah', 'Muppim', 'My', 'Naamah', 'Naaman', 'Nahath', 'Nahor', 'Naphish', 'Naphtali', 'Naphtuhim', 'Nay', 'Nebajoth', 'Neither', 'Night', 'Nimrod', 'Nineveh', 'Noah', 'Nod', 'Not', 'Now', 'O', 'Obal', 'Of', 'Oh', 'Ohad', 'Omar', 'On', 'Onam', 'Onan', 'Only', 'Ophir', 'Our', 'Out', 'Padan', 'Padanaram', 'Paran', 'Pass', 'Pathrusim', 'Pau', 'Peace', 'Peleg', 'Peniel', 'Penuel', 'Peradventure', 'Perizzit', 'Perizzite', 'Perizzites', 'Phallu', 'Phara', 'Pharaoh', 'Pharez', 'Phichol', 'Philistim', 'Philistines', 'Phut', 'Phuvah', 'Pildash', 'Pinon', 'Pison', 'Potiphar', 'Potipherah', 'Put', 'Raamah', 'Rachel', 'Rameses', 'Rebek', 'Rebekah', 'Rehoboth', 'Remain', 'Rephaims', 'Resen', 'Return', 'Reu', 'Reub', 'Reuben', 'Reuel', 'Reumah', 'Riphath', 'Rosh', 'Sabtah', 'Sabtech', 'Said', 'Salah', 'Salem', 'Samlah', 'Sarah', 'Sarai', 'Saul', 'Save', 'Say', 'Se', 'Seba', 'See', 'Seeing', 'Seir', 'Sell', 'Send', 'Sephar', 'Serah', 'Sered', 'Serug', 'Set', 'Seth', 'Shalem', 'Shall', 'Shalt', 'Shammah', 'Shaul', 'Shaveh', 'She', 'Sheba', 'Shebah', 'Shechem', 'Shed', 'Shel', 'Shelah', 'Sheleph', 'Shem', 'Shemeber', 'Shepho', 'Shillem', 'Shiloh', 'Shimron', 'Shinab', 'Shinar', 'Shobal', 'Should', 'Shuah', 'Shuni', 'Shur', 'Sichem', 'Siddim', 'Sidon', 'Simeon', 'Sinite', 'Sitnah', 'Slay', 'So', 'Sod', 'Sodom', 'Sojourn', 'Some', 'Spake', 'Speak', 'Spirit', 'Stand', 'Succoth', 'Surely', 'Swear', 'Syrian', 'Take', 'Tamar', 'Tarshish', 'Tebah', 'Tell', 'Tema', 'Teman', 'Temani', 'Terah', 'Thahash', 'That', 'The', 'Then', 'There', 'Therefore', 'These', 'They', 'Thirty', 'This', 'Thorns', 'Thou', 'Thus', 'Thy', 'Tidal', 'Timna', 'Timnah', 'Timnath', 'Tiras', 'To', 'Togarmah', 'Tola', 'Tubal', 'Tubalcain', 'Twelve', 'Two', 'Unstable', 'Until', 'Unto', 'Up', 'Upon', 'Ur', 'Uz', 'Uzal', 'We', 'What', 'When', 'Whence', 'Where', 'Whereas', 'Wherefore', 'Which', 'While', 'Who', 'Whose', 'Whoso', 'Why', 'Wilt', 'With', 'Woman', 'Ye', 'Yea', 'Yet', 'Zaavan', 'Zaphnathpaaneah', 'Zar', 'Zarah', 'Zeboiim', 'Zeboim', 'Zebul', 'Zebulun', 'Zemarite', 'Zepho', 'Zerah', 'Zibeon', 'Zidon', 'Zillah', 'Zilpah', 'Zimran', 'Ziphion', 'Zo', 'Zoar', 'Zohar', 'Zuzims', 'a', 'abated', 'abide', 'able', 'abode', 'abomination', 'about', 'above', 'abroad', 'absent', 'abundantly', 'accept', 'accepted', 'according', 'acknowledged', 'activity', 'add', 'adder', 'afar', 'afflict', 'affliction', 'afraid', 'after', 'afterward', 'afterwards', 'aga', 'again', 'against', 'age', 'aileth', 'air', 'al', 'alive', 'all', 'almon', 'alo', 'alone', 'aloud', 'also', 'altar', 'altogether', 'always', 'am', 'among', 'amongst', 'an', 'and', 'angel', 'angels', 'anger', 'angry', 'anguish', 'anointedst', 'anoth', 'another', 'answer', 'answered', 'any', 'anything', 'appe', 'appear', 'appeared', 'appease', 'appoint', 'appointed', 'aprons', 'archer', 'archers', 'are', 'arise', 'ark', 'armed', 'arms', 'army', 'arose', 'arrayed', 'art', 'artificer', 'as', 'ascending', 'ash', 'ashamed', 'ask', 'asked', 'asketh', 'ass', 'assembly', 'asses', 'assigned', 'asswaged', 'at', 'attained', 'audience', 'avenged', 'aw', 'awaked', 'away', 'awoke', 'back', 'backward', 'bad', 'bade', 'badest', 'badne', 'bak', 'bake', 'bakemeats', 'baker', 'bakers', 'balm', 'bands', 'bank', 'bare', 'barr', 'barren', 'basket', 'baskets', 'battle', 'bdellium', 'be', 'bear', 'beari', 'bearing', 'beast', 'beasts', 'beautiful', 'became', 'because', 'become', 'bed', 'been', 'befall', 'befell', 'before', 'began', 'begat', 'beget', 'begettest', 'begin', 'beginning', 'begotten', 'beguiled', 'beheld', 'behind', 'behold', 'being', 'believed', 'belly', 'belong', 'beneath', 'bereaved', 'beside', 'besides', 'besought', 'best', 'betimes', 'better', 'between', 'betwixt', 'beyond', 'binding', 'bird', 'birds', 'birthday', 'birthright', 'biteth', 'bitter', 'blame', 'blameless', 'blasted', 'bless', 'blessed', 'blesseth', 'blessi', 'blessing', 'blessings', 'blindness', 'blood', 'blossoms', 'bodies', 'boldly', 'bondman', 'bondmen', 'bondwoman', 'bone', 'bones', 'book', 'booths', 'border', 'borders', 'born', 'bosom', 'both', 'bottle', 'bou', 'boug', 'bough', 'bought', 'bound', 'bow', 'bowed', 'bowels', 'bowing', 'boys', 'bracelets', 'branches', 'brass', 'bre', 'breach', 'bread', 'breadth', 'break', 'breaketh', 'breaking', 'breasts', 'breath', 'breathed', 'breed', 'brethren', 'brick', 'brimstone', 'bring', 'brink', 'broken', 'brook', 'broth', 'brother', 'brought', 'brown', 'bruise', 'budded', 'build', 'builded', 'built', 'bulls', 'bundle', 'bundles', 'burdens', 'buried', 'burn', 'burning', 'burnt', 'bury', 'buryingplace', 'business', 'but', 'butler', 'butlers', 'butlership', 'butter', 'buy', 'by', 'cakes', 'calf', 'call', 'called', 'came', 'camel', 'camels', 'camest', 'can', 'cannot', 'canst', 'captain', 'captive', 'captives', 'carcases', 'carried', 'carry', 'cast', 'castles', 'catt', 'cattle', 'caught', 'cause', 'caused', 'cave', 'cease', 'ceased', 'certain', 'certainly', 'chain', 'chamber', 'change', 'changed', 'changes', 'charge', 'charged', 'chariot', 'chariots', 'chesnut', 'chi', 'chief', 'child', 'childless', 'childr', 'children', 'chode', 'choice', 'chose', 'circumcis', 'circumcise', 'circumcised', 'citi', 'cities', 'city', 'clave', 'clean', 'clear', 'cleave', 'clo', 'closed', 'clothed', 'clothes', 'cloud', 'clusters', 'co', 'coat', 'coats', 'coffin', 'cold', 'colours', 'colt', 'colts', 'come', 'comest', 'cometh', 'comfort', 'comforted', 'comi', 'coming', 'command', 'commanded', 'commanding', 'commandment', 'commandments', 'commended', 'committed', 'commune', 'communed', 'communing', 'company', 'compassed', 'compasseth', 'conceal', 'conceive', 'conceived', 'conception', 'concerning', 'concubi', 'concubine', 'concubines', 'confederate', 'confound', 'consent', 'conspired', 'consume', 'consumed', 'content', 'continually', 'continued', 'cool', 'corn', 'corrupt', 'corrupted', 'couch', 'couched', 'couching', 'could', 'counted', 'countenance', 'countries', 'country', 'covenant', 'covered', 'covering', 'created', 'creature', 'creepeth', 'creeping', 'cried', 'crieth', 'crown', 'cru', 'cruelty', 'cry', 'cubit', 'cubits', 'cunning', 'cup', 'current', 'curse', 'cursed', 'curseth', 'custom', 'cut', 'd', 'da', 'dainties', 'dale', 'damsel', 'damsels', 'dark', 'darkne', 'darkness', 'daughers', 'daught', 'daughte', 'daughter', 'daughters', 'day', 'days', 'dea', 'dead', 'deal', 'dealt', 'dearth', 'death', 'deceitfully', 'deceived', 'deceiver', 'declare', 'decreased', 'deed', 'deeds', 'deep', 'deferred', 'defiled', 'defiledst', 'delight', 'deliver', 'deliverance', 'delivered', 'denied', 'depart', 'departed', 'departing', 'deprived', 'descending', 'desire', 'desired', 'desolate', 'despised', 'destitute', 'destroy', 'destroyed', 'devour', 'devoured', 'dew', 'did', 'didst', 'die', 'died', 'digged', 'dignity', 'dim', 'dine', 'dipped', 'direct', 'discern', 'discerned', 'discreet', 'displease', 'displeased', 'distress', 'distressed', 'divide', 'divided', 'divine', 'divineth', 'do', 'doe', 'doer', 'doest', 'doeth', 'doing', 'dominion', 'done', 'door', 'dost', 'doth', 'double', 'doubled', 'doubt', 'dove', 'down', 'dowry', 'drank', 'draw', 'dread', 'dreadful', 'dream', 'dreamed', 'dreamer', 'dreams', 'dress', 'dressed', 'drew', 'dried', 'drink', 'drinketh', 'drinking', 'driven', 'drought', 'drove', 'droves', 'drunken', 'dry', 'duke', 'dukes', 'dunge', 'dungeon', 'dust', 'dwe', 'dwell', 'dwelled', 'dwelling', 'dwelt', 'e', 'ea', 'each', 'ear', 'earing', 'early', 'earring', 'earrings', 'ears', 'earth', 'east', 'eastward', 'eat', 'eaten', 'eatest', 'edge', 'eight', 'eighteen', 'eighty', 'either', 'elder', 'elders', 'eldest', 'eleven', 'else', 'embalm', 'embalmed', 'embraced', 'emptied', 'empty', 'end', 'ended', 'endued', 'endure', 'enemies', 'enlarge', 'enmity', 'enough', 'enquire', 'enter', 'entered', 'entreated', 'envied', 'erected', 'errand', 'escape', 'escaped', 'espied', 'establish', 'established', 'ev', 'even', 'evening', 'eventide', 'ever', 'everlasting', 'every', 'evil', 'ewe', 'ewes', 'exceeding', 'exceedingly', 'excel', 'excellency', 'except', 'exchange', 'experience', 'ey', 'eyed', 'eyes', 'fa', 'face', 'faces', 'fai', 'fail', 'failed', 'faileth', 'fainted', 'fair', 'fall', 'fallen', 'falsely', 'fame', 'families', 'famine', 'famished', 'far', 'fashion', 'fast', 'fat', 'fatfleshed', 'fath', 'fathe', 'father', 'fathers', 'fatness', 'faults', 'favour', 'favoured', 'fear', 'feared', 'fearest', 'feast', 'fed', 'feeble', 'feebler', 'feed', 'feeding', 'feel', 'feet', 'fell', 'fellow', 'felt', 'fema', 'female', 'fetch', 'fetched', 'fetcht', 'few', 'fie', 'field', 'fierce', 'fifteen', 'fifth', 'fifty', 'fig', 'fill', 'filled', 'find', 'findest', 'findeth', 'finding', 'fine', 'finish', 'finished', 'fir', 'fire', 'firmame', 'firmament', 'first', 'firstborn', 'firstlings', 'fish', 'fishes', 'five', 'flaming', 'fle', 'fled', 'fleddest', 'flee', 'flesh', 'flo', 'floc', 'flock', 'flocks', 'flood', 'floor', 'fly', 'fo', 'foal', 'foals', 'folk', 'follow', 'followed', 'following', 'folly', 'food', 'foolishly', 'foot', 'for', 'forbid', 'force', 'ford', 'foremost', 'foreskin', 'forgat', 'forget', 'forgive', 'forgotten', 'form', 'formed', 'former', 'forth', 'forty', 'forward', 'fou', 'found', 'fountain', 'fountains', 'four', 'fourscore', 'fourteen', 'fourteenth', 'fourth', 'fowl', 'fowls', 'freely', 'friend', 'friends', 'fro', 'from', 'frost', 'fruit', 'fruitful', 'fruits', 'fugitive', 'fulfilled', 'full', 'furnace', 'furniture', 'fury', 'gard', 'garden', 'garmen', 'garment', 'garments', 'gat', 'gate', 'gather', 'gathered', 'gathering', 'gave', 'gavest', 'generatio', 'generation', 'generations', 'get', 'getting', 'ghost', 'giants', 'gift', 'gifts', 'give', 'given', 'giveth', 'giving', 'glory', 'go', 'goa', 'goat', 'goats', 'gods', 'goest', 'goeth', 'going', 'gold', 'golden', 'gone', 'good', 'goodly', 'goods', 'gopher', 'got', 'gotten', 'governor', 'gr', 'grace', 'gracious', 'graciously', 'grap', 'grapes', 'grass', 'grave', 'gray', 'gre', 'great', 'greater', 'greatly', 'green', 'grew', 'grief', 'grieved', 'grievous', 'grisl', 'grisled', 'gro', 'ground', 'grove', 'grow', 'grown', 'guard', 'guiding', 'guiltiness', 'guilty', 'gutters', 'h', 'ha', 'habitations', 'had', 'hadst', 'hairs', 'hairy', 'half', 'halted', 'han', 'hand', 'handfuls', 'handle', 'handmaid', 'handmaidens', 'handmaids', 'hands', 'hang', 'hanged', 'hard', 'hardly', 'harlot', 'harm', 'harp', 'harvest', 'hast', 'haste', 'hasted', 'hastened', 'hastily', 'hate', 'hated', 'hath', 'have', 'haven', 'having', 'hazel', 'he', 'head', 'heads', 'healed', 'health', 'heap', 'hear', 'heard', 'hearken', 'hearkened', 'heart', 'hearth', 'hearts', 'heat', 'heav', 'heaven', 'heavens', 'heed', 'heel', 'heels', 'heifer', 'height', 'heir', 'held', 'help', 'hence', 'henceforth', 'her', 'herb', 'herd', 'herdmen', 'herds', 'here', 'herein', 'herself', 'hid', 'hide', 'high', 'hil', 'hills', 'him', 'himself', 'hind', 'hindermost', 'hire', 'hired', 'his', 'hith', 'hither', 'hold', 'hollow', 'home', 'honey', 'honour', 'honourable', 'hor', 'horror', 'horse', 'horsemen', 'horses', 'host', 'hotly', 'hou', 'hous', 'house', 'household', 'households', 'how', 'hundred', 'hundredfo', 'hundredth', 'hunt', 'hunter', 'hunting', 'hurt', 'husba', 'husband', 'husbandman', 'if', 'ill', 'image', 'images', 'imagination', 'imagined', 'in', 'increase', 'increased', 'indeed', 'inhabitants', 'inhabited', 'inherit', 'inheritance', 'iniquity', 'inn', 'innocency', 'instead', 'instructor', 'instruments', 'integrity', 'interpret', 'interpretation', 'interpretations', 'interpreted', 'interpreter', 'into', 'intreat', 'intreated', 'ir', 'is', 'isles', 'issue', 'it', 'itself', 'jewels', 'joined', 'joint', 'journey', 'journeyed', 'journeys', 'jud', 'judge', 'judged', 'judgment', 'just', 'justice', 'keep', 'keeper', 'kept', 'ki', 'kid', 'kids', 'kill', 'killed', 'kind', 'kindled', 'kindly', 'kindness', 'kindred', 'kinds', 'kine', 'king', 'kingdom', 'kings', 'kiss', 'kissed', 'kn', 'knead', 'kneel', 'knees', 'knew', 'knife', 'know', 'knowest', 'knoweth', 'knowing', 'knowledge', 'known', 'la', 'labour', 'lack', 'lad', 'ladder', 'lade', 'laded', 'laden', 'lads', 'laid', 'lamb', 'lambs', 'lamentati', 'lamp', 'lan', 'land', 'lands', 'language', 'large', 'last', 'laugh', 'laughed', 'law', 'lawgiver', 'laws', 'lay', 'lead', 'leaf', 'lean', 'leanfleshed', 'leap', 'leaped', 'learned', 'least', 'leave', 'leaves', 'led', 'left', 'length', 'lentiles', 'lesser', 'lest', 'let', 'li', 'lie', 'lien', 'liest', 'lieth', 'life', 'lift', 'lifted', 'light', 'lighted', 'lightly', 'lights', 'like', 'likene', 'likeness', 'linen', 'lingered', 'lion', 'little', 'live', 'lived', 'lives', 'liveth', 'living', 'lo', 'lodge', 'lodged', 'loins', 'long', 'longedst', 'longeth', 'look', 'looked', 'loose', 'lord', 'lords', 'loss', 'loud', 'love', 'loved', 'lovest', 'loveth', 'lower', 'lying', 'm', 'ma', 'made', 'magicians', 'magnified', 'maid', 'maiden', 'maidservants', 'make', 'male', 'males', 'man', 'mandrakes', 'manner', 'many', 'mark', 'marriages', 'married', 'marry', 'marvelled', 'mast', 'master', 'matter', 'may', 'mayest', 'me', 'mead', 'meadow', 'meal', 'mean', 'meanest', 'meant', 'measures', 'meat', 'meditate', 'meet', 'meeteth', 'men', 'menservants', 'mention', 'merchant', 'merchantmen', 'mercies', 'merciful', 'mercy', 'merry', 'mess', 'messenger', 'messengers', 'messes', 'met', 'mi', 'midst', 'midwife', 'might', 'mightier', 'mighty', 'milch', 'milk', 'millions', 'mind', 'mine', 'mirth', 'mischief', 'mist', 'mistress', 'mock', 'mocked', 'mocking', 'money', 'month', 'months', 'moon', 'more', 'moreover', 'morever', 'morning', 'morrow', 'morsel', 'morter', 'most', 'mother', 'mou', 'mount', 'mountain', 'mountains', 'mourn', 'mourned', 'mourning', 'mouth', 'mouths', 'moved', 'moveth', 'moving', 'much', 'mules', 'multiplied', 'multiply', 'multiplying', 'multitude', 'must', 'my', 'myrrh', 'myself', 'n', 'na', 'naked', 'nakedness', 'name', 'named', 'names', 'nati', 'natio', 'nation', 'nations', 'nativity', 'ne', 'near', 'neck', 'needeth', 'needs', 'neither', 'never', 'next', 'nig', 'nigh', 'night', 'nights', 'nine', 'nineteen', 'ninety', 'no', 'none', 'noon', 'nor', 'north', 'northward', 'nostrils', 'not', 'nothing', 'nought', 'nourish', 'nourished', 'now', 'number', 'numbered', 'numbering', 'nurse', 'nuts', 'o', 'oa', 'oak', 'oath', 'obeisance', 'obey', 'obeyed', 'observed', 'obtain', 'occasion', 'occupation', 'of', 'off', 'offended', 'offer', 'offered', 'offeri', 'offering', 'offerings', 'office', 'officer', 'officers', 'oil', 'old', 'olive', 'on', 'one', 'ones', 'only', 'onyx', 'open', 'opened', 'openly', 'or', 'order', 'organ', 'oth', 'other', 'ou', 'ought', 'our', 'ours', 'ourselves', 'out', 'over', 'overcome', 'overdrive', 'overseer', 'oversig', 'overspread', 'overtake', 'overthrew', 'overthrow', 'overtook', 'own', 'oxen', 'parcel', 'part', 'parted', 'parts', 'pass', 'passed', 'past', 'pasture', 'path', 'pea', 'peace', 'peaceable', 'peaceably', 'peop', 'people', 'peradventure', 'perceived', 'perfect', 'perform', 'perish', 'perpetual', 'person', 'persons', 'physicians', 'piece', 'pieces', 'pigeon', 'pilgrimage', 'pillar', 'pilled', 'pillows', 'pit', 'pitch', 'pitched', 'pitcher', 'pla', 'place', 'placed', 'places', 'plagued', 'plagues', 'plain', 'plains', 'plant', 'planted', 'played', 'pleasant', 'pleased', 'pleaseth', 'pleasure', 'pledge', 'plenteous', 'plenteousness', 'plenty', 'pluckt', 'point', 'poor', 'poplar', 'portion', 'possess', 'possessi', 'possession', 'possessions', 'possessor', 'posterity', 'pottage', 'poured', 'poverty', 'pow', 'power', 'praise', 'pray', 'prayed', 'precious', 'prepared', 'presence', 'present', 'presented', 'preserve', 'preserved', 'pressed', 'prevail', 'prevailed', 'prey', 'priest', 'priests', 'prince', 'princes', 'pris', 'prison', 'prisoners', 'proceedeth', 'process', 'profit', 'progenitors', 'prophet', 'prosper', 'prospered', 'prosperous', 'protest', 'proved', 'provender', 'provide', 'provision', 'pulled', 'punishment', 'purchase', 'purchased', 'purposing', 'pursue', 'pursued', 'put', 'putting', 'quart', 'quickly', 'quite', 'quiver', 'raiment', 'rain', 'rained', 'raise', 'ram', 'rams', 'ran', 'rank', 'raven', 'ravin', 'reach', 'reached', 'ready', 'reason', 'rebelled', 'rebuked', 'receive', 'received', 'red', 'redeemed', 'refrain', 'refrained', 'refused', 'regard', 'reign', 'reigned', 'remained', 'remaineth', 'remember', 'remembered', 'remove', 'removed', 'removing', 'renown', 'rent', 'repented', 'repenteth', 'replenish', 'report', 'reproa', 'reproach', 'reproved', 'require', 'required', 'requite', 'reserved', 'respect', 'rest', 'rested', 'restore', 'restored', 'restrained', 'return', 'returned', 'reviv', 'reward', 'rewarded', 'ri', 'rib', 'ribs', 'rich', 'riches', 'rid', 'ride', 'rider', 'right', 'righteous', 'righteousness', 'rightly', 'ring', 'ringstraked', 'ripe', 'rise', 'risen', 'riv', 'river', 'rode', 'rods', 'roll', 'rolled', 'roof', 'room', 'rooms', 'rose', 'roughly', 'round', 'rouse', 'royal', 'rul', 'rule', 'ruled', 'ruler', 'rulers', 'run', 's', 'sa', 'sac', 'sack', 'sackcloth', 'sacks', 'sacrifice', 'sacrifices', 'sad', 'saddled', 'sadly', 'said', 'saidst', 'saith', 'sake', 'sakes', 'salt', 'salvation', 'same', 'sanctified', 'sand', 'sat', 'save', 'saved', 'saving', 'savour', 'savoury', 'saw', 'sawest', 'say', 'saying', 'scarce', 'scarlet', 'scatter', 'scattered', 'sceptre', 'sea', 'searched', 'seas', 'season', 'seasons', 'second', 'secret', 'secretly', 'see', 'seed', 'seedtime', 'seeing', 'seek', 'seekest', 'seem', 'seemed', 'seen', 'seest', 'seeth', 'selfsame', 'selfwill', 'sell', 'send', 'sent', 'separate', 'separated', 'sepulchre', 'sepulchres', 'serpent', 'serva', 'servan', 'servant', 'servants', 'serve', 'served', 'service', 'set', 'seven', 'sevenfold', 'sevens', 'seventeen', 'seventeenth', 'seventh', 'seventy', 'sewed', 'sh', 'shadow', 'shall', 'shalt', 'shamed', 'shaved', 'she', 'sheaf', 'shear', 'sheaves', 'shed', 'sheddeth', 'sheep', 'sheepshearers', 'shekel', 'shekels', 'shepherd', 'shepherds', 'shew', 'shewed', 'sheweth', 'shield', 'ships', 'shoelatchet', 'shore', 'shortly', 'shot', 'should', 'shoulder', 'shoulders', 'shouldest', 'shrank', 'shrubs', 'shut', 'si', 'side', 'sight', 'signet', 'signs', 'silv', 'silver', 'sin', 'since', 'sinew', 'sinners', 'sinning', 'sir', 'sist', 'sister', 'sit', 'six', 'sixteen', 'sixth', 'sixty', 'skins', 'slain', 'slaughter', 'slay', 'slayeth', 'sle', 'sleep', 'slept', 'slew', 'slime', 'slimepits', 'small', 'smell', 'smelled', 'smite', 'smoke', 'smoking', 'smooth', 'smote', 'so', 'sod', 'softly', 'sojourn', 'sojourned', 'sojourner', 'sold', 'sole', 'solemnly', 'some', 'son', 'songs', 'sons', 'soon', 'sore', 'sorely', 'sorrow', 'sort', 'sou', 'sought', 'soul', 'souls', 'south', 'southward', 'sow', 'sowed', 'space', 'spake', 'spare', 'spe', 'speak', 'speaketh', 'speaking', 'speckl', 'speckled', 'spee', 'speech', 'speed', 'speedily', 'spent', 'spi', 'spicery', 'spices', 'spies', 'spilled', 'spirit', 'spoil', 'spoiled', 'spoken', 'sporting', 'spotted', 'spread', 'springing', 'sprung', 'staff', 'stalk', 'stand', 'standest', 'stars', 'state', 'statutes', 'stay', 'stayed', 'ste', 'stead', 'steal', 'steward', 'still', 'stink', 'sto', 'stole', 'stolen', 'stone', 'stones', 'stood', 'stooped', 'stopped', 'store', 'storehouses', 'stories', 'straitly', 'strakes', 'strange', 'stranger', 'strangers', 'straw', 'street', 'strength', 'strengthened', 'stretched', 'stricken', 'strife', 'stript', 'strive', 'strong', 'stronger', 'strove', 'struggled', 'stuff', 'subdue', 'submit', 'substance', 'subtil', 'subtilty', 'such', 'suck', 'suffered', 'summer', 'sun', 'supplanted', 'sure', 'surely', 'surety', 'sustained', 'sware', 'swear', 'sweat', 'sweet', 'sword', 'sworn', 'tabret', 'tak', 'take', 'taken', 'talked', 'talking', 'tar', 'tarried', 'tarry', 'teeth', 'tell', 'tempt', 'ten', 'tender', 'tenor', 'tent', 'tenth', 'tents', 'terror', 'th', 'than', 'that', 'the', 'thee', 'their', 'them', 'themselv', 'themselves', 'then', 'thence', 'there', 'thereby', 'therefore', 'therein', 'thereof', 'thereon', 'these', 'they', 'thi', 'thicket', 'thigh', 'thin', 'thine', 'thing', 'things', 'think', 'third', 'thirteen', 'thirteenth', 'thirty', 'this', 'thistles', 'thither', 'thoroughly', 'those', 'thou', 'though', 'thought', 'thoughts', 'thousand', 'thousands', 'thread', 'three', 'threescore', 'threshingfloor', 'throne', 'through', 'throughout', 'thus', 'thy', 'thyself', 'tidings', 'till', 'tiller', 'tillest', 'tim', 'time', 'times', 'tithes', 'to', 'togeth', 'together', 'toil', 'token', 'told', 'tongue', 'tongues', 'too', 'took', 'top', 'tops', 'torn', 'touch', 'touched', 'toucheth', 'touching', 'toward', 'tower', 'towns', 'tr', 'trade', 'traffick', 'trained', 'travail', 'travailed', 'treasure', 'tree', 'trees', 'trembled', 'trespass', 'tribes', 'tribute', 'troop', 'troubled', 'trough', 'troughs', 'tru', 'true', 'truly', 'truth', 'turn', 'turned', 'turtledove', 'twel', 'twelve', 'twentieth', 'twenty', 'twice', 'twins', 'two', 'unawares', 'uncircumcised', 'uncovered', 'under', 'understand', 'understood', 'ungirded', 'unit', 'unleavened', 'until', 'unto', 'up', 'upon', 'uppermost', 'upright', 'upward', 'urged', 'us', 'utmost', 'vagabond', 'vail', 'vale', 'valley', 'vengeance', 'venison', 'verified', 'verily', 'very', 'vessels', 'vestures', 'victuals', 'vine', 'vineyard', 'violence', 'violently', 'virgin', 'vision', 'visions', 'visit', 'visited', 'voi', 'voice', 'void', 'vow', 'vowed', 'vowedst', 'w', 'wa', 'wages', 'wagons', 'waited', 'walk', 'walked', 'walketh', 'walking', 'wall', 'wander', 'wandered', 'wandering', 'war', 'ward', 'was', 'wash', 'washed', 'wast', 'wat', 'watch', 'water', 'watered', 'watering', 'waters', 'waxed', 'waxen', 'way', 'ways', 'we', 'wealth', 'weaned', 'weapons', 'wearied', 'weary', 'week', 'weep', 'weig', 'weighed', 'weight', 'welfare', 'well', 'wells', 'went', 'wentest', 'wept', 'were', 'west', 'westwa', 'whales', 'what', 'whatsoever', 'wheat', 'whelp', 'when', 'whence', 'whensoever', 'where', 'whereby', 'wherefore', 'wherein', 'whereof', 'whereon', 'wherewith', 'whether', 'which', 'while', 'white', 'whither', 'who', 'whole', 'whom', 'whomsoever', 'whoredom', 'whose', 'whosoever', 'why', 'wi', 'wick', 'wicked', 'wickedly', 'wickedness', 'widow', 'widowhood', 'wife', 'wild', 'wilderness', 'will', 'willing', 'wilt', 'wind', 'window', 'windows', 'wine', 'winged', 'winter', 'wise', 'wit', 'with', 'withered', 'withheld', 'withhold', 'within', 'without', 'witness', 'wittingly', 'wiv', 'wives', 'wo', 'wolf', 'woman', 'womb', 'wombs', 'women', 'womenservan', 'womenservants', 'wondering', 'wood', 'wor', 'word', 'words', 'work', 'worse', 'worship', 'worshipped', 'worth', 'worthy', 'wot', 'wotteth', 'would', 'wouldest', 'wounding', 'wrapped', 'wrath', 'wrestled', 'wrestlings', 'wrong', 'wroth', 'wrought', 'y', 'ye', 'yea', 'year', 'yearn', 'years', 'yesternight', 'yet', 'yield', 'yielded', 'yielding', 'yoke', 'yonder', 'you', 'young', 'younge', 'younger', 'youngest', 'your', 'yourselves', 'youth']\n"
     ]
    }
   ],
   "source": [
    "#Sorting the words in alphabetical order\n",
    "print(sorted(set(text3)))"
   ]
  },
  {
   "cell_type": "code",
   "execution_count": 92,
   "id": "afb582b3",
   "metadata": {},
   "outputs": [
    {
     "data": {
      "text/plain": [
       "2789"
      ]
     },
     "execution_count": 92,
     "metadata": {},
     "output_type": "execute_result"
    }
   ],
   "source": [
    "#print the number of distinct words of Genesis\n",
    "len(set(text3))"
   ]
  },
  {
   "cell_type": "markdown",
   "id": "62744e72",
   "metadata": {},
   "source": [
    "We can calculate the number of times that a word is used in a text."
   ]
  },
  {
   "cell_type": "code",
   "execution_count": 9,
   "id": "6457d4be",
   "metadata": {},
   "outputs": [
    {
     "data": {
      "text/plain": [
       "16.050197203298673"
      ]
     },
     "execution_count": 9,
     "metadata": {},
     "output_type": "execute_result"
    }
   ],
   "source": [
    "len(text3)/len(set(text3)) #total number of words of the text divided by total number of distinct words of the text"
   ]
  },
  {
   "cell_type": "markdown",
   "id": "bbcdb647",
   "metadata": {},
   "source": [
    "On average, a word of that text is used about 16 times."
   ]
  },
  {
   "cell_type": "markdown",
   "id": "4023d15d",
   "metadata": {},
   "source": [
    "Perhaps, our interest is in knowing the percentage of the presence of a word in a text."
   ]
  },
  {
   "cell_type": "code",
   "execution_count": 11,
   "id": "62c1cb48",
   "metadata": {},
   "outputs": [
    {
     "data": {
      "text/plain": [
       "231"
      ]
     },
     "execution_count": 11,
     "metadata": {},
     "output_type": "execute_result"
    }
   ],
   "source": [
    "#Counting word God\n",
    "text3.count('God')"
   ]
  },
  {
   "cell_type": "code",
   "execution_count": 12,
   "id": "a45c613c",
   "metadata": {},
   "outputs": [
    {
     "data": {
      "text/plain": [
       "129"
      ]
     },
     "execution_count": 12,
     "metadata": {},
     "output_type": "execute_result"
    }
   ],
   "source": [
    "#Counting word Abraham\n",
    "text3.count('Abraham')"
   ]
  },
  {
   "cell_type": "code",
   "execution_count": 15,
   "id": "46cf5a34",
   "metadata": {},
   "outputs": [
    {
     "data": {
      "text/plain": [
       "0.52"
      ]
     },
     "execution_count": 15,
     "metadata": {},
     "output_type": "execute_result"
    }
   ],
   "source": [
    "#Calculating the percentage of the presence of the word God in the text\n",
    "round((text3.count('God')/len(text3)) * 100, 2)"
   ]
  },
  {
   "cell_type": "code",
   "execution_count": 17,
   "id": "76d812ac",
   "metadata": {},
   "outputs": [
    {
     "data": {
      "text/plain": [
       "0.29"
      ]
     },
     "execution_count": 17,
     "metadata": {},
     "output_type": "execute_result"
    }
   ],
   "source": [
    "#Calculating the percentage of the presence of the word God in the text\n",
    "round((text3.count('Abraham')/len(text3)) * 100, 2)"
   ]
  },
  {
   "cell_type": "markdown",
   "id": "efe8bb57",
   "metadata": {},
   "source": [
    "As you can see, the word God appears more times than word Abraham. However, both appear less than 1%."
   ]
  },
  {
   "cell_type": "markdown",
   "id": "20232c7f",
   "metadata": {},
   "source": [
    "### Defining a function to calculate lexical diversity on average and percentage of a word in a text"
   ]
  },
  {
   "cell_type": "markdown",
   "id": "185c71d1",
   "metadata": {},
   "source": [
    "An interesting observation is about the lexical diversity of a text. It indicates how rich a text is lexically. We can have on hand a large text but with vocabulary poverty or short text but with vocabulary richness.\n",
    "\n",
    "Below I initially developed two function to measure that richness. The first function measures how many times on average a word appears in the text. The second function measures how many the text is diversified. The higher the percentage is, the richer lexically is, that is, the closer to 100%."
   ]
  },
  {
   "cell_type": "code",
   "execution_count": 34,
   "id": "7f955650",
   "metadata": {},
   "outputs": [],
   "source": [
    "#Defining lexical diversity function\n",
    "def lexical_diversity(text):\n",
    "    return print('On average, a word appears {} times in the text.'.format(round(len(text)/len(set(text)), 2)))\n",
    "                 #It returns the gross number of words used on average"
   ]
  },
  {
   "cell_type": "code",
   "execution_count": 35,
   "id": "207fa66c",
   "metadata": {},
   "outputs": [],
   "source": [
    "#Defining percentage of lexical diversity function\n",
    "def lexical_diversity_rate(text):\n",
    "    return print('The lexical diversity is in {}%.'.format(round((len(set(text))/len(text))*100, 2)))"
   ]
  },
  {
   "cell_type": "code",
   "execution_count": 36,
   "id": "b40daae4",
   "metadata": {},
   "outputs": [
    {
     "name": "stdout",
     "output_type": "stream",
     "text": [
      "On average, a word appears 16.05 times in the text.\n"
     ]
    }
   ],
   "source": [
    "#Testing lexical diversity function\n",
    "lexical_diversity(text3)"
   ]
  },
  {
   "cell_type": "code",
   "execution_count": 37,
   "id": "053a0fc5",
   "metadata": {},
   "outputs": [
    {
     "name": "stdout",
     "output_type": "stream",
     "text": [
      "The lexical diversity is in 6.23%.\n"
     ]
    }
   ],
   "source": [
    "#Testing lexical diversity text\n",
    "lexical_diversity_rate(text3)"
   ]
  },
  {
   "cell_type": "markdown",
   "id": "4088deff",
   "metadata": {},
   "source": [
    "To define effectively whether a text has low or high lexical diversity, it is not just observe the rate, howerver, it is necessary to study other texts are of the same class in order to understand the patterns of that text type."
   ]
  },
  {
   "cell_type": "markdown",
   "id": "346fbae4",
   "metadata": {},
   "source": [
    "You can seek the presence rate of a word in a text through the function below."
   ]
  },
  {
   "cell_type": "code",
   "execution_count": 50,
   "id": "e9bd266a",
   "metadata": {},
   "outputs": [],
   "source": [
    "#Building word presence rate function in the text\n",
    "def word_presence_rate_in_the_text(text, word):\n",
    "    return print('The presence rate of this word is about {}%.'.format(round((text.count(word)/len(text))*100, 4)))"
   ]
  },
  {
   "cell_type": "code",
   "execution_count": 51,
   "id": "ab4b8f42",
   "metadata": {},
   "outputs": [
    {
     "name": "stdout",
     "output_type": "stream",
     "text": [
      "The presence rate of this word is about 0.516%.\n"
     ]
    }
   ],
   "source": [
    "#Testing word presence rate function\n",
    "word_presence_rate_in_the_text(text3, 'God')"
   ]
  },
  {
   "cell_type": "code",
   "execution_count": 52,
   "id": "2bf5bdf8",
   "metadata": {},
   "outputs": [],
   "source": [
    "#Testing the function on list\n",
    "test_list = ['Hello', '!', 'My', 'names', 'is', 'Bruno', '.']"
   ]
  },
  {
   "cell_type": "code",
   "execution_count": 53,
   "id": "5cef4134",
   "metadata": {},
   "outputs": [
    {
     "name": "stdout",
     "output_type": "stream",
     "text": [
      "On average, a word appears 1.0 times in the text.\n"
     ]
    }
   ],
   "source": [
    "lexical_diversity(test_list) #Applying lexical diversity function"
   ]
  },
  {
   "cell_type": "code",
   "execution_count": 54,
   "id": "a7fe0ecb",
   "metadata": {},
   "outputs": [
    {
     "name": "stdout",
     "output_type": "stream",
     "text": [
      "The lexical diversity is in 100.0%.\n"
     ]
    }
   ],
   "source": [
    "lexical_diversity_rate(test_list) #Applying lexical diversity rate function"
   ]
  },
  {
   "cell_type": "code",
   "execution_count": 56,
   "id": "3ccb739b",
   "metadata": {},
   "outputs": [
    {
     "name": "stdout",
     "output_type": "stream",
     "text": [
      "The presence rate of this word is about 14.2857%.\n"
     ]
    }
   ],
   "source": [
    "word_presence_rate_in_the_text(test_list, 'names') #Word presence rate function"
   ]
  },
  {
   "cell_type": "code",
   "execution_count": 57,
   "id": "a1beb8de",
   "metadata": {},
   "outputs": [
    {
     "data": {
      "text/plain": [
       "7"
      ]
     },
     "execution_count": 57,
     "metadata": {},
     "output_type": "execute_result"
    }
   ],
   "source": [
    "len(test_list) #Seeking for total number of words in the list"
   ]
  },
  {
   "cell_type": "markdown",
   "id": "374d79e4",
   "metadata": {},
   "source": [
    "# Picking up what makes a text distinct\n",
    "## Frequency distribution"
   ]
  },
  {
   "cell_type": "markdown",
   "id": "3c5e4fa5",
   "metadata": {},
   "source": [
    "The methods below work on the words frequencies.\n",
    "\n",
    "FreqDist( ) is a method that creates a dictionary where the characters are the keys and their frequencies in text are the values."
   ]
  },
  {
   "cell_type": "code",
   "execution_count": 188,
   "id": "ab2edcce",
   "metadata": {},
   "outputs": [
    {
     "data": {
      "text/plain": [
       "FreqDist({',': 3681, 'and': 2428, 'the': 2411, 'of': 1358, '.': 1315, 'And': 1250, 'his': 651, 'he': 648, 'to': 611, ';': 605, ...})"
      ]
     },
     "execution_count": 188,
     "metadata": {},
     "output_type": "execute_result"
    }
   ],
   "source": [
    "#Searching the 50 most frequent words in the book of Genesis\n",
    "most_freq_words3 = FreqDist(text3)\n",
    "most_freq_words3"
   ]
  },
  {
   "cell_type": "markdown",
   "id": "f6bc20d6",
   "metadata": {},
   "source": [
    "To access the values/frequencies, just use the values()."
   ]
  },
  {
   "cell_type": "code",
   "execution_count": 266,
   "id": "73625135",
   "metadata": {},
   "outputs": [
    {
     "data": {
      "text/plain": [
       "dict_values([12, 2411, 5, 231, 11, 28, 2428, 111, 1315, 1250, 317, 9, 1, 3681, 1, 605, 4, 139, 47, 1358, 6, 2, 2, 32, 476, 29, 116, 254, 11, 238, 57, 509, 290, 44, 10, 157, 98, 1, 648, 1, 10, 20, 163, 16, 71, 342, 8, 588, 6, 64, 5, 72, 198, 17, 11, 1, 52, 1, 14, 15, 16, 590, 70, 46, 4, 184, 1, 1, 2, 4, 40, 43, 2, 7, 5, 58, 9, 21, 107, 651, 13, 16, 267, 2, 9, 60, 5, 10, 3, 611, 27, 230, 297, 1, 1, 61, 13, 59, 52, 32, 5, 5, 1, 1, 5, 81, 31, 49, 1, 3, 4, 2, 8, 80, 31, 16, 43, 1, 2, 1, 88, 16, 3, 153, 1, 43, 79, 3, 14, 18, 2, 1, 5, 50, 9, 39, 20, 8, 93, 46, 114, 63, 5, 1, 132, 4, 2, 8, 8, 245, 21, 8, 387, 11, 7, 2, 1, 53, 484, 21, 82, 4, 253, 10, 8, 3, 282, 139, 65, 18, 2, 12, 3, 1, 4, 57, 4, 3, 4, 3, 1, 54, 21, 119, 16, 112, 249, 166, 1, 44, 91, 1, 224, 4, 4, 7, 24, 37, 110, 122, 1, 5, 10, 3, 8, 1, 86, 2, 4, 12, 13, 3, 13, 3, 6, 40, 25, 106, 2, 3, 17, 19, 2, 16, 14, 27, 18, 1, 12, 2, 50, 100, 1, 2, 4, 20, 8, 1, 1, 11, 1, 22, 1, 1, 4, 19, 12, 1, 1, 81, 2, 13, 18, 6, 272, 5, 1, 2, 73, 47, 1, 12, 15, 25, 9, 21, 3, 195, 76, 3, 12, 18, 25, 19, 7, 8, 19, 5, 48, 10, 66, 37, 5, 4, 1, 1, 2, 26, 3, 1, 21, 20, 173, 22, 56, 2, 325, 2, 2, 161, 1, 1, 12, 6, 198, 28, 1, 104, 29, 4, 1, 31, 6, 21, 1, 15, 23, 2, 9, 148, 17, 3, 1, 12, 87, 2, 14, 29, 3, 22, 33, 82, 37, 12, 112, 5, 1, 1, 4, 58, 7, 289, 17, 1, 1, 1, 14, 1, 30, 22, 1, 1, 5, 4, 10, 2, 5, 31, 267, 9, 2, 6, 34, 257, 4, 4, 9, 1, 4, 1, 27, 123, 52, 36, 2, 11, 5, 1, 64, 2, 1, 25, 2, 16, 2, 8, 5, 6, 1, 62, 2, 7, 12, 11, 1, 1, 1, 22, 6, 1, 268, 263, 2, 1, 2, 1, 9, 4, 82, 47, 11, 44, 4, 6, 2, 53, 1, 1, 6, 6, 34, 22, 56, 16, 6, 44, 91, 8, 5, 17, 1, 2, 25, 177, 81, 8, 1, 14, 5, 2, 2, 6, 4, 12, 3, 5, 1, 18, 2, 49, 2, 35, 8, 2, 12, 5, 21, 23, 7, 4, 2, 11, 1, 14, 3, 8, 1, 1, 2, 3, 2, 2, 18, 1, 7, 13, 1, 67, 1, 11, 1, 1, 1, 3, 1, 1, 5, 26, 1, 8, 7, 41, 152, 33, 2, 67, 2, 1, 1, 10, 22, 8, 16, 3, 1, 11, 22, 5, 1, 1, 2, 1, 2, 1, 1, 1, 1, 21, 1, 3, 5, 1, 2, 1, 12, 4, 1, 4, 5, 4, 15, 5, 1, 6, 65, 1, 2, 1, 38, 61, 17, 102, 1, 10, 142, 53, 12, 33, 22, 5, 54, 8, 6, 6, 5, 2, 5, 15, 18, 6, 5, 1, 5, 3, 30, 3, 41, 4, 6, 2, 18, 45, 14, 10, 7, 11, 5, 2, 3, 1, 2, 35, 11, 5, 1, 8, 7, 1, 2, 2, 1, 11, 13, 3, 1, 4, 15, 5, 1, 11, 1, 2, 2, 5, 2, 15, 1, 9, 5, 2, 25, 1, 5, 1, 2, 9, 1, 2, 4, 2, 9, 1, 2, 3, 1, 1, 2, 1, 1, 28, 45, 11, 6, 26, 3, 12, 3, 32, 8, 82, 11, 10, 3, 7, 80, 2, 1, 6, 1, 2, 7, 20, 7, 2, 9, 12, 2, 2, 3, 2, 3, 5, 6, 1, 17, 3, 4, 8, 7, 8, 6, 1, 6, 1, 1, 2, 4, 5, 5, 5, 16, 2, 4, 4, 1, 3, 3, 18, 3, 1, 1, 17, 3, 1, 1, 1, 1, 3, 2, 5, 26, 4, 1, 2, 2, 3, 11, 1, 1, 1, 5, 6, 2, 1, 39, 14, 8, 1, 3, 1, 13, 4, 8, 1, 2, 1, 1, 4, 2, 3, 1, 1, 1, 3, 1, 2, 1, 1, 1, 11, 1, 1, 5, 1, 3, 5, 1, 1, 1, 10, 2, 4, 1, 2, 11, 3, 1, 4, 9, 8, 2, 2, 43, 1, 1, 1, 4, 11, 1, 1, 22, 5, 80, 8, 13, 1, 3, 4, 4, 14, 2, 41, 37, 3, 1, 81, 2, 1, 1, 2, 1, 1, 1, 1, 1, 1, 1, 1, 1, 1, 4, 1, 1, 5, 1, 9, 18, 3, 2, 1, 1, 1, 2, 1, 3, 3, 2, 7, 3, 7, 2, 2, 2, 1, 1, 1, 4, 2, 2, 2, 3, 2, 1, 1, 1, 1, 1, 1, 1, 6, 1, 1, 1, 2, 12, 1, 3, 1, 3, 1, 1, 1, 1, 1, 4, 7, 4, 7, 2, 3, 8, 1, 5, 19, 9, 3, 1, 1, 2, 4, 7, 4, 3, 6, 1, 3, 2, 1, 1, 1, 6, 5, 3, 1, 1, 1, 1, 1, 1, 1, 1, 1, 1, 3, 3, 1, 1, 10, 1, 4, 2, 8, 12, 2, 2, 1, 1, 1, 2, 3, 3, 1, 90, 2, 59, 35, 1, 4, 1, 2, 2, 26, 2, 1, 4, 4, 16, 9, 1, 58, 13, 30, 1, 3, 3, 17, 7, 46, 1, 2, 16, 10, 2, 16, 10, 5, 8, 23, 1, 2, 12, 9, 8, 8, 1, 1, 3, 10, 3, 18, 5, 12, 7, 1, 2, 2, 3, 3, 2, 5, 24, 74, 3, 6, 24, 1, 12, 23, 4, 2, 48, 5, 3, 90, 1, 4, 1, 5, 14, 5, 5, 22, 1, 1, 7, 17, 6, 8, 11, 35, 37, 1, 9, 1, 11, 1, 23, 11, 3, 2, 11, 2, 6, 3, 1, 4, 11, 3, 4, 13, 10, 22, 2, 16, 5, 2, 6, 38, 3, 8, 4, 1, 2, 23, 1, 1, 1, 3, 2, 4, 3, 5, 4, 9, 5, 4, 2, 32, 2, 2, 5, 2, 1, 1, 1, 1, 1, 2, 4, 3, 4, 3, 2, 1, 9, 1, 1, 1, 8, 5, 2, 1, 1, 1, 1, 2, 1, 3, 8, 1, 7, 1, 3, 1, 3, 1, 1, 1, 4, 8, 1, 11, 8, 1, 1, 4, 2, 1, 1, 2, 1, 1, 1, 4, 6, 22, 1, 2, 5, 5, 1, 3, 1, 1, 1, 4, 4, 2, 3, 1, 8, 2, 14, 3, 1, 1, 1, 6, 1, 3, 7, 1, 3, 1, 43, 1, 3, 1, 7, 1, 4, 1, 4, 3, 1, 2, 3, 2, 3, 2, 6, 1, 1, 3, 1, 1, 7, 1, 2, 3, 1, 6, 1, 2, 5, 7, 9, 2, 5, 9, 7, 13, 9, 4, 3, 1, 1, 2, 1, 1, 7, 1, 1, 1, 1, 1, 1, 1, 1, 7, 7, 12, 1, 12, 1, 3, 3, 1, 1, 2, 2, 3, 1, 10, 2, 3, 3, 5, 4, 3, 1, 7, 17, 4, 1, 2, 12, 2, 12, 1, 1, 2, 6, 3, 7, 1, 129, 11, 20, 14, 1, 5, 10, 11, 32, 6, 4, 1, 2, 37, 3, 6, 9, 2, 8, 3, 1, 77, 1, 1, 1, 1, 9, 17, 9, 16, 3, 2, 20, 2, 3, 7, 4, 1, 5, 1, 1, 2, 4, 2, 1, 2, 1, 1, 1, 1, 1, 1, 2, 3, 3, 1, 2, 1, 5, 6, 2, 1, 9, 4, 3, 1, 41, 8, 4, 1, 3, 1, 1, 6, 2, 1, 3, 5, 1, 1, 4, 8, 1, 2, 6, 3, 9, 2, 3, 1, 1, 12, 1, 17, 13, 1, 2, 5, 3, 1, 4, 3, 1, 5, 4, 9, 1, 4, 3, 2, 7, 1, 4, 1, 3, 5, 1, 1, 12, 1, 5, 1, 1, 5, 1, 1, 1, 1, 1, 6, 1, 10, 2, 1, 2, 3, 1, 2, 2, 1, 1, 2, 7, 2, 1, 8, 3, 5, 2, 3, 1, 1, 1, 5, 1, 4, 7, 1, 11, 6, 8, 1, 5, 2, 2, 1, 1, 1, 1, 3, 2, 3, 6, 12, 1, 2, 2, 1, 11, 17, 1, 21, 6, 4, 2, 7, 1, 3, 3, 2, 1, 1, 1, 5, 24, 31, 12, 1, 2, 2, 1, 4, 1, 3, 4, 1, 2, 1, 4, 1, 4, 5, 1, 5, 2, 4, 1, 2, 1, 7, 2, 1, 1, 1, 1, 1, 7, 1, 2, 1, 1, 4, 18, 3, 1, 5, 2, 1, 11, 2, 7, 1, 1, 7, 14, 1, 1, 1, 3, 14, 9, 1, 6, 1, 1, 2, 3, 4, 1, 6, 11, 9, 7, 1, 1, 1, 1, 1, 1, 7, 2, 2, 1, 1, 1, 2, 6, 2, 2, 2, 1, 8, 2, 1, 1, 2, 1, 1, 7, 1, 1, 5, 12, 1, 3, 1, 2, 3, 1, 1, 1, 1, 1, 1, 1, 9, 29, 2, 1, 1, 1, 1, 1, 1, 3, 1, 2, 1, 6, 15, 3, 2, 1, 8, 1, 1, 5, 2, 1, 12, 3, 6, 8, 2, 7, 3, 3, 1, 3, 1, 1, 2, 11, 2, 1, 4, 1, 2, 3, 3, 2, 4, 1, 12, 4, 1, 7, 29, 2, 7, 1, 1, 6, 1, 2, 2, 9, 9, 3, 3, 1, 2, 2, 1, 2, 2, 1, 1, 3, 1, 6, 2, 1, 3, 1, 1, 2, 5, 3, 4, 2, 2, 2, 4, 5, 3, 1, 1, 2, 54, 17, 1, 2, 1, 1, 1, 4, 4, 5, 6, 1, 3, 9, 4, 1, 3, 1, 2, 7, 1, 1, 3, 4, 5, 2, 1, 1, 2, 2, 1, 1, 3, 1, 1, 2, 2, 1, 1, 1, 2, 2, 1, 1, 3, 9, 4, 2, 1, 2, 1, 3, 1, 3, 1, 1, 1, 1, 1, 2, 1, 1, 1, 1, 5, 4, 1, 3, 1, 1, 1, 1, 1, 1, 2, 1, 1, 1, 1, 1, 1, 1, 5, 10, 2, 1, 1, 2, 6, 3, 5, 2, 3, 3, 74, 2, 1, 1, 179, 8, 1, 3, 2, 1, 11, 1, 6, 1, 2, 2, 10, 1, 2, 2, 1, 1, 4, 2, 1, 1, 1, 3, 2, 1, 8, 3, 1, 1, 1, 4, 1, 1, 1, 1, 1, 2, 3, 3, 2, 1, 1, 1, 1, 3, 1, 1, 1, 1, 3, 1, 1, 1, 1, 1, 6, 3, 1, 1, 1, 2, 1, 1, 1, 6, 4, 1, 3, 2, 9, 2, 7, 2, 1, 1, 1, 3, 1, 1, 8, 1, 4, 1, 1, 1, 1, 2, 8, 3, 2, 2, 4, 17, 1, 1, 1, 6, 1, 1, 7, 1, 1, 11, 1, 1, 1, 1, 1, 1, 1, 8, 7, 1, 6, 1, 1, 1, 1, 5, 2, 1, 1, 2, 4, 1, 4, 3, 2, 12, 1, 1, 1, 1, 1, 1, 1, 1, 2, 2, 1, 1, 3, 2, 3, 1, 2, 2, 2, 1, 2, 44, 2, 6, 1, 1, 3, 2, 2, 1, 5, 33, 1, 1, 11, 1, 7, 1, 2, 2, 9, 1, 10, 6, 2, 28, 2, 2, 3, 1, 1, 3, 4, 2, 4, 1, 4, 12, 1, 5, 3, 1, 4, 1, 1, 4, 1, 2, 3, 1, 7, 1, 157, 1, 3, 1, 1, 1, 1, 2, 2, 1, 1, 8, 6, 4, 1, 3, 2, 8, 7, 5, 6, 6, 1, 1, 1, 2, 1, 1, 2, 1, 1, 3, 1, 1, 1, 2, 3, 1, 3, 4, 1, 4, 1, 1, 1, 1, 1, 1, 1, 2, 1, 2, 1, 5, 2, 1, 4, 1, 2, 3, 1, 2, 4, 3, 2, 2, 1, 1, 1, 2, 1, 1, 1, 1, 2, 3, 1, 1, 2, 1, 1, 1, 4, 1, 1, 1, 3, 1, 1, 3, 2, 2, 1, 1, 1, 2, 2, 3, 3, 2, 1, 3, 6, 1, 2, 1, 1, 1, 1, 1, 3, 2, 1, 2, 1, 1, 2, 6, 1, 1, 2, 3, 1, 2, 2, 9, 1, 1, 1, 11, 1, 1, 1, 2, 1, 1, 1, 4, 1, 1, 2, 1, 1, 1, 1, 4, 1, 1, 7, 2, 1, 2, 1, 1, 1, 1, 1, 40, 2, 2, 2, 1, 2, 1, 2, 1, 1, 1, 1, 1, 1, 1, 1, 1, 2, 1, 1, 17, 1, 11, 1, 1, 4, 2, 1, 1, 1, 3, 1, 1, 4, 2, 1, 2, 1, 1, 1, 3, 1, 1, 1, 1, 1, 2, 1, 1, 1, 1, 2, 1, 7, 3, 1, 1, 1, 6, 1, 3, 1, 1, 2, 1, 13, 1, 1, 1, 1, 1, 1, 1, 1, 3, 1, 2, 2, 2, 2, 1, 2, 1, 17, 2, 2, 7, 3, 1, 1, 1, 1, 1, 2, 7, 9, 6, 7, 5, 3, 3, 3, 3, 2, 3, 2, 2, 2, 3, 2, 1, 2, 3, 2, 2, 11, 27, 5, 1, 1, 1, 1, 4, 3, 4, 3, 3, 2, 1, 1, 1, 1, 1, 1, 1, 1, 1, 1, 1, 1, 1, 1, 1, 1, 10, 1, 1, 1, 2, 1, 2, 1, 2, 1, 2, 1, 2, 2, 2, 1, 1, 1, 1, 1, 1, 1, 1, 1, 1, 1, 1, 2, 1, 2, 1, 1, 1, 8, 3, 1, 1, 2, 2, 1, 3, 1, 1, 4, 1, 2, 1, 3, 1, 1, 2, 3, 2, 1, 1, 7, 1, 1, 1, 4, 1, 4, 1, 2, 2, 9, 1, 1, 1, 2, 1, 4, 4, 1, 4, 1, 1, 1, 1, 3, 3, 2, 2, 6, 3, 2, 5, 5, 1, 1, 5, 1, 1, 1, 2, 1, 2, 4, 1, 1, 3, 2, 3, 1, 1, 1, 3, 2, 1, 1, 1, 1, 1, 1, 1, 1, 1, 1, 2, 1, 3, 1, 2, 1, 2, 1, 2, 1, 2, 1, 1, 3, 2, 9, 2, 1, 1, 8, 5, 3, 1, 1, 5, 1, 1, 5, 1, 1, 2, 1, 1, 4, 3, 1, 1, 2, 1, 1, 2, 10, 1, 3, 1, 1, 1, 2, 1, 2, 1, 2, 1, 1, 1, 1, 2, 3, 1, 2, 1, 7, 3, 1, 1, 2, 2, 5, 3, 2, 2, 4, 1, 1, 1, 1, 1, 1, 1, 1, 1, 1, 1, 1, 1, 1, 1, 1, 3, 3, 1, 1, 2, 1, 1, 1, 1, 2, 1, 3, 2, 1, 1, 1, 1, 1, 1, 1, 1, 1, 1, 1, 2, 1, 1, 3, 1, 3, 3, 1, 1, 1, 10, 11, 1, 2, 3, 1, 1, 12, 3, 4, 2, 2, 1, 1, 6, 5, 10, 1, 2, 2, 1, 1, 1, 1, 1, 1, 1, 1, 1, 1, 1, 8, 9, 2, 2, 2, 1, 2, 1, 3, 1, 1, 1, 1, 3, 1, 1, 1, 3, 3, 1, 1, 2, 1, 1, 1, 1, 2, 3, 1, 1, 1, 1, 1, 1, 2, 1, 1, 2, 1, 1, 2, 1, 1, 1, 1, 1, 3, 1, 1, 1, 1, 1, 1, 1, 1, 2, 1, 1, 1, 1, 1, 1, 1, 1, 1, 2, 1, 1, 1, 1, 1, 1, 1, 1, 1, 1, 1, 1, 1, 1, 1, 10, 2, 1, 1, 2, 1, 1, 1, 4, 1, 1, 1, 2, 2, 2, 1, 1, 1, 1, 1, 2, 1, 2, 1, 1, 1, 1, 1, 1, 1, 1, 1, 1, 1, 1, 1, 1, 1, 1, 1, 1, 1, 1, 1, 1, 1, 1, 1, 1, 1, 1, 1, 2, 1, 1, 1, 1, 1, 1, 1, 1, 1, 1, 1, 1, 1, 1, 1, 1, 1, 1, 1, 1, 2, 2, 2, 1, 2, 1, 1, 1, 1, 2, 1, 1, 1, 1, 1, 1, 1, 1, 1, 1, 1, 3, 1, 1, 1, 1, 1, 1, 1, 4, 1, 1, 1, 1, 1, 1, 1, 1, 1, 1, 1, 1, 1, 2, 2, 1, 1, 1, 1, 1, 1, 1, 1, 1, 1, 1, 1, 1, 1, 1, 1, 1, 3, 1, 2, 1, 1, 1, 1, 1, 1, 1, 1, 1, 1, 2, 1, 1, 2, 1, 1, 1, 2, 1, 1, 1, 1, 1, 1, 1, 1, 2, 1, 1, 1, 1, 1, 2, 1, 1, 1, 1, 1, 5, 1, 1, 1, 1, 1, 1, 1, 1, 1, 1, 1, 1, 1, 2, 2, 2, 1, 2, 1, 1, 1, 2, 1, 1, 1, 1, 1, 1, 1, 1, 1, 1, 2, 1])"
      ]
     },
     "execution_count": 266,
     "metadata": {},
     "output_type": "execute_result"
    }
   ],
   "source": [
    "#Showing the frequency of each word\n",
    "most_freq_words3.values()"
   ]
  },
  {
   "cell_type": "markdown",
   "id": "8f8275e7",
   "metadata": {},
   "source": [
    "keys( ) shows the keys/words."
   ]
  },
  {
   "cell_type": "code",
   "execution_count": 189,
   "id": "0f77581e",
   "metadata": {},
   "outputs": [
    {
     "data": {
      "text/plain": [
       "dict_keys(['In', 'the', 'beginning', 'God', 'created', 'heaven', 'and', 'earth', '.', 'And', 'was', 'without', 'form', ',', 'void', ';', 'darkness', 'upon', 'face', 'of', 'deep', 'Spirit', 'moved', 'waters', 'said', 'Let', 'there', 'be', 'light', ':', 'saw', 'that', 'it', 'good', 'divided', 'from', 'called', 'Day', 'he', 'Night', 'evening', 'morning', 'were', 'first', 'day', 'a', 'firmament', 'in', 'midst', 'let', 'divide', 'made', 'which', 'under', 'above', 'firmame', 'so', 'Heaven', 'second', 'gathered', 'together', 'unto', 'one', 'place', 'dry', 'land', 'appe', 'Earth', 'gathering', 'Se', 'bring', 'forth', 'grass', 'herb', 'yielding', 'seed', 'fruit', 'tree', 'after', 'his', 'kind', 'whose', 'is', 'itself', 'ear', 'brought', 'ki', 'third', 'lights', 'to', 'night', 'them', 'for', 'signs', 'seasons', 'days', 'yea', 'give', 'two', 'great', 'greater', 'rule', 'lesser', 'nig', 'stars', 'also', 'set', 'over', 'darkne', 'fourth', 'abundantly', 'moving', 'creature', 'hath', 'life', 'fowl', 'may', 'fly', 'open', 'whales', 'every', 'living', 'moveth', 'their', 'winged', 'blessed', 'saying', 'Be', 'fruitful', 'multiply', 'fill', 'seas', 'fifth', 'cattle', 'creeping', 'thing', 'beast', 'creepeth', 'us', 'make', 'man', 'our', 'image', 'likene', 'have', 'dominion', 'fish', 'sea', 'air', 'all', 'So', 'own', 'him', 'male', 'female', 'replenish', 'subdue', 'Behold', 'I', 'given', 'you', 'bearing', 'shall', 'meat', 'wherein', 'green', 'me', 'had', 'behold', 'very', 'sixth', 'Thus', 'heavens', 'finished', 'host', 'on', 'seventh', 'ended', 'work', 'rested', 'sanctified', 'because', 'These', 'are', 'generations', 'when', 'they', 'LORD', 'plant', 'field', 'before', 'gr', 'not', 'caused', 'rain', 'till', 'ground', 'But', 'went', 'up', 'mist', 'watered', 'whole', 'formed', 'dust', 'breathed', 'into', 'nostrils', 'breath', 'became', 'soul', 'planted', 'garden', 'eastward', 'Eden', 'put', 'whom', 'out', 'grow', 'pleasant', 'sight', 'food', 'knowledge', 'evil', 'river', 'water', 'thence', 'parted', 'four', 'heads', 'The', 'name', 'Pison', 'compasseth', 'Havilah', 'where', 'gold', 'bdellium', 'onyx', 'stone', 'Gihon', 'same', 'Ethiopia', 'Hiddekel', 'goeth', 'toward', 'east', 'Assyria', 'Euphrates', 'took', 'dress', 'keep', 'commanded', 'Of', 'thou', 'mayest', 'freely', 'e', 'shalt', 'eat', 'eatest', 'thereof', 'surely', 'die', 'It', 'should', 'alone', 'will', 'an', 'help', 'meet', 'Adam', 'see', 'what', 'would', 'call', 'th', 'whatsoever', 'gave', 'names', 'but', 'found', 'sleep', 'fall', 'sle', 'ribs', 'closed', 'flesh', 'instead', 'rib', 'taken', 'woman', 'her', 'This', 'now', 'bone', 'my', 'bones', 'fle', 'she', 'Woman', 'Man', 'Therefore', 'leave', 'father', 'mother', 'cleave', 'wife', 'both', 'naked', 'ashamed', 'Now', 'serpent', 'more', 'subtil', 'than', 'any', 'Yea', 'Ye', '?', 'We', 'trees', 'gard', 'neither', 'ye', 'touch', 'lest', 'For', 'doth', 'know', 'then', 'your', 'eyes', 'opened', 'as', 'gods', 'knowing', 'desired', 'wise', 'did', 'husband', 'with', 'knew', 'sewed', 'fig', 'leaves', 'themselves', 'aprons', 'heard', 'voice', 'walking', 'cool', 'd', 'hid', 'presence', 'amongst', 'Where', 'art', 'thy', 'afraid', 'myself', 'Who', 'told', 'thee', 'wast', 'Hast', 'eaten', 'whereof', 'shouldest', 'gavest', 'What', 'this', 'hast', 'done', 'beguiled', 'Because', 'cursed', 'belly', 'go', 'li', 'enmity', 'between', 'bruise', 'head', 'heel', 'Unto', 'greatly', 'sorrow', 'conception', 'children', 'desire', 'hearkened', 'Thou', 'sake', 'Thorns', 'thistles', 'sweat', 'bread', 'return', 'tak', \"'\", 's', 'Eve', 'coats', 'skins', 'clothed', 'become', 'ev', 'hand', 'take', 'live', 'sent', 'whence', 'drove', 'placed', 'at', 'Cherubims', 'flaming', 'sword', 'turned', 'way', 'conceived', 'bare', 'Cain', 'gotten', 'again', 'brother', 'Abel', 'keeper', 'sheep', 'tiller', 'process', 'time', 'came', 'pass', 'offering', 'firstlings', 'flock', 'fat', 'respect', 'offeri', 'wroth', 'countenance', 'fell', 'Why', 'why', 'fallen', 'If', 'doest', 'well', 'accepted', 'if', 'sin', 'lieth', 'door', 'talked', 'rose', 'against', 'slew', 'n', 'Am', 'blood', 'crieth', 'mouth', 'receive', 'When', 'tillest', 'henceforth', 'yield', 'strength', 'fugitive', 'vagabond', 'My', 'punishment', 'can', 'bear', 'driven', 'come', 'findeth', 'slay', 'whosoever', 'slayeth', 'vengeance', 'sevenfold', 'mark', 'finding', 'kill', 'dwelt', 'Nod', 'Enoch', 'builded', 'city', 'son', 'born', 'Irad', 'begat', 'Mehujael', 'Methusa', 'Methusael', 'Lamech', 'wives', 'Adah', 'other', 'Zillah', 'Jabal', 'such', 'dwell', 'tents', 'Jubal', 'handle', 'harp', 'organ', 'Tubalcain', 'instructor', 'artificer', 'brass', 'ir', 'sister', 'Naamah', 'Hear', 'hearken', 'spee', 'slain', 'wounding', 'young', 'hurt', 'avenged', 'truly', 'seventy', 'appointed', 'another', 'Seth', 'En', 'began', 'men', 'book', 'likeness', 'Male', 'lived', 'hundred', 'thirty', 'years', 'begotten', 'eight', 'sons', 'daughters', 'nine', 'died', 'five', 'Enos', 'seven', 'daughte', 'twelve', 'ninety', 'Cainan', 'fifteen', 'Mahalaleel', 'forty', 'ten', 'sixty', 'Jared', 'Eno', 'Methuselah', 'walked', 'three', 'eighty', 'Noah', 'comfort', 'concerning', 'toil', 'hands', 'old', 'Shem', 'Ham', 'Japheth', 'That', 'fair', 'chose', 'spirit', 'always', 'strive', 'yet', 'twenty', 'There', 'giants', 'those', 'mighty', 'renown', 'wickedness', 'imagination', 'thoughts', 'heart', 'only', 'continually', 'repented', 'grieved', 'destroy', 'fowls', 'repenteth', 'grace', 'just', 'perfect', 'corrupt', 'filled', 'violence', 'looked', 'corrupted', 'end', 'through', 'Make', 'ark', 'gopher', 'wood', 'rooms', 'pitch', 'within', 'fashion', 'length', 'cubits', 'breadth', 'fifty', 'height', 'A', 'window', 'cubit', 'finish', 'side', 'lower', 'stories', 'even', 'do', 'flood', 'establish', 'covenant', 'sort', 'alive', 'gather', 'according', 'Come', 'house', 'seen', 'righteous', 'generation', 'clean', 'by', 'sevens', 'fema', 'beasts', 'cause', 'nights', 'substance', 'off', 'six', 'hundredth', 'year', 'month', 'seventeenth', 'fountains', 'broken', 'windows', 'selfsame', 'entered', 'They', 'bird', 'h', 'shut', 'increased', 'lift', 'prevailed', 'exceedingly', 'high', 'hills', 'covered', 'Fifteen', 'upward', 'prevail', 'mountains', 'm', 'All', 'destroyed', 'things', 'remained', 'remembered', 'wind', 'asswaged', 'stopped', 'restrained', 'returned', 'abated', 'Ararat', 'decreased', 'until', 'tenth', 'tops', 'ma', 'raven', 'fro', 'dried', 'Also', 'dove', 'no', 'rest', 'sole', 'foot', 'pulled', 'stayed', 'lo', 'olive', 'leaf', 'pluckt', 'o', 'removed', 'covering', 'twentieth', 'spake', 'Go', 'Bring', 'breed', 'Every', 'kinds', 'altar', 'offered', 'burnt', 'offerings', 'smelled', 'sweet', 'savour', 'curse', 'youth', 'smite', 'While', 'remaineth', 'seedtime', 'harvest', 'cold', 'heat', 'summer', 'winter', 'cease', 'fear', 'dread', 'fishes', 'delivered', 'liveth', 'lives', 'require', 'Whoso', 'sheddeth', 'shed', 'therein', 'cut', 'token', 'perpetual', 'generatio', 'bow', 'cloud', 'clo', 'remember', 'look', 'everlasting', 'established', 'Japhe', 'Canaan', 'overspread', 'husbandman', 'vineyard', 'drank', 'wine', 'drunken', 'uncovered', 'tent', 'nakedness', 'brethren', 'garment', 'laid', 'shoulders', 'backward', 'faces', 'awoke', 'younger', 'Cursed', 'servant', 'servants', 'Blessed', 'enlarge', 'these', 'Gomer', 'Magog', 'Madai', 'Javan', 'Tubal', 'Meshech', 'Tiras', 'Ashkenaz', 'Riphath', 'Togarmah', 'Elishah', 'Tarshish', 'Kittim', 'Dodanim', 'By', 'isles', 'Gentiles', 'lands', 'tongue', 'families', 'nations', 'Cush', 'Mizraim', 'Phut', 'Seba', 'Sabtah', 'Raamah', 'Sabtech', 'Sheba', 'Dedan', 'Nimrod', 'He', 'hunter', 'wherefore', 'Even', 'kingdom', 'Babel', 'Erech', 'Accad', 'Calneh', 'Shinar', 'Out', 'Asshur', 'Nineveh', 'Rehoboth', 'Calah', 'Resen', 'Ludim', 'Anamim', 'Lehabim', 'Naphtuhim', 'Pathrusim', 'Casluhim', '(', 'Philistim', ',)', 'Caphtorim', 'Sidon', 'Heth', 'Jebusite', 'Amorite', 'Girgasite', 'Hivite', 'Arkite', 'Sinite', 'Arvadite', 'Zemarite', 'Hamathite', 'afterward', 'Canaanites', 'spread', 'abroad', 'border', 'comest', 'Gerar', 'Gaza', 'goest', 'Sodom', 'Gomorrah', 'Admah', 'Zeboim', 'Lasha', 'tongues', 'countries', 'Eber', 'elder', 'Elam', 'Arphaxad', 'Lud', 'Aram', 'Uz', 'Hul', 'Gether', 'Mash', 'Salah', 'Peleg', 'Joktan', 'Almodad', 'Sheleph', 'Hazarmaveth', 'Jerah', 'Hadoram', 'Uzal', 'Diklah', 'Obal', 'Abimael', 'Ophir', 'Jobab', 'dwelling', 'Mesha', 'Sephar', 'mount', 'natio', 'language', 'speech', 'journeyed', 'plain', 'brick', 'burn', 'thoroughly', 'slime', 'morter', 'build', 'tower', 'top', 'reach', 'we', 'scattered', 'down', 'people', 'begin', 'nothing', 'imagined', 'confound', 'understand', 'left', 'scatter', 'flo', 'Reu', 'Serug', 'Nahor', 'Terah', 'nineteen', 'Abram', 'Haran', 'Lot', 'nativity', 'Ur', 'Chaldees', 'Sarai', 'Milcah', 'daughter', 'Iscah', 'barren', 'child', 'law', 'Get', 'country', 'kindred', 'shew', 'nation', 'bless', 'blessi', 'curseth', 'departed', 'spoken', 'souls', 'passed', 'Sichem', 'Moreh', 'Canaanite', 'appeared', 'la', 'who', 'mountain', 'Bethel', 'pitched', 'having', 'west', 'Hai', 'ea', 'going', 'still', 'south', 'famine', 'Egypt', 'sojourn', 'grievous', 'near', 'enter', 'Egyptians', 'say', 'save', 'Say', 'pray', 'beheld', 'princes', 'Pharaoh', 'commended', 'Phara', 'entreated', 'oxen', 'asses', 'menservants', 'maidservants', 'camels', 'plagued', 'plagues', 'didst', 'tell', 'saidst', 'She', 'might', 'therefore', 'away', 'rich', 'silver', 'journeys', 'been', 'fir', 'flocks', 'herds', 'able', 'togeth', 'could', 'strife', 'herdmen', 'catt', 'Perizzite', 'dwelled', 'Is', 'separate', 'thyself', 'wilt', 'right', 'or', 'depart', 'lifted', 'Jordan', 'like', 'Zoar', 'Then', 'separated', 'cities', 'wicked', 'sinners', 'Lift', 'thine', 'northward', 'southward', 'westwa', 'seest', 'ever', 'number', 'numbered', 'Arise', 'walk', 'Mamre', 'Hebron', 'built', 'Amraphel', 'king', 'Arioch', 'Ellasar', 'Chedorlaomer', 'Tidal', 'war', 'Bera', 'Birsha', 'Shinab', 'Shemeber', 'Zeboiim', 'Bela', 'joined', 'vale', 'Siddim', 'salt', 'Twelve', 'served', 'thirteenth', 'rebelled', 'fourteenth', 'kings', 'smote', 'Rephaims', 'Ashteroth', 'Karnaim', 'Zuzims', 'Emins', 'Shaveh', 'Kiriathaim', 'Horites', 'Seir', 'Elparan', 'wilderness', 'Enmishpat', 'Kadesh', 'Amalekites', 'Amorites', 'Hazezontamar', ';)', 'battle', 'With', 'full', 'slimepits', 'fled', 'goods', 'victuals', 'escaped', 'Hebrew', 'Eshcol', 'An', 'confederate', 'captive', 'armed', 'trained', 'eighteen', 'pursued', 'Dan', 'himself', 'Hobah', 'Damascus', 'back', 'women', 'slaughter', 'valley', 'dale', 'Melchizedek', 'Salem', 'priest', 'most', 'possessor', 'enemies', 'tithes', 'Give', 'persons', 'mine', 'thread', 'shoelatchet', 'ri', 'Save', 'portion', 'Aner', 'After', 'word', 'vision', 'Fear', 'Abr', 'am', 'shield', 'exceeding', 'reward', 'seeing', 'childless', 'steward', 'Eliezer', 'heir', 'bowels', 'Look', 'believed', 'counted', 'righteousness', 'inherit', 'whereby', 'Take', 'heifer', 'goat', 'ram', 'turtledove', 'pigeon', 'each', 'piece', 'anoth', 'birds', 'carcases', 'sun', 'horror', 'Know', 'surety', 'stranger', 'serve', 'afflict', 'judge', 'fathers', 'peace', 'buried', 'age', 'hither', 'iniquity', 'dark', 'smoking', 'furnace', 'burning', 'lamp', 'pieces', 'Euphrat', 'Kenites', 'Kenizzites', 'Kadmonites', 'Hittites', 'Perizzites', 'Girgashites', 'Jebusites', 'handmaid', 'Egyptian', 'Hagar', 'beari', 'maid', 'obtain', 'mistress', 'despised', 'wrong', 'bosom', 'ey', 'pleaseth', 'dealt', 'hardly', 'angel', 'fountain', 'Shur', 'camest', 'whither', 'flee', 'Return', 'submit', 'multitude', 'Ishmael', 'affliction', 'wild', 'Have', 'here', 'seeth', 'Wherefore', 'Beerlahairoi', 'Bered', 'fourscore', 'Almighty', 'As', 'many', 'Neither', 'Abraham', 'possession', 'among', 'circumcised', 'circumcise', 'foreskin', 'betwixt', 'bought', 'money', 'must', 'needs', 'circumcis', 'uncircumcised', 'Sarah', 'laughed', 'Shall', 'O', '!', 'indeed', 'Isa', 'beget', 'Isaac', 'next', 'talking', 'thirteen', 'plains', 'sat', 'stood', 'ran', 'bowed', 'favour', 'serva', 'little', 'fetched', 'wash', 'feet', 'yourselves', 'tr', 'fetch', 'morsel', 'hearts', 'hastened', 'ready', 'quickly', 'measures', 'fine', 'meal', 'knead', 'cakes', 'hearth', 'herd', 'fetcht', 'calf', 'tender', 'hasted', 'butter', 'milk', 'dressed', 'certainly', 'behind', 'stricken', 'ceased', 'manner', 'herself', 'waxed', 'pleasure', 'lord', 'being', 'laugh', 'too', 'hard', 'At', 'denied', 'Nay', 'hide', 'Seeing', 'command', 'household', 'justice', 'judgment', 'cry', 'whether', 'altogether', 'Sod', 'drew', 'Wilt', 'Peradventure', 'spare', 'far', 'wick', 'Judge', 'find', 'sakes', 'answered', 'speak', 'ash', 'lack', 'Oh', 'angry', 'spe', 'LO', 'soon', 'communing', 'Abrah', 'angels', 'gate', 'lords', 'turn', 'tarry', 'rise', 'early', 'ways', 'abide', 'street', 'pressed', 'feast', 'bake', 'unleavened', 'lay', 'compassed', 'round', 'quart', 'wickedly', 'known', 'shadow', 'roof', 'Stand', 'fellow', 'jud', 'deal', 'worse', 'sore', 'break', 'blindness', 'small', 'gre', 'wearied', 'besides', 'pla', 'waxen', 'married', 'Up', 'get', 'seemed', 'mocked', 'arose', 'consumed', 'while', 'lingered', 'hold', 'merciful', 'Escape', 'stay', 'escape', 'magnified', 'mercy', 'shewed', 'saving', 'cannot', 'some', 'thither', '?)', 'See', 'overthrow', 'Haste', 'anything', 'risen', 'rained', 'brimstone', 'fire', 'overthrew', 'inhabitants', 'grew', 'pillar', 'gat', 'smoke', 'feared', 'Zo', 'cave', 'firstborn', 'Our', 'drink', 'lie', 'preserve', 'perceived', 'nor', 'morrow', 'yesternight', 'fath', 'Moab', 'Moabites', 'Benam', 'Ammon', 'sojourned', 'Abimelech', 'dream', 'dead', 'Said', 'broth', 'integrity', 'innocency', 'withheld', 'sinning', 'suffered', 'restore', 'prophet', 'offended', 'deeds', 'ought', 'sawest', 'thought', 'Surely', 'wander', 'kindness', 'womenservants', 'restored', 'thousand', 'silv', 'oth', 'thus', 'reproved', 'prayed', 'healed', 'fast', 'wombs', 'visited', 'hear', 'suck', 'weaned', 'mocking', 'Cast', 'bondwoman', 'lad', 'bottle', 'putting', 'shoulder', 'aw', 'wandered', 'Beersheba', 'spent', 'cast', 'shrubs', 'sh', 'death', 'wept', 'aileth', 'archer', 'Paran', 'Phichol', 'chief', 'captain', 'doe', 'swear', 'falsely', 'violently', 'wot', 'ewe', 'lambs', 'mean', 'witness', 'digged', 'sware', 'Philistines', 'grove', 'tempt', 'lovest', 'Moriah', 'offer', 'saddled', 'ass', 'clave', 'afar', 'Abide', 'yonder', 'worship', 'knife', 'Here', 'wo', 'lamb', 'provide', 'order', 'bound', 'stretched', 'Lay', 'fearest', 'caught', 'thicket', 'hor', 'stead', 'Jehovahjireh', 'sworn', 'saith', 'blessing', 'multiplying', 'sand', 'shore', 'possess', 'obeyed', 'Huz', 'Buz', 'Kemuel', 'Chesed', 'Hazo', 'Pildash', 'Jidlaph', 'Bethuel', 'Rebekah', 'concubine', 'Reumah', 'Tebah', 'Gaham', 'Thahash', 'Maachah', 'Kirjatharba', 'Cana', 'mourn', 'weep', 'sojourner', 'buryingplace', 'bury', 'prince', 'choice', 'sepulchres', 'none', 'withhold', 'sepulchre', 'communed', 'mind', 'intreat', 'Ephron', 'Zohar', 'Machpelah', 'much', 'worth', 'Hittite', 'audience', 'shekels', 'weighed', 'named', 'current', 'merchant', 'borders', 'about', 'sure', 'Mam', 'eldest', 'ruled', 'Put', 'thi', 'dwe', 'willing', 'follow', 'Beware', 'send', 'clear', 'oa', 'thigh', 'master', 'matter', 'ha', 'Mesopotamia', 'kneel', 'draw', 'speed', 'stand', 'wat', 'damsel', 'pitcher', 'Drink', 'al', 'thereby', 'speaking', 'virgin', 'giving', 'drinking', 'emptied', 'trough', 'wondering', 'held', 'wit', 'journey', 'prosperous', 'golden', 'earring', 'half', 'shekel', 'weight', 'bracelets', 'Whose', 'room', 'lodge', 'moreover', 'straw', 'provender', 'enough', 'worshipped', 'destitute', 'tru', 'led', 'Laban', 'words', 'standest', 'prepared', 'ungirded', 'errand', 'Speak', 'prosper', 'hou', 'oath', 'cometh', 'Both', 'haste', 'asked', 'kindly', 'proceedeth', 'bad', 'bowing', 'jewels', 'raiment', 'Rebek', 'precious', 'tarried', 'Send', 'few', 'least', 'Hinder', 'prospered', 'enquire', 'nurse', 'thousands', 'millions', 'hate', 'damsels', 'rode', 'followed', 'Lahairoi', 'meditate', 'eventide', 'coming', 'lighted', 'camel', 'walketh', 'mast', 'vail', 'loved', 'comforted', 'Keturah', 'Zimran', 'Jokshan', 'Medan', 'Midian', 'Ishbak', 'Shuah', 'Asshurim', 'Letushim', 'Leummim', 'Ephah', 'Epher', 'Hanoch', 'Abidah', 'Eldaah', 'concubines', 'gifts', 'threescore', 'ghost', 'purchased', 'Nebajoth', 'Kedar', 'Adbeel', 'Mibsam', 'Mishma', 'Dumah', 'Massa', 'Hadar', 'Tema', 'Jetur', 'Naphish', 'Kedemah', 'towns', 'castles', 'Assyr', 'Syrian', 'Padanaram', 'intreated', 'barr', 'struggled', 'Two', 'womb', 'stronger', 'fulfilled', 'twins', 'red', 'hairy', 'Esau', 'Jac', 'boys', 'cunning', 'Jacob', 'venison', 'sod', 'pottage', 'fai', 'Feed', 'Edom', 'Sell', 'birthright', 'point', 'profit', 'Swear', 'sold', 'lentiles', 'w', 'beside', 'Sojourn', 'perform', 'kept', 'charge', 'commandments', 'statutes', 'laws', 'sist', 'long', 'sporting', 'how', 'Lest', 'lightly', 'lien', 'guiltiness', 'charged', 'toucheth', 'sowed', 'received', 'hundredfo', 'forward', 'store', 'servan', 'envied', 'wells', 'mightier', 'springing', 'ou', 'Esek', 'strove', 'Sitnah', 'Ahuzzath', 'friends', 'army', 'touched', 'pea', 'betimes', 'Shebah', 'Judith', 'Beeri', 'Bashemath', 'Elon', 'Hitti', 'Which', 'grief', 'dim', 'dea', 'weapons', 'quiver', 'savoury', 'love', 'hunt', 'obey', 'kids', 'goats', 'smooth', 'peradventure', 'feel', 'seem', 'deceiver', 'Upon', 'goodly', 'ne', 'badest', 'arise', 'sit', 'How', 'felt', 'discerned', 'han', 'Art', 'kiss', 'kissed', 'smell', 'dew', 'fatness', 'plenty', 'corn', 'wi', 'blesseth', 'scarce', 'gone', 'hunting', 'trembled', 'cried', 'bitter', 'Bless', 'Thy', 'subtilty', 'rightly', 'supplanted', 'tim', 'reserved', 'sustained', 'yoke', 'neck', 'hated', 'wherewith', 'mourning', 'touching', 'purposing', 'fury', 'Until', 'anger', 'forget', 'deprived', 'weary', 'daughers', 'pleased', 'Mahalath', 'certain', 'stones', 'pillows', 'dreamed', 'ladder', 'reached', 'heav', 'ascending', 'descending', 'whereon', 'liest', 'north', 'sou', 'places', 'awaked', 'dreadful', 'poured', 'oil', 'Luz', 'vowed', 'vow', 'G', 'lying', 'floc', 'rolled', 'Rachel', 'Lo', 'feed', 'roll', 'tidings', 'embraced', 'abode', 'space', 'nought', 'wages', 'Leah', 'eyed', 'beautiful', 'favoured', 'better', 'Zilpah', 'Fulfil', 'week', 'service', 'Bilhah', 'Reub', 'Simeon', 'Levi', 'praise', 'Judah', 'else', 'kindled', 'knees', 'judged', 'wrestlings', 'wrestled', 'Naphtali', 'troop', 'Gad', 'Happy', 'Asher', 'Reuben', 'wheat', 'mandrakes', 'wouldest', 'hired', 'hire', 'maiden', 'husba', 'Issachar', 'endued', 'dowry', 'Zebulun', 'afterwards', 'Dinah', 'reproa', 'Joseph', 'add', 'knowest', 'tar', 'learned', 'experience', 'Appoint', 'hadst', 'since', 'comi', 'removing', 'speckled', 'spotted', 'brown', 'goa', 'answer', 'fa', 'stolen', 'ringstraked', 'white', 'fed', 'rods', 'poplar', 'hazel', 'chesnut', 'pilled', 'strakes', 'appear', 'gutters', 'watering', 'troughs', 'conceive', 'whensoever', 'feeble', 'feebler', 'glory', 'power', 'deceived', 'changed', 'times', 'speckl', 'rams', 'leaped', 'grisled', 'leap', 'grisl', 'doeth', 'anointedst', 'vowedst', 'inheritance', 'Are', 'strangers', 'quite', 'devoured', 'riches', 'ours', 'carried', 'getting', 'shear', 'images', 'stole', 'unawares', 'Gilead', 'overtook', 'heed', 'either', 'mou', 'captives', 'secretly', 'steal', 'mirth', 'songs', 'tabret', 'foolishly', 'doing', 'though', 'longedst', 'force', 'whomsoever', 'findest', 'discern', 'furniture', 'searched', 'displease', 'custom', 'chode', 'trespass', 'hotly', 'Whereas', 'stuff', 'ewes', 'torn', 'loss', 'drought', 'frost', 'fourteen', 'Except', 'empty', 'labour', 'rebuked', 'mi', 'Gather', 'heap', 'Jegarsahadutha', 'Galeed', 'Mizpah', 'watch', 'absent', 'harm', 'sacrifice', 'bre', 'met', 'Mahanaim', 'messengers', 'womenservan', 'distressed', 'bands', 'company', 'worthy', 'mercies', 'truth', 'staff', 'Deliver', 'Es', 'lodged', 'present', 'Thirty', 'milch', 'colts', 'kine', 'bulls', 'foals', 'Pass', 'foremost', 'meeteth', 'asketh', 'droves', 'On', 'appease', 'accept', 'eleven', 'ford', 'Jabbok', 'brook', 'breaking', 'hollow', 'joint', 'breaketh', 'except', 'Isra', 'Tell', 'dost', 'ask', 'Peniel', 'preserved', 'Penuel', 'halted', 'Israel', 'sinew', 'shrank', 'handmaids', 'hindermost', 'graciously', 'handmaidens', 'themselv', 'meanest', 'urged', 'knoweth', 'overdrive', 'lead', 'softly', 'endure', 'folk', 'needeth', 'Succoth', 'booths', 'Shalem', 'Shechem', 'parcel', 'Hamor', 'erected', 'EleloheIsrael', 'defiled', 'fie', 'commune', 'wrought', 'folly', 'daught', 'longeth', 'marriages', 'trade', 'possessions', 'Ask', 'never', 'gift', 'deceitfully', 'reproach', 'consent', 'deferred', 'delight', 'honourable', 'peaceable', 'large', 'Only', 'herein', 'boldly', 'males', 'edge', 'spoiled', 'wealth', 'ones', 'troubled', 'stink', 'Perizzit', 'Should', 'harlot', 'fleddest', 'strange', 'change', 'garmen', 'distress', 'earrings', 'ears', 'oak', 'terror', 'pursue', 'Elbethel', 'Deborah', 'beneath', 'Allonbachuth', 'na', 'loins', 'sto', 'thereon', 'Ephra', 'travailed', 'midwife', 'departing', ')', 'Beno', 'Benjamin', 'Ephrath', 'Bethlehem', 'grave', 'beyond', 'Edar', 'concubi', 'twel', 'Zebul', 'Arbah', 'da', 'Aholibamah', 'Anah', 'Zibeon', 'Eliphaz', 'Reuel', 'Jeush', 'Jaalam', 'Korah', 'got', 'Edomites', 'Teman', 'Omar', 'Zepho', 'Gatam', 'Kenaz', 'Timna', 'Amal', 'Nahath', 'Zerah', 'Shammah', 'Mizz', 'dukes', 'duke', 'Duke', 'Amalek', 'Kor', 'Horite', 'inhabited', 'Lotan', 'Shobal', 'Dishon', 'Ezer', 'Dishan', 'Hori', 'Hemam', 'Alvan', 'Manahath', 'Ebal', 'Shepho', 'Onam', 'Ajah', 'mules', 'Hemdan', 'Eshban', 'Ithran', 'Cheran', 'Bilhan', 'Zaavan', 'Akan', 'Aran', 'reigned', 'Beor', 'Dinhabah', 'Bozrah', 'Husham', 'Temani', 'Hadad', 'Bedad', 'ste', 'Avith', 'Samlah', 'Masrekah', 'Saul', 'Baalhanan', 'Achbor', 'Pau', 'Mehetabel', 'Matred', 'Mezahab', 'Timnah', 'Alvah', 'Jetheth', 'Elah', 'Pinon', 'Mibzar', 'Magdiel', 'Iram', 'habitations', 'possessi', 'seventeen', 'feeding', 'wiv', 'report', 'coat', 'colours', 'peaceably', 'binding', 'sheaves', 'sheaf', 'upright', 'obeisance', 'Shalt', 'reign', 'dreams', 'moon', 'ourselves', 'observed', 'Do', 'wandering', 'seekest', 'seek', 'hence', 'Dothan', 'conspired', 'dreamer', 'pit', 'Some', 'Shed', 'rid', 'deliver', 'stript', 'Ishmeelites', 'spicery', 'balm', 'myrrh', 'carry', 'conceal', 'sell', 'content', 'Midianites', 'merchantmen', 'rent', 'clothes', 'killed', 'kid', 'dipped', 'fou', 'doubt', 'sackcloth', 'mourned', 'refused', 'Potiphar', 'officer', 'guard', 'Adullamite', 'Hirah', 'Er', 'Onan', 'Shel', 'Chezib', 'Tamar', 'marry', 'raise', 'spilled', 'displeased', 'Remain', 'widow', 'Shelah', 'gro', 'sheepshearers', 'Timnath', 'friend', 'garments', 'wrapped', 'grown', '.)', 'pledge', 'signet', 'widowhood', 'openly', 'shamed', 'months', 'played', 'whoredom', 'chi', 'Discern', 'acknowledged', 'travail', 'scarlet', 'breach', 'Pharez', 'Zarah', 'overseer', 'person', 'Lie', 'wotteth', 'committed', 'business', 'mock', 'loud', 'voi', 'home', 'wrath', 'prison', 'prisoners', 'bou', 'doer', 'butler', 'baker', 'officers', 'butlers', 'bakers', 'ward', 'continued', 'season', 'interpretation', 'sad', 'sadly', 'interpreter', 'interpretations', 'belong', 'vine', 'branches', 'budded', 'blossoms', 'shot', 'clusters', 'ripe', 'grap', 'cup', 'grapes', 'Yet', 'former', 'think', 'mention', 'Hebrews', 'dungeon', 'baskets', 'uppermost', 'basket', 'bakemeats', 'hang', 'birthday', 'butlership', 'hanged', 'interpreted', 'forgat', 'fatfleshed', 'meadow', 'ill', 'leanfleshed', 'brink', 'slept', 'stalk', 'rank', 'thin', 'blasted', 'sprung', 'magicians', 'interpret', 'faults', 'bak', 'office', 'hastily', 'dunge', 'shaved', 'canst', 'bank', 'riv', 'mead', 'poor', 'badne', 'lean', 'withered', 'declare', 'sheweth', 'throughout', 'Egy', 'forgotten', 'consume', 'reason', 'following', 'doubled', 'twice', 'shortly', 'discreet', 'appoint', 'part', 'plenteous', 'perish', 'Can', 'Forasmuch', 'rul', 'throne', 'ring', 'arrayed', 'vestures', 'linen', 'chain', 'ride', 'chariot', 'Bow', 'kn', 'ruler', 'Zaphnathpaaneah', 'Asenath', 'Potipherah', 'handfuls', 'citi', 'numbering', 'Manasseh', 'Ephraim', 'plenteousness', 'dearth', 'sa', 'famished', 'storehouses', 'buy', 'mischief', 'befall', 'governor', 'roughly', 'Whence', 'From', 'spies', 'true', 'youngest', 'spi', 'Hereby', 'proved', 'y', 'pris', 'hous', 'verified', 'verily', 'guilty', 'anguish', 'besought', 'Spake', 'required', 'understood', 'sacks', 'sack', 'provision', 'laded', 'inn', 'espied', 'failed', 'befell', 'households', 'traffick', 'bundle', 'bundles', 'Me', 'bereaved', 'childr', 'Slay', 'alo', 'gray', 'hairs', 'solemnly', 'protest', 'fo', 'straitly', 'state', 'tenor', 'wor', 'blame', 'best', 'fruits', 'vessels', 'honey', 'spices', 'nuts', 'almon', 'double', 'oversig', 'dine', 'noon', 'bade', 'occasion', 'bondmen', 'sir', 'weig', 'Peace', 'treasure', 'sac', 'washed', 'welfare', 'health', 'gracious', 'yearn', 'sought', 'chamber', 'refrained', 'Set', 'abomination', 'marvelled', 'messes', 'mess', 'merry', 'Fill', 'overtake', 'rewarded', 'drinketh', 'divineth', 'forbid', 'mouths', 'blameless', 'speedily', 'younge', 'deed', 'divine', 'loveth', 'bondman', 'refrain', 'Cause', 'aloud', 'hith', 'earing', 'posterity', 'deliverance', 'Goshen', 'nourish', 'poverty', 'speaketh', 'Moreover', 'fame', 'co', 'lade', 'wagons', 'regard', 'commandment', 'To', 'changes', 'laden', 'fainted', 'reviv', 'sacrifices', 'visions', 'nati', 'aga', 'His', 'Phallu', 'Hezron', 'Carmi', 'Jemuel', 'Jamin', 'Ohad', 'Jachin', 'Shaul', 'Canaanitish', 'Gershon', 'Kohath', 'Merari', 'Zar', 'Hamul', 'Tola', 'Phuvah', 'Job', 'Shimron', 'Sered', 'Jahleel', 'Din', 'Ziphion', 'Haggi', 'Shuni', 'Ezbon', 'Eri', 'Arodi', 'Areli', 'Jimnah', 'Ishuah', 'Isui', 'Beriah', 'Serah', 'Heber', 'Malchiel', 'sixteen', 'Belah', 'Becher', 'Ashbel', 'Gera', 'Naaman', 'Ehi', 'Rosh', 'Muppim', 'Huppim', 'Ard', 'Hushim', 'Jahzeel', 'Guni', 'Jezer', 'Shillem', 'direct', 'presented', 'shepherds', 'occupation', 'fathe', 'shepherd', 'morever', 'pasture', 'activity', 'rulers', 'pilgrimage', 'attained', 'Rameses', 'nourished', 'boug', 'faileth', 'fail', 'exchange', 'horses', 'bodies', 'lan', 'desolate', 'priests', 'assigned', 'sow', 'increase', 'parts', 'saved', 'multiplied', 'nigh', 'bed', 'si', 'strengthened', 'issue', 'begettest', 'Padan', 'guiding', 'wittingly', 'Angel', 'redeemed', 'lads', 'remove', 'Not', 'Manass', 'last', 'excellency', 'dignity', 'pow', 'Unstable', 'excel', 'wentest', 'defiledst', 'couch', 'instruments', 'cruelty', 'secret', 'assembly', 'honour', 'unit', 'selfwill', 'wall', 'fierce', 'cru', 'lion', 'whelp', 'prey', 'stooped', 'couched', 'rouse', 'sceptre', 'lawgiver', 'Shiloh', 'Binding', 'foal', 'colt', 'teeth', 'haven', 'ships', 'Zidon', 'strong', 'couching', 'burdens', 'tribute', 'tribes', 'adder', 'path', 'biteth', 'horse', 'heels', 'rider', 'waited', 'salvation', 'overcome', 'royal', 'dainties', 'hind', 'loose', 'giveth', 'bough', 'run', 'wa', 'archers', 'sorely', 'arms', 'blessings', 'breasts', 'progenitors', 'utmost', 'hil', 'crown', 'ravin', 'wolf', 'devour', 'spoil', 'peop', 'purchase', 'commanding', 'yielded', 'physicians', 'embalm', 'embalmed', 'past', 'elders', 'chariots', 'horsemen', 'threshingfloor', 'Atad', 'lamentati', 'floor', 'Egyptia', 'Abelmizraim', 'requite', 'messenger', 'Forgive', 'forgive', 'meant', 'Machir', 'visit', 'coffin'])"
      ]
     },
     "execution_count": 189,
     "metadata": {},
     "output_type": "execute_result"
    }
   ],
   "source": [
    "#Printing the keys\n",
    "keys_of_most_freq_words3 = most_freq_words3.keys()\n",
    "keys_of_most_freq_words3"
   ]
  },
  {
   "cell_type": "markdown",
   "id": "a4dad59e",
   "metadata": {},
   "source": [
    "Both keys( ) and values( ) work with FreqDist( )."
   ]
  },
  {
   "cell_type": "markdown",
   "id": "0847060a",
   "metadata": {},
   "source": [
    "There are very informative words that appear once in a text. Those words are called hapaxes. Below are returned those that are in the book of Genesis. Note that \"Night\" appears once in Genesis. It is probably beacause \"Night\" is spelled with capitalized \"n\"."
   ]
  },
  {
   "cell_type": "code",
   "execution_count": 194,
   "id": "1d588036",
   "metadata": {},
   "outputs": [
    {
     "name": "stdout",
     "output_type": "stream",
     "text": [
      "['form', 'void', 'Day', 'Night', 'firmame', 'Heaven', 'appe', 'Earth', 'signs', 'seasons', 'lesser', 'nig', 'darkne', 'fly', 'whales', 'winged', 'seas', 'likene', 'subdue', 'finished', 'sanctified', 'plant', 'gr', 'mist', 'breathed', 'parted', 'Pison', 'bdellium', 'onyx', 'Gihon', 'Ethiopia', 'Hiddekel', 'Assyria', 'Euphrates', 'freely', 'eatest', 'sle', 'ribs', 'rib', 'Woman', 'Man', 'cleave', 'ashamed', 'subtil', 'gard', 'knowing', 'desired', 'sewed', 'fig', 'leaves', 'aprons', 'walking', 'cool', 'whereof', 'gavest', 'belly', 'enmity', 'conception', 'Thorns', 'thistles', 'sweat', 'tak', 'coats', 'clothed', 'Cherubims', 'flaming', 'tiller', 'firstlings', 'fallen', 'crieth', 'tillest', 'henceforth', 'punishment', 'driven', 'findeth', 'whosoever', 'slayeth', 'vengeance', 'mark', 'finding', 'Nod', 'Methusa', 'Methusael', 'Jabal', 'Jubal', 'handle', 'organ', 'instructor', 'artificer', 'brass', 'ir', 'Naamah', 'spee', 'wounding', 'avenged', 'En', 'book', 'Male', 'begotten', 'Eno', 'always', 'giants', 'renown', 'thoughts', 'repented', 'repenteth', 'just', 'corrupted', 'gopher', 'rooms', 'fashion', 'height', 'cubit', 'finish', 'lower', 'stories', 'fema', 'cause', 'bird', 'hills', 'Fifteen', 'upward', 'asswaged', 'Ararat', 'decreased', 'tops', 'ma', 'raven', 'fro', 'sole', 'olive', 'leaf', 'pluckt', 'twentieth', 'breed', 'kinds', 'offerings', 'sweet', 'savour', 'While', 'remaineth', 'seedtime', 'cold', 'summer', 'winter', 'cease', 'dread', 'fishes', 'liveth', 'Whoso', 'sheddeth', 'shed', 'perpetual', 'clo', 'overspread', 'husbandman', 'vineyard', 'drunken', 'uncovered', 'shoulders', 'enlarge', 'Magog', 'Madai', 'Tubal', 'Meshech', 'Tiras', 'Ashkenaz', 'Riphath', 'Togarmah', 'Elishah', 'Tarshish', 'Kittim', 'Dodanim', 'isles', 'Gentiles', 'tongue', 'Phut', 'Seba', 'Sabtah', 'Sabtech', 'Erech', 'Accad', 'Calneh', 'Resen', 'Ludim', 'Anamim', 'Lehabim', 'Naphtuhim', 'Pathrusim', 'Casluhim', 'Philistim', ',)', 'Caphtorim', 'Jebusite', 'Girgasite', 'Arkite', 'Sinite', 'Arvadite', 'Zemarite', 'Hamathite', 'Gaza', 'Zeboim', 'Lasha', 'Lud', 'Hul', 'Gether', 'Mash', 'Almodad', 'Sheleph', 'Hazarmaveth', 'Jerah', 'Hadoram', 'Uzal', 'Diklah', 'Obal', 'Abimael', 'Ophir', 'Mesha', 'Sephar', 'natio', 'thoroughly', 'slime', 'morter', 'reach', 'begin', 'imagined', 'flo', 'nineteen', 'nativity', 'Iscah', 'blessi', 'Sichem', 'Moreh', 'having', 'enter', 'commended', 'entreated', 'plagued', 'plagues', 'rich', 'journeys', 'fir', 'Perizzite', 'sinners', 'northward', 'southward', 'westwa', 'war', 'Bera', 'Birsha', 'Shinab', 'Shemeber', 'Twelve', 'thirteenth', 'rebelled', 'fourteenth', 'Ashteroth', 'Karnaim', 'Zuzims', 'Emins', 'Kiriathaim', 'Elparan', 'Enmishpat', 'Amalekites', 'Hazezontamar', ';)', 'battle', 'slimepits', 'victuals', 'escaped', 'An', 'confederate', 'armed', 'trained', 'eighteen', 'Hobah', 'slaughter', 'dale', 'Melchizedek', 'Salem', 'tithes', 'shoelatchet', 'ri', 'Save', 'Aner', 'vision', 'Abr', 'shield', 'reward', 'childless', 'Eliezer', 'Look', 'heifer', 'goat', 'turtledove', 'pigeon', 'piece', 'carcases', 'horror', 'dark', 'smoking', 'burning', 'lamp', 'Euphrat', 'Kenites', 'Kenizzites', 'Kadmonites', 'Hittites', 'Perizzites', 'Girgashites', 'Jebusites', 'beari', 'obtain', 'wrong', 'bosom', 'hardly', 'submit', 'wild', 'Beerlahairoi', 'Bered', 'Neither', 'circumcise', 'circumcis', 'beget', 'next', 'talking', 'thirteen', 'plains', 'tr', 'morsel', 'hearts', 'measures', 'meal', 'knead', 'cakes', 'hearth', 'herd', 'fetcht', 'butter', 'dressed', 'ceased', 'pleasure', 'too', 'At', 'denied', 'Seeing', 'justice', 'judgment', 'altogether', 'wick', 'Judge', 'sakes', 'ash', 'spe', 'communing', 'lords', 'ways', 'street', 'bake', 'unleavened', 'compassed', 'quart', 'wickedly', 'shadow', 'roof', 'Stand', 'fellow', 'jud', 'worse', 'blindness', 'wearied', 'waxen', 'married', 'mocked', 'merciful', 'Escape', 'stay', 'magnified', 'saving', '?)', 'anything', 'risen', 'rained', 'brimstone', 'gat', 'Zo', 'Our', 'morrow', 'Moabites', 'Benam', 'Ammon', 'Said', 'innocency', 'sinning', 'prophet', 'deeds', 'sawest', 'wander', 'thousand', 'oth', 'prayed', 'healed', 'fast', 'wombs', 'visited', 'suck', 'mocking', 'Cast', 'putting', 'wandered', 'shrubs', 'sh', 'aileth', 'archer', 'Paran', 'doe', 'falsely', 'violently', 'mean', 'grove', 'tempt', 'lovest', 'Moriah', 'offer', 'saddled', 'Abide', 'yonder', 'worship', 'order', 'Lay', 'fearest', 'thicket', 'hor', 'Jehovahjireh', 'sworn', 'multiplying', 'shore', 'Huz', 'Buz', 'Kemuel', 'Chesed', 'Hazo', 'Pildash', 'Jidlaph', 'Reumah', 'Tebah', 'Gaham', 'Thahash', 'Maachah', 'Kirjatharba', 'mourn', 'sojourner', 'sepulchres', 'withhold', 'sepulchre', 'intreat', 'weighed', 'current', 'merchant', 'Mam', 'ruled', 'Beware', 'oa', 'Mesopotamia', 'kneel', 'speed', 'thereby', 'giving', 'trough', 'wondering', 'wit', 'golden', 'half', 'shekel', 'destitute', 'tru', 'standest', 'ungirded', 'errand', 'Speak', 'Both', 'proceedeth', 'bowing', 'Rebek', 'precious', 'Hinder', 'prospered', 'thousands', 'millions', 'damsels', 'rode', 'meditate', 'eventide', 'coming', 'walketh', 'mast', 'Zimran', 'Medan', 'Ishbak', 'Asshurim', 'Letushim', 'Leummim', 'Ephah', 'Epher', 'Abidah', 'Eldaah', 'concubines', 'gifts', 'purchased', 'Kedar', 'Adbeel', 'Mibsam', 'Mishma', 'Dumah', 'Massa', 'Tema', 'Jetur', 'Naphish', 'Kedemah', 'towns', 'castles', 'Assyr', 'barr', 'struggled', 'boys', 'cunning', 'sod', 'Feed', 'Sell', 'point', 'lentiles', 'Sojourn', 'perform', 'commandments', 'statutes', 'laws', 'sporting', 'lightly', 'lien', 'guiltiness', 'toucheth', 'sowed', 'received', 'hundredfo', 'forward', 'mightier', 'springing', 'ou', 'Esek', 'Sitnah', 'Ahuzzath', 'friends', 'army', 'pea', 'betimes', 'Shebah', 'Judith', 'Beeri', 'Hitti', 'Which', 'grief', 'dea', 'weapons', 'quiver', 'hunt', 'seem', 'deceiver', 'Upon', 'ne', 'badest', 'sit', 'felt', 'discerned', 'han', 'Art', 'wi', 'blesseth', 'scarce', 'hunting', 'trembled', 'bitter', 'Bless', 'subtilty', 'rightly', 'supplanted', 'tim', 'reserved', 'sustained', 'yoke', 'wherewith', 'touching', 'purposing', 'fury', 'Until', 'deprived', 'weary', 'Mahalath', 'ladder', 'reached', 'heav', 'ascending', 'descending', 'whereon', 'liest', 'north', 'awaked', 'dreadful', 'vowed', 'floc', 'roll', 'tidings', 'nought', 'eyed', 'beautiful', 'better', 'Fulfil', 'Reub', 'judged', 'wrestlings', 'Happy', 'wheat', 'hired', 'maiden', 'husba', 'endued', 'afterwards', 'reproa', 'add', 'tar', 'learned', 'experience', 'Appoint', 'comi', 'removing', 'goa', 'poplar', 'hazel', 'chesnut', 'strakes', 'appear', 'watering', 'troughs', 'whensoever', 'feeble', 'feebler', 'deceived', 'speckl', 'leaped', 'grisled', 'leap', 'grisl', 'doeth', 'anointedst', 'vowedst', 'Are', 'quite', 'ours', 'getting', 'stole', 'mou', 'captives', 'secretly', 'mirth', 'songs', 'tabret', 'foolishly', 'longedst', 'force', 'findest', 'discern', 'furniture', 'displease', 'custom', 'chode', 'hotly', 'Whereas', 'loss', 'drought', 'frost', 'mi', 'Jegarsahadutha', 'Mizpah', 'watch', 'absent', 'harm', 'sacrifice', 'Mahanaim', 'womenservan', 'distressed', 'worthy', 'mercies', 'Deliver', 'Thirty', 'milch', 'colts', 'bulls', 'foals', 'Pass', 'meeteth', 'asketh', 'droves', 'appease', 'accept', 'ford', 'Jabbok', 'brook', 'breaking', 'joint', 'breaketh', 'Tell', 'ask', 'Peniel', 'preserved', 'Penuel', 'halted', 'hindermost', 'handmaidens', 'meanest', 'urged', 'knoweth', 'overdrive', 'lead', 'softly', 'endure', 'folk', 'needeth', 'booths', 'Shalem', 'parcel', 'erected', 'EleloheIsrael', 'commune', 'wrought', 'folly', 'longeth', 'marriages', 'Ask', 'gift', 'deceitfully', 'reproach', 'deferred', 'delight', 'honourable', 'peaceable', 'large', 'herein', 'boldly', 'males', 'edge', 'wealth', 'stink', 'Perizzit', 'Should', 'fleddest', 'change', 'garmen', 'earrings', 'oak', 'terror', 'pursue', 'Elbethel', 'Deborah', 'beneath', 'Allonbachuth', 'na', 'sto', 'departing', 'Beno', 'Edar', 'concubi', 'twel', 'Zebul', 'Arbah', 'Amal', 'Amalek', 'Kor', 'Horite', 'inhabited', 'Hemam', 'Alvan', 'Manahath', 'Ebal', 'Shepho', 'Onam', 'Ajah', 'mules', 'Hemdan', 'Eshban', 'Ithran', 'Cheran', 'Bilhan', 'Zaavan', 'Akan', 'Aran', 'Beor', 'Dinhabah', 'Bozrah', 'Temani', 'Bedad', 'Avith', 'Masrekah', 'Pau', 'Mehetabel', 'Matred', 'Mezahab', 'Timnah', 'Alvah', 'Jetheth', 'Elah', 'Pinon', 'Mibzar', 'Magdiel', 'Iram', 'possessi', 'feeding', 'wiv', 'report', 'peaceably', 'binding', 'upright', 'Shalt', 'reign', 'moon', 'observed', 'wandering', 'seekest', 'conspired', 'dreamer', 'Some', 'Shed', 'rid', 'stript', 'spicery', 'conceal', 'sell', 'content', 'merchantmen', 'killed', 'dipped', 'fou', 'doubt', 'sackcloth', 'Shel', 'Chezib', 'marry', 'raise', 'spilled', 'Remain', 'gro', 'sheepshearers', 'wrapped', 'grown', '.)', 'widowhood', 'openly', 'shamed', 'months', 'played', 'whoredom', 'chi', 'Discern', 'acknowledged', 'travail', 'breach', 'Zarah', 'person', 'wotteth', 'business', 'loud', 'voi', 'bou', 'doer', 'butlers', 'bakers', 'continued', 'season', 'sad', 'sadly', 'interpretations', 'belong', 'budded', 'blossoms', 'clusters', 'ripe', 'grapes', 'former', 'think', 'mention', 'dungeon', 'uppermost', 'bakemeats', 'hang', 'birthday', 'butlership', 'forgat', 'meadow', 'brink', 'slept', 'faults', 'bak', 'office', 'hastily', 'dunge', 'shaved', 'canst', 'bank', 'riv', 'mead', 'poor', 'badne', 'lean', 'withered', 'declare', 'sheweth', 'forgotten', 'consume', 'following', 'doubled', 'twice', 'shortly', 'appoint', 'perish', 'Can', 'Forasmuch', 'rul', 'throne', 'ring', 'arrayed', 'vestures', 'linen', 'chain', 'ride', 'Bow', 'kn', 'Zaphnathpaaneah', 'handfuls', 'citi', 'numbering', 'plenteousness', 'famished', 'storehouses', 'Whence', 'From', 'spi', 'y', 'pris', 'hous', 'verified', 'verily', 'guilty', 'anguish', 'besought', 'Spake', 'required', 'understood', 'espied', 'befell', 'traffick', 'bundle', 'bundles', 'Me', 'childr', 'Slay', 'alo', 'solemnly', 'protest', 'straitly', 'state', 'tenor', 'wor', 'fruits', 'vessels', 'honey', 'spices', 'nuts', 'almon', 'oversig', 'dine', 'bade', 'occasion', 'sir', 'weig', 'Peace', 'treasure', 'sac', 'welfare', 'health', 'gracious', 'yearn', 'sought', 'chamber', 'refrained', 'Set', 'marvelled', 'messes', 'mess', 'merry', 'Fill', 'overtake', 'rewarded', 'drinketh', 'divineth', 'mouths', 'blameless', 'speedily', 'younge', 'deed', 'divine', 'loveth', 'bondman', 'refrain', 'Cause', 'aloud', 'hith', 'earing', 'posterity', 'deliverance', 'poverty', 'speaketh', 'fame', 'co', 'lade', 'regard', 'commandment', 'To', 'reviv', 'sacrifices', 'visions', 'nati', 'aga', 'Phallu', 'Carmi', 'Jemuel', 'Jamin', 'Ohad', 'Jachin', 'Shaul', 'Canaanitish', 'Gershon', 'Kohath', 'Merari', 'Zar', 'Hamul', 'Tola', 'Phuvah', 'Job', 'Shimron', 'Sered', 'Jahleel', 'Din', 'Ziphion', 'Haggi', 'Shuni', 'Ezbon', 'Eri', 'Arodi', 'Areli', 'Jimnah', 'Ishuah', 'Isui', 'Serah', 'Heber', 'Malchiel', 'sixteen', 'Belah', 'Becher', 'Ashbel', 'Gera', 'Naaman', 'Ehi', 'Rosh', 'Muppim', 'Huppim', 'Ard', 'Hushim', 'Jahzeel', 'Guni', 'Jezer', 'Shillem', 'direct', 'fathe', 'morever', 'pasture', 'activity', 'rulers', 'attained', 'Rameses', 'nourished', 'boug', 'faileth', 'fail', 'exchange', 'horses', 'bodies', 'lan', 'desolate', 'assigned', 'sow', 'increase', 'parts', 'saved', 'multiplied', 'nigh', 'si', 'strengthened', 'issue', 'begettest', 'Padan', 'guiding', 'wittingly', 'Angel', 'redeemed', 'lads', 'remove', 'Not', 'Manass', 'dignity', 'pow', 'Unstable', 'excel', 'wentest', 'defiledst', 'couch', 'instruments', 'cruelty', 'secret', 'assembly', 'honour', 'unit', 'selfwill', 'wall', 'fierce', 'cru', 'whelp', 'stooped', 'couched', 'rouse', 'sceptre', 'lawgiver', 'Shiloh', 'Binding', 'foal', 'colt', 'teeth', 'ships', 'Zidon', 'couching', 'burdens', 'tribute', 'adder', 'path', 'biteth', 'horse', 'heels', 'rider', 'waited', 'salvation', 'royal', 'dainties', 'hind', 'loose', 'giveth', 'run', 'wa', 'archers', 'sorely', 'arms', 'breasts', 'progenitors', 'utmost', 'hil', 'crown', 'ravin', 'wolf', 'devour', 'spoil', 'peop', 'purchase', 'commanding', 'yielded', 'past', 'chariots', 'horsemen', 'threshingfloor', 'lamentati', 'floor', 'Egyptia', 'Abelmizraim', 'requite', 'messenger', 'Forgive', 'forgive', 'meant', 'Machir', 'coffin']\n"
     ]
    }
   ],
   "source": [
    "#Printing words appears once time\n",
    "print(most_freq_words3.hapaxes())"
   ]
  },
  {
   "cell_type": "code",
   "execution_count": 193,
   "id": "fdb97f57",
   "metadata": {},
   "outputs": [
    {
     "data": {
      "text/plain": [
       "1195"
      ]
     },
     "execution_count": 193,
     "metadata": {},
     "output_type": "execute_result"
    }
   ],
   "source": [
    "#Printing the number of hapaxes\n",
    "len(most_freq_words3.hapaxes())"
   ]
  },
  {
   "cell_type": "markdown",
   "id": "70dedcba",
   "metadata": {},
   "source": [
    "# Fine-grained selection of words"
   ]
  },
  {
   "cell_type": "markdown",
   "id": "f4b140d6",
   "metadata": {},
   "source": [
    "Another good possibility is to know the main content of the text by its long words. Long words can be kind of rare and can convey important informations about the content of a text.\n",
    "\n",
    "For that, observe this mathematical notation:\n",
    "\n",
    "P: words that have more than 14 characters;\n",
    "\n",
    "P(w) is true if and only if w is more than 14 characters long;\n",
    "\n",
    "V: Vocabulary;\n",
    "\n",
    "a. {w | w E V & P(w)}\n",
    "\n",
    "b. [w for w in V if P(w)]"
   ]
  },
  {
   "cell_type": "markdown",
   "id": "144921f9",
   "metadata": {},
   "source": [
    "Applying that mathematical notation, the words below are returned."
   ]
  },
  {
   "cell_type": "code",
   "execution_count": 203,
   "id": "0aa0c0f2",
   "metadata": {},
   "outputs": [
    {
     "name": "stdout",
     "output_type": "stream",
     "text": [
      "['Abelmizraim', 'Adullamite', 'Aholibamah', 'Allonbachuth', 'Amalekites', 'Beerlahairoi', 'Canaanites', 'Canaanitish', 'Chedorlaomer', 'EleloheIsrael', 'Girgashites', 'Hazarmaveth', 'Hazezontamar', 'Ishmeelites', 'Jegarsahadutha', 'Jehovahjireh', 'Kadmonites', 'Kenizzites', 'Kiriathaim', 'Kirjatharba', 'Mahalaleel', 'Melchizedek', 'Mesopotamia', 'Methuselah', 'Midianites', 'Peradventure', 'Perizzites', 'Philistines', 'Potipherah', 'Zaphnathpaaneah', 'abomination', 'abundantly', 'acknowledged', 'affliction', 'afterwards', 'altogether', 'anointedst', 'birthright', 'buryingplace', 'butlership', 'circumcise', 'circumcised', 'commanding', 'commandment', 'commandments', 'compasseth', 'conception', 'concerning', 'concubines', 'confederate', 'continually', 'countenance', 'deceitfully', 'deliverance', 'descending', 'displeased', 'distressed', 'established', 'everlasting', 'exceedingly', 'excellency', 'experience', 'fatfleshed', 'firstlings', 'fourteenth', 'generation', 'generations', 'graciously', 'guiltiness', 'habitations', 'handmaidens', 'henceforth', 'hindermost', 'honourable', 'households', 'husbandman', 'imagination', 'inhabitants', 'inheritance', 'instructor', 'instruments', 'interpretation', 'interpretations', 'interpreted', 'interpreter', 'leanfleshed', 'maidservants', 'menservants', 'merchantmen', 'messengers', 'multiplied', 'multiplying', 'occupation', 'overspread', 'peradventure', 'physicians', 'pilgrimage', 'plenteousness', 'possession', 'possessions', 'proceedeth', 'progenitors', 'prosperous', 'punishment', 'remembered', 'restrained', 'righteousness', 'ringstraked', 'sacrifices', 'sanctified', 'sepulchres', 'seventeenth', 'sheepshearers', 'shoelatchet', 'storehouses', 'strengthened', 'supplanted', 'themselves', 'thirteenth', 'thoroughly', 'threescore', 'threshingfloor', 'throughout', 'turtledove', 'uncircumcised', 'understand', 'understood', 'unleavened', 'whatsoever', 'whensoever', 'whomsoever', 'wickedness', 'wilderness', 'womenservan', 'womenservants', 'worshipped', 'wrestlings', 'yesternight', 'yourselves']\n"
     ]
    }
   ],
   "source": [
    "#Oparating the notation\n",
    "V = set(text3) #Storing distinct words of the book of Genesis\n",
    "expected_long_words = [w for w in V if len(w) > 9] #Storting words that have more than 10 characters\n",
    "print(sorted(expected_long_words)) #Sorting the derived list"
   ]
  },
  {
   "cell_type": "markdown",
   "id": "543a8d8f",
   "metadata": {},
   "source": [
    "those words features in parts the book of Genesis. Note some words:\n",
    "\n",
    "circumcised, commanding, commandment, commandments, concubines, generation, generations, habitations, imagination, inhabitants, interpretation, interpretations, interpreted, interpreter and pilgrimage. \n",
    "\n",
    "They are words with a relationship degree."
   ]
  },
  {
   "cell_type": "code",
   "execution_count": 204,
   "id": "9d561f82",
   "metadata": {},
   "outputs": [
    {
     "data": {
      "text/plain": [
       "139"
      ]
     },
     "execution_count": 204,
     "metadata": {},
     "output_type": "execute_result"
    }
   ],
   "source": [
    "#Number of words derived from original text\n",
    "len((sorted(expected_long_words)))"
   ]
  },
  {
   "cell_type": "markdown",
   "id": "0bdab109",
   "metadata": {},
   "source": [
    "According to returned above, the number of long words that meet the criterion is 139."
   ]
  },
  {
   "cell_type": "markdown",
   "id": "3200fa1f",
   "metadata": {},
   "source": [
    "Looking for large words is not always enough. Adding frequency to that criterion can be a good method of chategorizing text."
   ]
  },
  {
   "cell_type": "code",
   "execution_count": 264,
   "id": "85a167c6",
   "metadata": {},
   "outputs": [
    {
     "name": "stdout",
     "output_type": "stream",
     "text": [
      "['Abimelech', 'Abraham', 'Abram', 'Behold', 'Benjamin', 'Canaan', 'Egypt', 'Isaac', 'Ishmael', 'Israel', 'Jacob', 'Joseph', 'Judah', 'Laban', 'Pharaoh', 'Rachel', 'Rebekah', 'Sarah', 'Sarai', 'Shechem', 'Sodom', 'These', 'according', 'after', 'again', 'against', 'among', 'answered', 'beast', 'because', 'before', 'begat', 'behold', 'between', 'bless', 'blessed', 'bread', 'brethren', 'bring', 'brother', 'brought', 'called', 'camels', 'cattle', 'children', 'commanded', 'conceived', 'covenant', 'daughter', 'daughters', 'dream', 'drink', 'dwell', 'dwelt', 'earth', 'every', 'famine', 'father', 'field', 'firstborn', 'flesh', 'flocks', 'forth', 'found', 'given', 'great', 'ground', 'hands', 'heard', 'heaven', 'himself', 'house', 'hundred', 'little', 'lived', 'master', 'money', 'morning', 'mother', 'multiply', 'nations', 'night', 'people', 'place', 'returned', 'saying', 'servant', 'servants', 'seven', 'shall', 'shalt', 'sheep', 'should', 'sight', 'sister', 'spake', 'stood', 'taken', 'their', 'thence', 'there', 'therefore', 'these', 'thine', 'thing', 'thirty', 'three', 'toward', 'under', 'until', 'voice', 'water', 'waters', 'where', 'which', 'wives', 'woman', 'words', 'years']\n"
     ]
    }
   ],
   "source": [
    "freqdist = FreqDist(text3) #Defining a dictionary where the words are keys and the values are their frequencies\n",
    "print(sorted([w for w in V if len(w) > 4 and freqdist[w] > 16])) \n",
    "            #Variable w gets V if and only if number of characters of w is more than 4 and its frequency is more than 16"
   ]
  },
  {
   "cell_type": "markdown",
   "id": "5ae9de9e",
   "metadata": {},
   "source": [
    "That instruction returns many people's names, nations, ethnicities, some foods and drinks, time."
   ]
  }
 ],
 "metadata": {
  "kernelspec": {
   "display_name": "Python 3",
   "language": "python",
   "name": "python3"
  },
  "language_info": {
   "codemirror_mode": {
    "name": "ipython",
    "version": 3
   },
   "file_extension": ".py",
   "mimetype": "text/x-python",
   "name": "python",
   "nbconvert_exporter": "python",
   "pygments_lexer": "ipython3",
   "version": "3.8.8"
  }
 },
 "nbformat": 4,
 "nbformat_minor": 5
}
