{
 "cells": [
  {
   "cell_type": "markdown",
   "id": "e027e78d",
   "metadata": {},
   "source": [
    "# Some word comparison operators"
   ]
  },
  {
   "cell_type": "markdown",
   "id": "f67604e6",
   "metadata": {},
   "source": [
    "There are some conditional operators to use in NLP in addition to the conventonal ones - >, =, <, >=, <=, and, or. Those conditions are related to the proper text, word, string. What I want to say is that we may want to kwnow words that have a specific character such as 'gr', 'b', 'less'.\n",
    "\n",
    "The function startswith( ) returns strings/tokens/words that starts with a set of specific characters."
   ]
  },
  {
   "cell_type": "code",
   "execution_count": 38,
   "id": "56a8817e",
   "metadata": {},
   "outputs": [
    {
     "name": "stdout",
     "output_type": "stream",
     "text": [
      "['grievous', 'grave', 'grief', 'ground', 'gro', 'green', 'grieved', 'grove', 'gray', 'grew', 'grisl', 'grass', 'gracious', 'gre', 'greater', 'grace', 'great', 'greatly', 'gr', 'grap', 'grisled', 'grapes', 'graciously', 'grown', 'grow']\n"
     ]
    }
   ],
   "source": [
    "#Verifiyng if a given word starts with a target alphabet\n",
    "print([word for word in set(text3) if word.startswith('gr')])"
   ]
  },
  {
   "cell_type": "markdown",
   "id": "452ca02d",
   "metadata": {},
   "source": [
    "I defined that I would want just strings that have 'gr'."
   ]
  },
  {
   "cell_type": "code",
   "execution_count": 39,
   "id": "1dfb6405",
   "metadata": {},
   "outputs": [
    {
     "name": "stdout",
     "output_type": "stream",
     "text": [
      "[]\n"
     ]
    }
   ],
   "source": [
    "#Verifiyng if a given word starts with a target alphabet\n",
    "print([word for word in set(text3) if word.startswith('Gr')])"
   ]
  },
  {
   "cell_type": "markdown",
   "id": "4347600c",
   "metadata": {},
   "source": [
    "Observing above, we can note that the function is key sentive, as Python is."
   ]
  },
  {
   "cell_type": "markdown",
   "id": "ea7b2ccd",
   "metadata": {},
   "source": [
    "We can also verify the ends of a word."
   ]
  },
  {
   "cell_type": "code",
   "execution_count": 41,
   "id": "dbac920a",
   "metadata": {},
   "outputs": [
    {
     "name": "stdout",
     "output_type": "stream",
     "text": [
      "['childless', 'bless', 'Bless', 'blameless']\n"
     ]
    }
   ],
   "source": [
    "#Verifiyng if a given word ends with a target alphabet\n",
    "print([word for word in set(text3) if word.endswith('less')])"
   ]
  },
  {
   "cell_type": "markdown",
   "id": "348cbbb1",
   "metadata": {},
   "source": [
    "However, maybe we don't want to know only words that starts or ends with a target alphabet, but also those words can have the target alphabet in any position of them. For that, we can use this programming:"
   ]
  },
  {
   "cell_type": "code",
   "execution_count": 42,
   "id": "58009fb2",
   "metadata": {},
   "outputs": [
    {
     "name": "stdout",
     "output_type": "stream",
     "text": [
      "['childless', 'bless', 'blessing', 'Blessed', 'Bless', 'blessings', 'blessi', 'blesseth', 'blameless', 'lesser', 'blessed']\n"
     ]
    }
   ],
   "source": [
    "#Verifying what words have the term less in any position of them\n",
    "print([term for term in set(text3) if 'less' in term])"
   ]
  },
  {
   "cell_type": "markdown",
   "id": "45f12fda",
   "metadata": {},
   "source": [
    "To encounter words that start with capital letter, we can use this method:"
   ]
  },
  {
   "cell_type": "code",
   "execution_count": 51,
   "id": "6d95d025",
   "metadata": {},
   "outputs": [
    {
     "name": "stdout",
     "output_type": "stream",
     "text": [
      "['Penuel', 'Eri', 'Malchiel', 'Luz', 'These', 'Reuel', 'Aran', 'Anah', 'Amalek', 'Salem', 'Mesopotamia', 'Mishma', 'Mibsam', 'Girgashites', 'Issachar', 'Lahairoi', 'Pass', 'And', 'Asher', 'Naaman', 'Should', 'Timnah', 'Onam', 'Abide', 'Zohar', 'Havilah', 'He', 'Beware', 'Shillem', 'Assyria', 'A', 'Which', 'Here', 'Kenizzites', 'Hittite', 'The', 'Hazarmaveth', 'An', 'Tubal', 'Heber', 'Whoso', 'Mam', 'Javan', 'Bered', 'Some', 'Zerah', 'Canaanitish', 'Enos', 'Dumah', 'Nahath', 'Pildash', 'While', 'Wherefore', 'Abel', 'En', 'Naphtuhim', 'Saul', 'Belah', 'Elparan', 'Levi', 'Sarai', 'Esau', 'Sabtech', 'Kedemah', 'Peace', 'Teman', 'Zibeon', 'Reuben', 'Perizzite', 'Hebrew', 'Neither', 'Shed', 'Speak', 'When', 'Abelmizraim', 'Sephar', 'Epher', 'Thy', 'Drink', 'Reub', 'Judge', 'Ebal', 'Beno', 'Gad', 'Damascus', 'Nahor', 'Zemarite', 'Zeboim', 'Hemdan', 'Arkite', 'Hadar', 'Mibzar', 'Only', 'Serah', 'Jac', 'Mash', 'Hirah', 'Raamah', 'Seba', 'Elam', 'Duke', 'Shinab', 'Yet', 'Gatam', 'Pathrusim', 'Swear', 'Is', 'Zarah', 'Lest', 'Deborah', 'My', 'Aholibamah', 'Jehovahjireh', 'Nebajoth', 'Shuah', 'Be', 'Resen', 'Save', 'Peleg', 'Phallu', 'Diklah', 'Night', 'Pau', 'Thahash', 'Blessed', 'Tubalcain', 'Come', 'Jabal', 'Why', 'Send', 'Amorites', 'So', 'Wilt', 'Riphath', 'O', 'Adah', 'Hagar', 'Alvan', 'I', 'Hast', 'Lotan', 'Sichem', 'Er', 'Ephah', 'Achbor', 'Joseph', 'Ithran', 'Unto', 'Cheran', 'Cherubims', 'Bedad', 'Uzal', 'Nimrod', 'Ashteroth', 'Bless', 'Ephra', 'Kirjatharba', 'Jebusites', 'Peradventure', 'Hittites', 'Kor', 'Pinon', 'Jaalam', 'Noah', 'Aram', 'It', 'Say', 'Seeing', 'Spake', 'Happy', 'Now', 'Amal', 'Judith', 'Eden', 'Tola', 'Salah', 'Jubal', 'Me', 'Machir', 'Almighty', 'Jobab', 'Husham', 'Hori', 'Eliphaz', 'Kittim', 'Of', 'Arbah', 'Jetur', 'Bethel', 'Nay', 'Our', 'Emins', 'Bethuel', 'Kadesh', 'Zimran', 'Shiloh', 'Have', 'Onan', 'Carmi', 'Gerar', 'Assyr', 'Kiriathaim', 'That', 'Leummim', 'Set', 'Ephrath', 'Naphish', 'Jahzeel', 'Edar', 'Manass', 'Tiras', 'Jegarsahadutha', 'With', 'Adbeel', 'Return', 'Galeed', 'This', 'Potiphar', 'Merari', 'Slay', 'Joktan', 'Massa', 'Methusael', 'Sabtah', 'Hamul', 'Rosh', 'Lasha', 'Leah', 'Hitti', 'Bozrah', 'Angel', 'Zaphnathpaaneah', 'We', 'Mizraim', 'Abimael', 'But', 'Cush', 'Lo', 'Kemuel', 'Egyptian', 'Akan', 'Egypt', 'Dishon', 'Look', 'Manasseh', 'Kenites', 'Medan', 'Adam', 'Obal', 'Ephron', 'Syrian', 'Dedan', 'Moreh', 'Thou', 'Zebul', 'Forasmuch', 'Both', 'Mizz', 'Eliezer', 'Dothan', 'Tamar', 'Canaanite', 'Abrah', 'How', 'Let', 'Yea', 'Do', 'Jamin', 'Shechem', 'Japhe', 'Kadmonites', 'If', 'Gether', 'Arodi', 'Remain', 'Go', 'Perizzit', 'Caphtorim', 'Forgive', 'Midianites', 'Japheth', 'Rachel', 'Ask', 'She', 'Ishuah', 'They', 'Phichol', 'Irad', 'Ellasar', 'Zuzims', 'Erech', 'His', 'Bera', 'Shebah', 'Gera', 'Karnaim', 'Arise', 'Mamre', 'For', 'Until', 'Calah', 'Timna', 'Cana', 'Beriah', 'Beeri', 'Rameses', 'Beersheba', 'Allonbachuth', 'Ham', 'Ard', 'Ethiopia', 'Bethlehem', 'Hul', 'Hadad', 'Ishmeelites', 'Cause', 'Admah', 'Arphaxad', 'Mahanaim', 'Sell', 'Thus', 'Out', 'Where', 'Dinah', 'Midian', 'Manahath', 'Huz', 'Are', 'Am', 'Iram', 'Hebrews', 'Ehi', 'Elah', 'Man', 'Gomorrah', 'Shimron', 'Anamim', 'Said', 'Jahleel', 'Judah', 'Edomites', 'Canaan', 'Sojourn', 'Methusa', 'Magog', 'Letushim', 'Art', 'Phut', 'Es', 'Shalt', 'Sered', 'Fifteen', 'Zo', 'Seir', 'Job', 'Jeush', 'Avith', 'Jacob', 'Oh', 'Also', 'Amalekites', 'Matred', 'All', 'Muppim', 'To', 'Heth', 'Ammon', 'Seth', 'Machpelah', 'Terah', 'Egyptia', 'Horites', 'Chesed', 'Rehoboth', 'Deliver', 'Hamor', 'Ashkenaz', 'Moabites', 'Elon', 'Jemuel', 'Enoch', 'Whose', 'Togarmah', 'Pharez', 'Make', 'Keturah', 'Earth', 'Escape', 'Beerlahairoi', 'Melchizedek', 'Whereas', 'Omar', 'Naamah', 'Who', 'Moreover', 'Babel', 'On', 'Simeon', 'Dishan', 'Eshcol', 'As', 'Mehetabel', 'Binding', 'Sod', 'Eve', 'Discern', 'Ohad', 'Edom', 'Methuselah', 'Zaavan', 'See', 'Rebek', 'Bilhah', 'Hear', 'Shaveh', 'Feed', 'At', 'Moab', 'Zidon', 'Eber', 'Dan', 'Mehujael', 'Can', 'Rebekah', 'Amraphel', 'Unstable', 'Haggi', 'Chedorlaomer', 'Arvadite', 'Asshur', 'Cainan', 'Sitnah', 'Zebulun', 'Tebah', 'Mesha', 'Philistim', 'Goshen', 'Cast', 'Ziphion', 'Upon', 'Shalem', 'Adullamite', 'Zillah', 'Baalhanan', 'Maachah', 'Benjamin', 'Ishmael', 'Naphtali', 'Jordan', 'Asenath', 'G', 'Zilpah', 'Eldaah', 'Whence', 'Perizzites', 'Not', 'Shuni', 'Becher', 'Hobah', 'Day', 'Sodom', 'Uz', 'Jidlaph', 'Stand', 'Arioch', 'Dinhabah', 'Jabbok', 'Kenaz', 'Hezron', 'Get', 'Hushim', 'Sinite', 'Benam', 'Chaldees', 'Cain', 'Hazo', 'Lie', 'Jimnah', 'Bring', 'Shur', 'Padanaram', 'Shel', 'Girgasite', 'Enmishpat', 'Bilhan', 'Potipherah', 'Timnath', 'Ophir', 'Surely', 'Egy', 'Bela', 'Nod', 'Canaanites', 'Shinar', 'Eno', 'Abidah', 'Hereby', 'Hiddekel', 'Kedar', 'Lift', 'Almodad', 'Sheleph', 'Shall', 'Philistines', 'Succoth', 'Behold', 'Horite', 'After', 'Atad', 'Fear', 'Sarah', 'Tema', 'Hinder', 'Buz', 'Sheba', 'Masrekah', 'Lamech', 'Because', 'There', 'Alvah', 'God', 'Shelah', 'Know', 'Rephaims', 'Ajah', 'Shepho', 'Serug', 'Calneh', 'Ludim', 'Then', 'Hemam', 'Korah', 'Except', 'Two', 'Shammah', 'Spirit', 'Laban', 'Reumah', 'Jachin', 'In', 'Mahalaleel', 'Elishah', 'Appoint', 'Isa', 'Se', 'Isaac', 'Isra', 'Zar', 'Abraham', 'Tidal', 'Hebron', 'Peniel', 'Reu', 'Moriah', 'Areli', 'Isui', 'Bow', 'Kohath', 'Bashemath', 'Thirty', 'Mezahab', 'Milcah', 'Nineveh', 'Elbethel', 'Fill', 'Gihon', 'Ur', 'Jezer', 'Magdiel', 'Tarshish', 'Mizpah', 'Shemeber', 'Hai', 'Ezer', 'Padan', 'Iscah', 'Haran', 'Give', 'Temani', 'Euphrat', 'Heaven', 'Tell', 'Hamathite', 'Phuvah', 'Haste', 'Shaul', 'Male', 'Abr', 'Lot', 'Dodanim', 'Twelve', 'Sidon', 'Abram', 'Din', 'Even', 'Aner', 'Meshech', 'Ahuzzath', 'Euphrates', 'Jetheth', 'Asshurim', 'Ye', 'Casluhim', 'Siddim', 'Madai', 'Hanoch', 'Ararat', 'Ishbak', 'What', 'Paran', 'Gilead', 'Gaza', 'Fulfil', 'Lud', 'Zeboiim', 'Lehabim', 'Guni', 'Huppim', 'Eshban', 'Hadoram', 'By', 'Pharaoh', 'Zoar', 'Israel', 'Gershon', 'Ashbel', 'Thorns', 'Shem', 'Every', 'Phara', 'Accad', 'Hivite', 'Take', 'Hazezontamar', 'Jared', 'Birsha', 'Ezbon', 'Cursed', 'Gather', 'Mahalath', 'Woman', 'Zepho', 'Therefore', 'Gomer', 'Samlah', 'Egyptians', 'Shobal', 'Ephraim', 'Gentiles', 'Gaham', 'Jerah', 'Pison', 'Beor', 'From', 'Chezib', 'Amorite', 'Lay', 'Put', 'Jokshan', 'Esek', 'Abimelech', 'Up', 'Jebusite']\n"
     ]
    }
   ],
   "source": [
    "#Searching words that have initial capitals\n",
    "print([item for item in set(text3) if item.istitle()])"
   ]
  },
  {
   "cell_type": "markdown",
   "id": "a3547ef5",
   "metadata": {},
   "source": [
    "# Transforming elements of a text"
   ]
  },
  {
   "cell_type": "markdown",
   "id": "af71abdc",
   "metadata": {},
   "source": [
    "We can transform words while processing them."
   ]
  },
  {
   "cell_type": "code",
   "execution_count": 54,
   "id": "10e1d0d8",
   "metadata": {},
   "outputs": [
    {
     "name": "stdout",
     "output_type": "stream",
     "text": [
      "[6, 3, 4, 4, 3, 5, 6, 8, 3, 4]\n"
     ]
    }
   ],
   "source": [
    "#Returing the number of characters of each element in a text\n",
    "print([len(word) for word in set(text3)][:10])"
   ]
  },
  {
   "cell_type": "markdown",
   "id": "79edfc8b",
   "metadata": {},
   "source": [
    "Above, I transformed strings into number of their characters."
   ]
  },
  {
   "cell_type": "code",
   "execution_count": 79,
   "id": "f1afd77b",
   "metadata": {},
   "outputs": [
    {
     "name": "stdout",
     "output_type": "stream",
     "text": [
      "['SEEM', 'GOLD', 'THEM', 'ARAN', 'ANAH', 'MOCK', 'PASS', 'HEAR', 'NUTS', 'PREY']\n"
     ]
    }
   ],
   "source": [
    "#Returning brief words as uppercase words\n",
    "print([word.upper() for word in set(text3) if len(word) == 4][:10])"
   ]
  },
  {
   "cell_type": "markdown",
   "id": "46da5107",
   "metadata": {},
   "source": [
    "Above, I transformed the first ten strings that have only four characters into uppercase words."
   ]
  },
  {
   "cell_type": "code",
   "execution_count": 80,
   "id": "5741bca3",
   "metadata": {},
   "outputs": [
    {
     "name": "stdout",
     "output_type": "stream",
     "text": [
      "['penuel', 'eri', 'malchiel', 'luz', 'these', 'reuel', 'aran', 'anah', 'amalek', 'salem']\n"
     ]
    }
   ],
   "source": [
    "#Returning brief words that starts with initial capital as lowecase\n",
    "print([word.lower() for word in set(text3) if word.istitle()][:10])"
   ]
  },
  {
   "cell_type": "markdown",
   "id": "37b22255",
   "metadata": {},
   "source": [
    "Above, I transformed the first ten strings that start with capital letter into lowercase words."
   ]
  }
 ],
 "metadata": {
  "kernelspec": {
   "display_name": "Python 3",
   "language": "python",
   "name": "python3"
  },
  "language_info": {
   "codemirror_mode": {
    "name": "ipython",
    "version": 3
   },
   "file_extension": ".py",
   "mimetype": "text/x-python",
   "name": "python",
   "nbconvert_exporter": "python",
   "pygments_lexer": "ipython3",
   "version": "3.8.8"
  }
 },
 "nbformat": 4,
 "nbformat_minor": 5
}
